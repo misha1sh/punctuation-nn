{
 "cells": [
  {
   "cell_type": "code",
   "execution_count": 4,
   "id": "cb5d6f9f-0bcc-466a-b38f-85b3117fcab7",
   "metadata": {
    "tags": []
   },
   "outputs": [],
   "source": [
    "import imports\n",
    "import importlib\n",
    "importlib.reload(imports)\n",
    "from imports import *\n",
    "\n",
    "# torch.cuda.is_available(), torch.rand(1).to('cuda:0')"
   ]
  },
  {
   "cell_type": "code",
   "execution_count": 4,
   "id": "bfe51109-beb5-4584-884d-dafcab7b3722",
   "metadata": {
    "tags": []
   },
   "outputs": [
    {
     "data": {
      "text/plain": [
       "{'nothing': 0,\n",
       " 'REPLACE_UNDEF': 1,\n",
       " 'INCORRECT_PUNCT_RANDOM_PLACE': 2,\n",
       " 'INCORRECT_PUNCT_CENTER': 3,\n",
       " 'CORRECT_PUNCT_CENTER': 4,\n",
       " 'CORRECT_PUNCT_RIGHT': 5}"
      ]
     },
     "execution_count": 4,
     "metadata": {},
     "output_type": "execute_result"
    }
   ],
   "source": [
    " params['INFECT_TYPE_TO_ID']"
   ]
  },
  {
   "cell_type": "code",
   "execution_count": 10,
   "id": "736e6977-5fd9-4e50-80c6-d14883a206dd",
   "metadata": {},
   "outputs": [
    {
     "name": "stdout",
     "output_type": "stream",
     "text": [
      "cut;model;f-score;f-score_space;f-score_comma;f-score_dot;precision_space;precision_comma;precision_dot;recall_space;recall_comma;recall_dot\n"
     ]
    }
   ],
   "source": [
    "from expriments_for_vkr import *\n",
    "from repr import Model\n",
    "import reprlib\n",
    "setattr(reprlib, \"Model\", Model)\n",
    "\n",
    "print('cut;model;f-score;f-score_space;f-score_comma;f-score_dot;'\n",
    "     'precision_space;precision_comma;precision_dot;'\n",
    "     'recall_space;recall_comma;recall_dot')\n",
    "\n",
    "def f(x):\n",
    "    return \"{:.3f}\".format(x) # .replace(\".\", \",\")\n",
    "\n",
    "def ff(x):\n",
    "    return \";\".join(map(f, x))\n",
    "\n",
    "def run_valid(ccut, prefix):\n",
    "        with open(f\"{prefix}/some_model_CLASS.dill\", \"rb\") as file:\n",
    "            Model = dill.load(file)\n",
    "        setattr(reprlib, \"Model\", Model)\n",
    "\n",
    "        # model = torch.load(f\"{prefix}/some_model.pt\", map_location=torch.device('cpu')) #).v1\", map_location=torch.device('cuda:0'))\n",
    "        model = torch.load(f\"{prefix}/some_model.pt\", map_location=torch.device('cuda:0'))\n",
    "        # print(model)\n",
    "        with open(f\"{prefix}/storage_path.dill\", \"rb\") as file:\n",
    "            storage_path = dill.load(file)\n",
    "        with open(f\"{prefix}/is_infected_test.dill\", \"rb\") as file:\n",
    "            is_infected = dill.load(file)\n",
    "\n",
    "        storage = Storage(str(storage_path), enable_watcher=False)\n",
    "        params = storage.get_meta(\"params\")\n",
    "        is_infected = storage.get_meta(\"is_infected_test\")\n",
    "            \n",
    "        if ccut == 'all':\n",
    "            cut = is_infected != -1\n",
    "        else:\n",
    "            cut = is_infected == params['INFECT_TYPE_TO_ID'][ccut]\n",
    "        x_test = storage.get_meta(\"x_test\").float()[cut]\n",
    "        y_test = storage.get_meta(\"y_test\").float()[cut]\n",
    "        text_res = storage.get_meta(\"text_res_test\")\n",
    "\n",
    "        with torch.no_grad():\n",
    "            model.eval()\n",
    "            model.cuda()\n",
    "            x_test_cuda = x_test.cuda()\n",
    "            \n",
    "            y_test_pred = []\n",
    "            for x in torch.split(x_test_cuda, x_test_cuda.shape[0] // 10):\n",
    "                y_test_pred.append(model(x))\n",
    "            y_test_pred = torch.cat(y_test_pred)\n",
    "            \n",
    "            _, y_pred_tags = torch.max(y_test_pred, dim = 1)\n",
    "            y_pred_ = y_pred_tags.cpu().numpy()\n",
    "            _, y_test_tags = torch.max(y_test, dim = 1)\n",
    "            y_test_ = y_test_tags.cpu().numpy()\n",
    "        del model\n",
    "\n",
    "        import pandas as pd\n",
    "        import seaborn as sns\n",
    "        from sklearn.metrics import confusion_matrix, f1_score, precision_score, recall_score\n",
    "\n",
    "\n",
    "        print(ccut + \";\" + prefix, end=';')\n",
    "        print(f(f1_score(y_test_, y_pred_, average='micro')), end=';')\n",
    "        print(ff(f1_score(y_test_, y_pred_, average=None)), end=';')\n",
    "        print(ff(precision_score(y_test_, y_pred_, average=None)), end=';')\n",
    "        print(ff(recall_score(y_test_, y_pred_, average=None)), end='')\n",
    "        print()\n",
    "        \n",
    "        del x_test_cuda\n",
    "        del y_test_pred\n",
    "        del y_pred_tags\n",
    "        import gc\n",
    "        gc.collect()\n",
    "        \n",
    "# for ccut in ['all', 'nothing']:\n",
    "#     for prefix in [\"results_final1_linear_model\", \"results_final2_lstm_model\",\n",
    "#                    \"results_final3_encoder_lstm_model\", \n",
    "#                    \"results_big_model_GOOD_2022-05-15\",\n",
    "#                     \"results_final4_tranformer_model\",\n",
    "#                    \"results_no_morph_final1_linear_model\", \n",
    "#                    \"results_no_morph_final2_lstm_model\",\n",
    "#                    \"results_no_motph_final3_transformer_lstm_model\",\n",
    "#                    \"results_no_morph_final4_transformer_model\"]:\n",
    "#         run_valid(ccut, prefix)\n",
    "\n",
    "# for prefix in ['results_final3_encoder_lstm_model', 'results_final4_tranformer_model']:\n",
    "#     for ccut in ['all', 'nothing', 'REPLACE_UNDEF', \n",
    "#                   'INCORRECT_PUNCT_RANDOM_PLACE', \n",
    "#                   'INCORRECT_PUNCT_CENTER', \n",
    "#                   'CORRECT_PUNCT_CENTER',\n",
    "#                     'CORRECT_PUNCT_RIGHT']:\n",
    "#         run_valid(ccut, prefix)"
   ]
  },
  {
   "cell_type": "code",
   "execution_count": 11,
   "id": "d4df65a7-57da-4230-95d8-ea45c7121ccc",
   "metadata": {
    "tags": []
   },
   "outputs": [
    {
     "name": "stdout",
     "output_type": "stream",
     "text": [
      "nothing;results_big_model_GOOD_2022-05-15;0.960;0.972;0.917;0.968;0.964;0.935;0.982;0.980;0.900;0.954\n"
     ]
    }
   ],
   "source": [
    "run_valid('nothing', 'results_big_model_GOOD_2022-05-15')"
   ]
  },
  {
   "cell_type": "code",
   "execution_count": null,
   "id": "fca85105-fff0-4814-a3d5-6a36df7b8587",
   "metadata": {},
   "outputs": [],
   "source": []
  },
  {
   "cell_type": "code",
   "execution_count": 8,
   "id": "f5bc029a-9741-4824-bcfd-556544ffbbd8",
   "metadata": {},
   "outputs": [
    {
     "name": "stderr",
     "output_type": "stream",
     "text": [
      "Either FairScale or torch distributed is not available, MixtureOfExperts will not be exposed. Please install them if you would like to use MoE\n"
     ]
    }
   ],
   "source": [
    "with open(f\"results_big_model_GOOD_2022-05-15/some_model_CLASS.dill\", \"rb\") as file:\n",
    "    Model = dill.load(file)\n",
    "import reprlib\n",
    "setattr(reprlib, \"Model\", Model)\n",
    "\n",
    "# model = torch.load(f\"{prefix}/some_model.pt\", map_location=torch.device('cpu')) #).v1\", map_location=torch.device('cuda:0'))\n",
    "model = torch.load(f\"results_big_model_GOOD_2022-05-15/some_model.pt\", map_location=torch.device('cpu'))#, map_location=torch.device('cuda:0'))"
   ]
  },
  {
   "cell_type": "code",
   "execution_count": 9,
   "id": "bf49f111-dd32-47bc-9dfd-e3d651e12ada",
   "metadata": {},
   "outputs": [
    {
     "data": {
      "text/plain": [
       "37.13557052612305"
      ]
     },
     "execution_count": 9,
     "metadata": {},
     "output_type": "execute_result"
    }
   ],
   "source": [
    "from utils import count_parameters\n",
    "count_parameters(model)"
   ]
  },
  {
   "cell_type": "code",
   "execution_count": null,
   "id": "002cf31d-29aa-457b-baf2-7c2c9eed924e",
   "metadata": {},
   "outputs": [],
   "source": []
  },
  {
   "cell_type": "code",
   "execution_count": 1,
   "id": "51f8abad-3649-4569-ac75-3b2a51375cd3",
   "metadata": {},
   "outputs": [],
   "source": [
    "import torch"
   ]
  },
  {
   "cell_type": "code",
   "execution_count": 2,
   "id": "df856617-922a-4d8e-a998-b2a1e7f10bf0",
   "metadata": {},
   "outputs": [
    {
     "name": "stderr",
     "output_type": "stream",
     "text": [
      "Using cache found in /home/misha-sh/.cache/torch/hub/snakers4_silero-models_master\n"
     ]
    },
    {
     "name": "stdin",
     "output_type": "stream",
     "text": [
      "Enter input text\n",
      " 1\n"
     ]
    },
    {
     "data": {
      "text/plain": [
       "'1'"
      ]
     },
     "execution_count": 2,
     "metadata": {},
     "output_type": "execute_result"
    }
   ],
   "source": [
    "import torch\n",
    "\n",
    "model, example_texts, languages, punct, apply_te = torch.hub.load(repo_or_dir='snakers4/silero-models',\n",
    "                                                                  model='silero_te')\n",
    "\n",
    "input_text = input('Enter input text\\n')\n",
    "apply_te(input_text, lan='en')"
   ]
  },
  {
   "cell_type": "code",
   "execution_count": 3,
   "id": "9ef89585-a950-404d-bae8-1bd3022cd2b9",
   "metadata": {
    "tags": []
   },
   "outputs": [
    {
     "data": {
      "text/plain": [
       "0.5322074890136719"
      ]
     },
     "execution_count": 3,
     "metadata": {},
     "output_type": "execute_result"
    }
   ],
   "source": [
    "count_parameters(model.model)"
   ]
  },
  {
   "cell_type": "code",
   "execution_count": null,
   "id": "3ebf9add-8189-449d-873e-e9a75010b3d8",
   "metadata": {},
   "outputs": [],
   "source": []
  },
  {
   "cell_type": "code",
   "execution_count": 18,
   "id": "9114a0a2-72ce-4e6e-89aa-3ad3b95944dd",
   "metadata": {
    "tags": []
   },
   "outputs": [],
   "source": [
    "\n",
    "def calculate_diff2(text, text_res):\n",
    "  res = defaultdict(lambda: 0)\n",
    "\n",
    "  def is_punctuation(c):\n",
    "      return c in \".,-!?—:\\\"'()&_«»*:;…{#}––“„\"\n",
    "\n",
    "  def sink_add(c):\n",
    "    nonlocal res\n",
    "    if c in '.,':\n",
    "        res['added ' + c] += 1\n",
    "\n",
    "  def sink_remove(c):\n",
    "    nonlocal res\n",
    "    if c in '.,':\n",
    "        res['removed ' + c] += 1\n",
    "\n",
    "  def sink_change(c1, c2):\n",
    "    nonlocal res\n",
    "    if c1 in '.,' and c2 in '.,':\n",
    "        res['changed ' + c1 + \" with \" + c2] += 1\n",
    "\n",
    "  i = 0\n",
    "  j = 0\n",
    "  while True:\n",
    "      if i >= len(text): break\n",
    "      if j >= len(text_res): break\n",
    "      if text[i] == ' ':\n",
    "            i += 1\n",
    "            continue\n",
    "      if text_res[j] == ' ':\n",
    "            j += 1\n",
    "            continue\n",
    "      # print(text[i], text_res[j])\n",
    "      if text[i] == text_res[j]:\n",
    "          if is_punctuation(text[i]) and text[i] in '.,':\n",
    "             res['not changed ' + text[i]] += 1\n",
    "          i += 1\n",
    "          j += 1\n",
    "          continue\n",
    "\n",
    "      if is_punctuation(text[i]) and is_punctuation(text_res[j]):\n",
    "        sink_change(text[i], text_res[j])\n",
    "        i += 1\n",
    "        j += 1\n",
    "        continue\n",
    "\n",
    "      if is_punctuation(text[i]):\n",
    "        sink_remove(text[i])\n",
    "        i += 1\n",
    "        continue\n",
    "\n",
    "      if is_punctuation(text_res[j]):\n",
    "        sink_add(text_res[j])\n",
    "        j += 1\n",
    "        continue\n",
    "\n",
    "      raise Exception(\"Change not in punctuation\", text[i], text_res[j], \"at \", i, j)\n",
    "\n",
    "  while i < len(text):\n",
    "    if text[i] == ' ':\n",
    "        i += 1\n",
    "        continue\n",
    "    # print(\"remaining: \", text[i])\n",
    "    assert is_punctuation(text[i])\n",
    "    sink_remove(text[i])\n",
    "    i += 1\n",
    "\n",
    "  while j < len(text_res):\n",
    "    if text_res[j] == ' ':\n",
    "        j += 1\n",
    "        continue\n",
    "    # print(\"remaining(2): \",text_res[j])\n",
    "    assert is_punctuation(text_res[j])\n",
    "    sink_add(text_res[j])\n",
    "    j += 1\n",
    "\n",
    "  res['possible punctuation places'] = len(list(tokenize(text)))\n",
    "\n",
    "  return res"
   ]
  },
  {
   "cell_type": "code",
   "execution_count": 139,
   "id": "afec9c5d-42ac-46ac-b54c-f081e15ed593",
   "metadata": {
    "tags": []
   },
   "outputs": [
    {
     "ename": "AttributeError",
     "evalue": "'collections.defaultdict' object has no attribute 'lower'",
     "output_type": "error",
     "traceback": [
      "\u001b[0;31m---------------------------------------------------------------------------\u001b[0m",
      "\u001b[0;31mAttributeError\u001b[0m                            Traceback (most recent call last)",
      "Cell \u001b[0;32mIn[139], line 1\u001b[0m\n\u001b[0;32m----> 1\u001b[0m calculate_diff2(text\u001b[38;5;241m.\u001b[39mlower(), \u001b[43mres\u001b[49m\u001b[38;5;241;43m.\u001b[39;49m\u001b[43mlower\u001b[49m())\n",
      "\u001b[0;31mAttributeError\u001b[0m: 'collections.defaultdict' object has no attribute 'lower'"
     ]
    }
   ],
   "source": [
    "calculate_diff2(text.lower(), res.lower())"
   ]
  },
  {
   "cell_type": "code",
   "execution_count": 131,
   "id": "d4d0e4ac-090d-413d-9607-d52a58dff8ec",
   "metadata": {
    "tags": []
   },
   "outputs": [],
   "source": [
    "# text = text_to_infer[500:2000]\n",
    "# txt = text.replace(\".\", \" \")\\\n",
    "#         .replace(\",\", \" \").replace(\"-\", \" \").replace(\"!\", \" \")\\\n",
    "#         .replace(\"?\", \" \").replace(\"—\", \" \")\n",
    "# txt"
   ]
  },
  {
   "cell_type": "code",
   "execution_count": 132,
   "id": "02e626cb-0348-4fd3-a211-a04004841eb7",
   "metadata": {
    "tags": []
   },
   "outputs": [],
   "source": [
    "# res = \"\\n\".join(map(apply_te, txt.lower().split(\"\\n\")))\n",
    "# res"
   ]
  },
  {
   "cell_type": "code",
   "execution_count": 124,
   "id": "a1dee534-dde6-4abc-a517-f428e7177596",
   "metadata": {
    "tags": []
   },
   "outputs": [
    {
     "data": {
      "text/plain": [
       "'еяния изображенные в Ветхом завете говорят о его злопамятности несправедливости '"
      ]
     },
     "execution_count": 124,
     "metadata": {},
     "output_type": "execute_result"
    }
   ],
   "source": [
    "txt[20:]"
   ]
  },
  {
   "cell_type": "code",
   "execution_count": 123,
   "id": "26790bb7-1e44-4195-b958-9f0bae53386b",
   "metadata": {
    "tags": []
   },
   "outputs": [
    {
     "data": {
      "text/plain": [
       "' изображенные в ветхом завете, говорят о его злопамятности, несправедливости.'"
      ]
     },
     "execution_count": 123,
     "metadata": {},
     "output_type": "execute_result"
    }
   ],
   "source": [
    "res[20:]"
   ]
  },
  {
   "cell_type": "code",
   "execution_count": 78,
   "id": "d031dde9-83f6-47a5-a2e3-0972d741b9ca",
   "metadata": {
    "tags": []
   },
   "outputs": [
    {
     "data": {
      "text/plain": [
       "'Знакомство все его деяния, изображенные в Ветхом Завете говорят о его злопамятности, несправедливости, мелочности, безжалостности, мстительности. Он только и делает, что караеткарает за ничтожные проступки с тысячекратной строгостью; карает невинных младенцев за проступки их родителей; карает ни в чем не п'"
      ]
     },
     "execution_count": 78,
     "metadata": {},
     "output_type": "execute_result"
    }
   ],
   "source": [
    "\"\\n\".join(map(apply_te, txt.lower().split(\"\\n\")))"
   ]
  },
  {
   "cell_type": "code",
   "execution_count": 33,
   "id": "c3104e25-9557-4a6e-bd54-6e75c28f9f84",
   "metadata": {
    "tags": []
   },
   "outputs": [
    {
     "data": {
      "text/plain": [
       "'марк твен \\nплан города парижа\\n\\n\\n\\nмарк твен\\nплан города парижа\\n\\n к читателю  \\nприлагаемый план говорит сам за себя  идея этого плана не оригинальна  она заимствована мною из столичных газет \\n\\n\\n\\nплан парижа \\nэто произведение искусства  если только можно назвать его так  не претендует на какиелибо иные достоинства  кроме точности  как правило  недостатки подобных планов объясняются тем  что их авторы  повидимому  уделяют больше внимания художественности исполнения  нежели географической достоверности \\nпоскольку это моя первая попытка составить и выгравировать план    да и вообще подвизаться на поприще искусства    то мне очень польстили похвалы и восхищение  вызванные этой работой  и особенно трогательно  что самые восторженные отзывы исходят от людей  ничего не смыслящих в искусстве \\nпо незначительному недосмотру я выгравировал план так  что всем  кроме левши  придется читать его шиворотнавыворот  я забыл  что для того  чтобы получить правильный отпечаток  надо все и чертить и гравировать наоборот  однако пусть тот  кто пожелает рассматривать этот план  станет на голову или держит его перед зеркалом  тогда все будет в порядке \\nчитатель с первого же взгляда поймет  что та часть реки  через которую перекинут хай бридж  подалась влево    дело в том  что у меня соскользнул гравировальный резец  и пришлось изменить течение реки рейна  иначе пропал бы весь план целиком  а после того как я два дня ковырял и выдалбливал гравировальную доску  мне легче было бы изменить положение атлантического океана  чем допустить  чтобы все мои труды пошли насмарку \\nни с чем в жизни у меня не было столько возни  сколько с этим планом  сперва у меня вокруг всего парижа было рассыпано множество маленьких укреплений  но то тут  то там мой резец соскальзывал и так начисто сметал целые мили батарей  словно там побывали пруссаки \\nчитатель  без сомнения  сочтет полезным вставить этот план в рамку  чтобы им могли пользоваться и другие  это будет способствовать распространению в народе просвещения и искоренению процветающего ныне невежества \\nмарк твен  \\n\\nофициальные одобрительные отзывы \\n\\nникогда не видал другого такого плана \\nу  с  грант \\n\\n\\nтеперь город представляется в совершенно новом освещении \\nбисмарк \\n\\n\\nя не могу глядеть на него  не проливая слез \\nбрайэм юнг \\n\\n\\nзамечательно крупная четкая печать \\nнаполеон \\n\\n\\nмоя жена годами страдала веснушками  и  хотя мы принимали все известные нам меры  ничто не помогало  но  сэр  едва она взглянула на этот план  как веснушки исчезли  сейчас она страдает только судорогами \\nдж  смит \\n\\n\\nбудь у меня этот план  я бы без труда выбрался из мена \\nбазен \\n\\n\\nя повидал на своем веку немало планов  но ни один из них не был похож на этот \\nтрошю \\n\\n\\nсправедливости ради следует сказать  что в некоторых отношениях это весьма примечательный план \\nу  т  шерман \\n\\n\\nя сказал своему сыну фридрихувильгельму   если бы ты сделал такой план  я бы пожалел  что ты не умер  от души пожалел бы  \\nвильгельм iii \\n\\n\\n'"
      ]
     },
     "execution_count": 33,
     "metadata": {},
     "output_type": "execute_result"
    }
   ],
   "source": [
    "text_to_infer"
   ]
  },
  {
   "cell_type": "code",
   "execution_count": 30,
   "id": "51d44e49-70ef-4405-98d3-5796d0d4f7d0",
   "metadata": {
    "tags": []
   },
   "outputs": [
    {
     "data": {
      "text/plain": [
       "'Марк Твен!\\nПлан города Парижа.\\n\\n\\n\\nМарк Твен!\\nПлан города Парижа.\\n\\nК читателю?\\nПрилагаемый план говорит сам за себя. Идея этого плана не оригинальна. Она заимствована мною из столичных газет.\\n\\n\\n\\nПлан парижа.\\nЭто произведение искусства, если только можно назвать его так не претендует на какиелибо иные достоинства, кроме точности. Как правило, недостатки подобных планов объясняются тем, что их авторы повидимому уделяют больше внимания художественности исполнения, нежели географической достоверности.\\nПоскольку это моя первая попытка составить и выгравировать план, да и вообще подвизаться на поприще искусства. То мне очень польстили похвалы и восхищение. Вызванные этой работой и особенно трогательно, что самые восторженные отзывы исходят от людей, ничего не смыслящих в искусстве.\\nПо незначительному недосмотру я выгравировал план, так что всем, кроме Левши придется читать его шиворотнавыворот. Я забыл, что для того, чтобы получить правильный отпечаток надо все и чертить и гравировать наоборот. Однако пусть тот, кто пожелает рассматривать этот план, станет на голову или держит его перед зеркалом, Тогда все будет в порядке.\\nЧитатель с первого же взгляда поймет что та часть реки, через которую перекинут Хай Бридж подалась влево. Дело в том, что у меня соскользнул гравировальный резец и пришлось изменить течение реки Рейна. Иначе пропал бы весь план целиком. А после того, как я два дня ковырял и выдалбливал гравировальную доску. Мне легче было бы изменить положение атлантического океана, чем допустить, чтобы все мои труды пошли насмарку.\\nНи с чем в жизни у меня не было столько возни, сколько с этим планом Сперва у меня вокруг всего Парижа было рассыпано множество маленьких укреплений. Но то тут-то там мой резец соскальзывал и так начисто сметал целые мили батарей. Словно там побывали пруссаки.\\nЧитатель без сомнения сочтет полезным вставить этот план в рамку, чтобы им могли пользоваться и другие. Это будет способствовать распространению в народе просвещения и искоренению процветающего ныне невежества.\\nМарк Твен!\\n\\nОфициальные одобрительные отзывы.\\n\\nНикогда не видал другого такого плана.\\nУ с грант.\\n\\n\\nТеперь город представляется в совершенно новом освещении.\\nБисмарк.\\n\\n\\nЯ не могу глядеть на него, не проливая слез.\\nБрайэм Юнг.\\n\\n\\nЗамечательно крупная четкая печать.\\nНаполеон.\\n\\n\\nМоя жена годами страдала веснушками, и хотя мы принимали все известные нам меры ничто не помогало, но сэр едва она взглянула на этот план как веснушки исчезли. Сейчас она страдает только судорогами.\\nДж смит!\\n\\n\\nБудь у меня этот план Я бы без труда выбрался из мена.\\nБазен.\\n\\n\\nЯ повидал на своем веку немало планов, но ни один из них не был похож на этот.\\nТрошю.\\n\\n\\nСправедливости ради следует сказать, что в некоторых отношениях это весьма примечательный план.\\nУ т Шерман.\\n\\n\\nЯ сказал своему сыну Фридрихувильгельму, Если бы ты сделал такой план? Я бы пожалел, что ты не умер от души, пожалел бы.\\nВильгельм Iii.\\n\\n\\n'"
      ]
     },
     "execution_count": 30,
     "metadata": {},
     "output_type": "execute_result"
    }
   ],
   "source": [
    "rres"
   ]
  },
  {
   "cell_type": "code",
   "execution_count": 32,
   "id": "bcb5dcb8-0fbd-4167-8dff-c79162f85b84",
   "metadata": {
    "tags": []
   },
   "outputs": [
    {
     "data": {
      "text/plain": [
       "'Марк Твен \\nПлан города Парижа\\n\\n\\n\\nМарк Твен\\nПлан города Парижа\\n\\n(К читателю) \\nПрилагаемый план говорит сам за себя. Идея этого плана не оригинальна, она заимствована мною из столичных газет.\\n\\n\\n\\nПлан Парижа \\nЭто произведение искусства (если только можно назвать его так) не претендует на какиелибо иные достоинства, кроме точности. Как правило, недостатки подобных планов объясняются тем, что их авторы, повидимому, уделяют больше внимания художественности исполнения, нежели географической достоверности.\\nПоскольку это моя первая попытка составить и выгравировать план, – да и вообще подвизаться на поприще искусства, – то мне очень польстили похвалы и восхищение, вызванные этой работой. И особенно трогательно, что самые восторженные отзывы исходят от людей, ничего не смыслящих в искусстве.\\nПо незначительному недосмотру я выгравировал план так, что всем, кроме левши, придется читать его шиворотнавыворот. Я забыл, что для того, чтобы получить правильный отпечаток, надо все и чертить и гравировать наоборот. Однако пусть тот, кто пожелает рассматривать этот план, станет на голову или держит его перед зеркалом. Тогда все будет в порядке.\\nЧитатель с первого же взгляда поймет, что та часть реки, через которую перекинут Хай Бридж, подалась влево, – дело в том, что у меня соскользнул гравировальный резец, и пришлось изменить течение реки Рейна, иначе пропал бы весь план целиком. А после того как я два дня ковырял и выдалбливал гравировальную доску, мне легче было бы изменить положение Атлантического океана, чем допустить, чтобы все мои труды пошли насмарку.\\nНи с чем в жизни у меня не было столько возни, сколько с этим планом. Сперва у меня вокруг всего Парижа было рассыпано множество маленьких укреплений, но то тут, то там мой резец соскальзывал и так начисто сметал целые мили батарей, словно там побывали пруссаки.\\nЧитатель, без сомнения, сочтет полезным вставить этот план в рамку, чтобы им могли пользоваться и другие. Это будет способствовать распространению в народе просвещения и искоренению процветающего ныне невежества.\\nМарк Твен. \\n\\nОфициальные одобрительные отзывы \\n\\nНикогда не видал другого такого плана.\\nУ. С. Грант \\n\\n\\nТеперь город представляется в совершенно новом освещении.\\nБисмарк \\n\\n\\nЯ не могу глядеть на него, не проливая слез,\\nБрайэм Юнг \\n\\n\\nЗамечательно крупная четкая печать.\\nНаполеон \\n\\n\\nМоя жена годами страдала веснушками, и, хотя мы принимали все известные нам меры, ничто не помогало. Но, сэр, едва она взглянула на этот план, как веснушки исчезли. Сейчас она страдает только судорогами.\\nДж. Смит \\n\\n\\nБудь у меня этот план, я бы без труда выбрался из Мена.\\nБазен \\n\\n\\nЯ повидал на своем веку немало планов, но ни один из них не был похож на этот.\\nТрошю \\n\\n\\nСправедливости ради следует сказать, что в некоторых отношениях это весьма примечательный план.\\nУ, Т. Шерман \\n\\n\\nЯ сказал своему сыну ФридрихуВильгельму: «Если бы ты сделал такой план, я бы пожалел, что ты не умер. От души пожалел бы».\\nВильгельм III \\n\\n\\n'"
      ]
     },
     "execution_count": 32,
     "metadata": {},
     "output_type": "execute_result"
    }
   ],
   "source": [
    "txt"
   ]
  },
  {
   "cell_type": "code",
   "execution_count": 29,
   "id": "386d6b27-3bf4-49b6-952b-7b938ffc3b91",
   "metadata": {
    "tags": []
   },
   "outputs": [
    {
     "name": "stdout",
     "output_type": "stream",
     "text": [
      "64\n"
     ]
    },
    {
     "data": {
      "application/vnd.jupyter.widget-view+json": {
       "model_id": "adc1f95d25b049f8b0eeb64f5f1022fa",
       "version_major": 2,
       "version_minor": 0
      },
      "text/plain": [
       "  0%|          | 0/148 [00:00<?, ?it/s]"
      ]
     },
     "metadata": {},
     "output_type": "display_data"
    },
    {
     "name": "stdout",
     "output_type": "stream",
     "text": [
      "skipped  0 ../validation/Mark Tven/Mark Tven rtf/Tven_Uchenyie_skazochki_dlya_primernyih_pozhilyih_malchikov_i_devochek.149907.rtf 71164 \n",
      "skipped  0 ../validation/Mark Tven/Mark Tven rtf/Tven_Moya_pervaya_beseda_s_Artimesom_Uordom.149893.rtf 33391 ('Change not in punctuation', 'я', 'в', 'at ', 2178, 2139)\n",
      "skipped  20000 ../validation/Mark Tven/Mark Tven rtf/Tven_Nalegke.149894.rtf 1013017 ('Change not in punctuation', 'в', 'п', 'at ', 14622, 14388)\n",
      "skipped  80000 ../validation/Mark Tven/Mark Tven rtf/Tven_Nalegke.149894.rtf 1013017 ('Change not in punctuation', 'м', 'п', 'at ', 19188, 18861)\n",
      "skipped  220000 ../validation/Mark Tven/Mark Tven rtf/Tven_Nalegke.149894.rtf 1013017 ('Change not in punctuation', 'с', '\\n', 'at ', 12223, 11988)\n",
      "skipped  400000 ../validation/Mark Tven/Mark Tven rtf/Tven_Nalegke.149894.rtf 1013017 ('Change not in punctuation', 'и', '\\n', 'at ', 14505, 14261)\n",
      "skipped  520000 ../validation/Mark Tven/Mark Tven rtf/Tven_Nalegke.149894.rtf 1013017 ('Change not in punctuation', '°', 'б', 'at ', 17810, 17284)\n",
      "skipped  560000 ../validation/Mark Tven/Mark Tven rtf/Tven_Nalegke.149894.rtf 1013017 ('Change not in punctuation', '№', '1', 'at ', 6570, 6503)\n",
      "skipped  660000 ../validation/Mark Tven/Mark Tven rtf/Tven_Nalegke.149894.rtf 1013017 ('Change not in punctuation', 'п', 'к', 'at ', 2525, 2475)\n",
      "skipped  680000 ../validation/Mark Tven/Mark Tven rtf/Tven_Nalegke.149894.rtf 1013017 \n",
      "skipped  740000 ../validation/Mark Tven/Mark Tven rtf/Tven_Nalegke.149894.rtf 1013017 \n",
      "skipped  760000 ../validation/Mark Tven/Mark Tven rtf/Tven_Nalegke.149894.rtf 1013017 ('Change not in punctuation', '°', 'о', 'at ', 11332, 11117)\n",
      "skipped  800000 ../validation/Mark Tven/Mark Tven rtf/Tven_Nalegke.149894.rtf 1013017 \n",
      "skipped  0 ../validation/Mark Tven/Mark Tven rtf/Tven_Bankovyiy_bilet_v_1000000_funtov_sterlingov.149885.rtf 71936 ('Change not in punctuation', 'с', '\\n', 'at ', 12614, 12433)\n",
      "skipped  0 ../validation/Mark Tven/Mark Tven rtf/Tven_Kartinki_proshlogo.57035.rtf 31851 \n",
      "skipped  0 ../validation/Mark Tven/Mark Tven rtf/Tven_Pozolochennyiy_vek.56999.rtf 981640 ('Change not in punctuation', 'и', 'м', 'at ', 10755, 10654)\n",
      "skipped  140000 ../validation/Mark Tven/Mark Tven rtf/Tven_Pozolochennyiy_vek.56999.rtf 981640 ('Change not in punctuation', 'е', '\\n', 'at ', 15833, 15566)\n",
      "skipped  340000 ../validation/Mark Tven/Mark Tven rtf/Tven_Pozolochennyiy_vek.56999.rtf 981640 ('Change not in punctuation', 'т', 'с', 'at ', 3050, 3012)\n",
      "skipped  460000 ../validation/Mark Tven/Mark Tven rtf/Tven_Pozolochennyiy_vek.56999.rtf 981640 ('Change not in punctuation', 'г', 'л', 'at ', 10658, 10429)\n",
      "skipped  640000 ../validation/Mark Tven/Mark Tven rtf/Tven_Pozolochennyiy_vek.56999.rtf 981640 ('Change not in punctuation', 'о', 'з', 'at ', 11004, 10784)\n",
      "skipped  280000 ../validation/Mark Tven/Mark Tven rtf/Tven_Priklyucheniya_Toma_Soyera_i_Geklberri_Finna_2_Priklyucheniya_Geklberri_Finna.57093.rtf 608623 ('Change not in punctuation', 'в', '\\n', 'at ', 1368, 1356)\n",
      "[\n",
      "skipped  0 ../validation/Mark Tven/Mark Tven rtf/Tven_Iz_zapisnyih_knizhek_1865-1905.131699.rtf 125718 string index out of range\n",
      "skipped  20000 ../validation/Mark Tven/Mark Tven rtf/Tven_Iz_zapisnyih_knizhek_1865-1905.131699.rtf 125718 ('Change not in punctuation', '№', '9', 'at ', 18872, 18587)\n",
      "skipped  40000 ../validation/Mark Tven/Mark Tven rtf/Tven_Iz_zapisnyih_knizhek_1865-1905.131699.rtf 125718 ('Change not in punctuation', '°', 'т', 'at ', 7737, 7599)\n",
      "skipped  80000 ../validation/Mark Tven/Mark Tven rtf/Tven_Iz_zapisnyih_knizhek_1865-1905.131699.rtf 125718 ('Change not in punctuation', '’', 'а', 'at ', 9409, 9276)\n",
      "&\n",
      "skipped  0 ../validation/Mark Tven/Mark Tven rtf/Tven_Detektiv_s_dvoynyim_pritselom.57009.rtf 114058 string index out of range\n",
      "skipped  ../validation/Mark Tven/Mark Tven rtf/Tven_Priklyucheniya_Toma_Soyera_i_Geklberri_Finna_1_Priklyucheniya_Toma_Soyera.103501.rtf 2279852 'charmap' codec can't encode character '\\u0301' in position 0: character maps to <undefined>\n",
      "skipped  100000 ../validation/Mark Tven/Mark Tven rtf/Tven_Pisma_s_Zemli.145302.rtf 720259 ('Change not in punctuation', 'я', 'н', 'at ', 13439, 13200)\n",
      "skipped  460000 ../validation/Mark Tven/Mark Tven rtf/Tven_Pisma_s_Zemli.145302.rtf 720259 \n",
      "skipped  120000 ../validation/Mark Tven/Mark Tven rtf/Tven_Tainstvennyiy_neznakomets.96444.rtf 215076 ('Change not in punctuation', 'п', 'с', 'at ', 18360, 18089)\n",
      "skipped  140000 ../validation/Mark Tven/Mark Tven rtf/Tven_Tainstvennyiy_neznakomets.96444.rtf 215076 ('Change not in punctuation', 'ч', '\\n', 'at ', 12233, 12038)\n",
      "[\n",
      "skipped  0 ../validation/Mark Tven/Mark Tven rtf/Tven_No44_Tainstvennyiy_neznakomets.118962.rtf 380992 string index out of range\n",
      "&\n",
      "skipped  20000 ../validation/Mark Tven/Mark Tven rtf/Tven_No44_Tainstvennyiy_neznakomets.118962.rtf 380992 string index out of range\n",
      "[\n",
      "skipped  60000 ../validation/Mark Tven/Mark Tven rtf/Tven_No44_Tainstvennyiy_neznakomets.118962.rtf 380992 string index out of range\n",
      "[\n",
      "skipped  80000 ../validation/Mark Tven/Mark Tven rtf/Tven_No44_Tainstvennyiy_neznakomets.118962.rtf 380992 string index out of range\n",
      "[\n",
      "skipped  100000 ../validation/Mark Tven/Mark Tven rtf/Tven_No44_Tainstvennyiy_neznakomets.118962.rtf 380992 string index out of range\n",
      "[\n",
      "skipped  240000 ../validation/Mark Tven/Mark Tven rtf/Tven_No44_Tainstvennyiy_neznakomets.118962.rtf 380992 string index out of range\n",
      "[\n",
      "skipped  260000 ../validation/Mark Tven/Mark Tven rtf/Tven_No44_Tainstvennyiy_neznakomets.118962.rtf 380992 string index out of range\n",
      "[\n",
      "skipped  280000 ../validation/Mark Tven/Mark Tven rtf/Tven_No44_Tainstvennyiy_neznakomets.118962.rtf 380992 string index out of range\n",
      "skipped  300000 ../validation/Mark Tven/Mark Tven rtf/Tven_No44_Tainstvennyiy_neznakomets.118962.rtf 380992 ('Change not in punctuation', 'с', '\\n', 'at ', 15233, 14856)\n",
      "[\n",
      "skipped  320000 ../validation/Mark Tven/Mark Tven rtf/Tven_No44_Tainstvennyiy_neznakomets.118962.rtf 380992 string index out of range\n",
      "[\n",
      "skipped  340000 ../validation/Mark Tven/Mark Tven rtf/Tven_No44_Tainstvennyiy_neznakomets.118962.rtf 380992 string index out of range\n",
      "skipped  180000 ../validation/Mark Tven/Mark Tven rtf/Tven_Tri_tyisyachi_let_sredi_mikrobov.149906.rtf 363586 ('Change not in punctuation', '°', 'н', 'at ', 6673, 6572)\n",
      "skipped  20000 ../validation/Mark Tven/Mark Tven rtf/Tven_Moim_kritikam-missioneram.57052.rtf 39129 ('Change not in punctuation', 'и', '\\n', 'at ', 7051, 6916)\n",
      "[\n",
      "skipped  0 ../validation/Mark Tven/Mark Tven rtf/Tven_Iz_Avtobiografii.57024.rtf 910012 string index out of range\n",
      "[\n",
      "skipped  20000 ../validation/Mark Tven/Mark Tven rtf/Tven_Iz_Avtobiografii.57024.rtf 910012 string index out of range\n",
      "[\n",
      "skipped  80000 ../validation/Mark Tven/Mark Tven rtf/Tven_Iz_Avtobiografii.57024.rtf 910012 string index out of range\n",
      "[\n",
      "skipped  100000 ../validation/Mark Tven/Mark Tven rtf/Tven_Iz_Avtobiografii.57024.rtf 910012 string index out of range\n",
      "[\n",
      "skipped  140000 ../validation/Mark Tven/Mark Tven rtf/Tven_Iz_Avtobiografii.57024.rtf 910012 string index out of range\n",
      "skipped  160000 ../validation/Mark Tven/Mark Tven rtf/Tven_Iz_Avtobiografii.57024.rtf 910012 ('Change not in punctuation', 'к', 'н', 'at ', 6037, 5953)\n",
      "[\n",
      "skipped  200000 ../validation/Mark Tven/Mark Tven rtf/Tven_Iz_Avtobiografii.57024.rtf 910012 string index out of range\n",
      "[\n",
      "skipped  220000 ../validation/Mark Tven/Mark Tven rtf/Tven_Iz_Avtobiografii.57024.rtf 910012 string index out of range\n",
      "skipped  240000 ../validation/Mark Tven/Mark Tven rtf/Tven_Iz_Avtobiografii.57024.rtf 910012 \n",
      "[\n",
      "skipped  300000 ../validation/Mark Tven/Mark Tven rtf/Tven_Iz_Avtobiografii.57024.rtf 910012 string index out of range\n",
      "[\n",
      "skipped  360000 ../validation/Mark Tven/Mark Tven rtf/Tven_Iz_Avtobiografii.57024.rtf 910012 string index out of range\n",
      "skipped  400000 ../validation/Mark Tven/Mark Tven rtf/Tven_Iz_Avtobiografii.57024.rtf 910012 ('Change not in punctuation', '°', 'н', 'at ', 11224, 11097)\n",
      "[\n",
      "skipped  440000 ../validation/Mark Tven/Mark Tven rtf/Tven_Iz_Avtobiografii.57024.rtf 910012 string index out of range\n",
      "[\n",
      "skipped  460000 ../validation/Mark Tven/Mark Tven rtf/Tven_Iz_Avtobiografii.57024.rtf 910012 string index out of range\n",
      "[\n",
      "skipped  480000 ../validation/Mark Tven/Mark Tven rtf/Tven_Iz_Avtobiografii.57024.rtf 910012 string index out of range\n",
      "skipped  520000 ../validation/Mark Tven/Mark Tven rtf/Tven_Iz_Avtobiografii.57024.rtf 910012 ('Change not in punctuation', '°', 'д', 'at ', 6371, 6317)\n",
      "[\n",
      "skipped  540000 ../validation/Mark Tven/Mark Tven rtf/Tven_Iz_Avtobiografii.57024.rtf 910012 string index out of range\n",
      "[\n",
      "skipped  560000 ../validation/Mark Tven/Mark Tven rtf/Tven_Iz_Avtobiografii.57024.rtf 910012 string index out of range\n",
      "[\n",
      "skipped  580000 ../validation/Mark Tven/Mark Tven rtf/Tven_Iz_Avtobiografii.57024.rtf 910012 string index out of range\n",
      "[\n",
      "skipped  600000 ../validation/Mark Tven/Mark Tven rtf/Tven_Iz_Avtobiografii.57024.rtf 910012 string index out of range\n",
      "[\n",
      "skipped  620000 ../validation/Mark Tven/Mark Tven rtf/Tven_Iz_Avtobiografii.57024.rtf 910012 string index out of range\n",
      "[\n",
      "skipped  640000 ../validation/Mark Tven/Mark Tven rtf/Tven_Iz_Avtobiografii.57024.rtf 910012 string index out of range\n",
      "skipped  660000 ../validation/Mark Tven/Mark Tven rtf/Tven_Iz_Avtobiografii.57024.rtf 910012 ('Change not in punctuation', 'м', 'д', 'at ', 17939, 17795)\n",
      "[\n",
      "skipped  680000 ../validation/Mark Tven/Mark Tven rtf/Tven_Iz_Avtobiografii.57024.rtf 910012 string index out of range\n",
      "[\n",
      "skipped  700000 ../validation/Mark Tven/Mark Tven rtf/Tven_Iz_Avtobiografii.57024.rtf 910012 string index out of range\n",
      "[\n",
      "skipped  720000 ../validation/Mark Tven/Mark Tven rtf/Tven_Iz_Avtobiografii.57024.rtf 910012 string index out of range\n",
      "[\n",
      "skipped  740000 ../validation/Mark Tven/Mark Tven rtf/Tven_Iz_Avtobiografii.57024.rtf 910012 string index out of range\n",
      "[\n",
      "skipped  780000 ../validation/Mark Tven/Mark Tven rtf/Tven_Iz_Avtobiografii.57024.rtf 910012 string index out of range\n",
      "skipped  820000 ../validation/Mark Tven/Mark Tven rtf/Tven_Iz_Avtobiografii.57024.rtf 910012 ('Change not in punctuation', '№', '5', 'at ', 10735, 10626)\n",
      "[\n",
      "skipped  840000 ../validation/Mark Tven/Mark Tven rtf/Tven_Iz_Avtobiografii.57024.rtf 910012 string index out of range\n",
      "skipped  0 ../validation/Mark Tven/Mark Tven rtf/Tven_Soedinennyie_Linchuyuschie_Shtatyi.57110.rtf 21270 ('Change not in punctuation', 'п', 'е', 'at ', 4075, 4022)\n",
      "[\n",
      "skipped  0 ../validation/Mark Tven/Mark Tven rtf/Tven_Zhanna_dArk.149910.rtf 907128 string index out of range\n",
      "[\n",
      "skipped  20000 ../validation/Mark Tven/Mark Tven rtf/Tven_Zhanna_dArk.149910.rtf 907128 string index out of range\n",
      "skipped  240000 ../validation/Mark Tven/Mark Tven rtf/Tven_Zhanna_dArk.149910.rtf 907128 ('Change not in punctuation', 'п', '\\n', 'at ', 19374, 19069)\n",
      "skipped  320000 ../validation/Mark Tven/Mark Tven rtf/Tven_Zhanna_dArk.149910.rtf 907128 ('Change not in punctuation', 'о', '\\n', 'at ', 5200, 5076)\n",
      "[\n",
      "skipped  460000 ../validation/Mark Tven/Mark Tven rtf/Tven_Zhanna_dArk.149910.rtf 907128 string index out of range\n",
      "[\n",
      "skipped  480000 ../validation/Mark Tven/Mark Tven rtf/Tven_Zhanna_dArk.149910.rtf 907128 string index out of range\n",
      "[\n",
      "skipped  540000 ../validation/Mark Tven/Mark Tven rtf/Tven_Zhanna_dArk.149910.rtf 907128 string index out of range\n",
      "[\n",
      "skipped  600000 ../validation/Mark Tven/Mark Tven rtf/Tven_Zhanna_dArk.149910.rtf 907128 string index out of range\n",
      "[\n",
      "skipped  820000 ../validation/Mark Tven/Mark Tven rtf/Tven_Zhanna_dArk.149910.rtf 907128 string index out of range\n",
      "skipped  20000 ../validation/Mark Tven/Mark Tven rtf/Tven_Hristianskaya_nauka.57019.rtf 39270 ('Change not in punctuation', 'н', 'м', 'at ', 3739, 3661)\n",
      "[\n",
      "skipped  100000 ../validation/Mark Tven/Mark Tven rtf/Tven_Priklyucheniya_Toma_Soyera_i_Geklberri_Finna_5_Zagovor_Toma_Soyera.93607.rtf 386644 string index out of range\n",
      "skipped  ../validation/Mark Tven/Mark Tven rtf/Azimov_Biblioteka_sovremennoy_fantastiki_4_I_gryanul_grom._Tom_4-y_dopolnitelnyiy.132658.rtf 1316098 'charmap' codec can't encode character '\\xe1' in position 0: character maps to <undefined>\n",
      "&\n",
      "skipped  100000 ../validation/Mark Tven/Mark Tven rtf/Tven_Prostofilya_Vilson.57097.rtf 291652 string index out of range\n",
      "skipped  120000 ../validation/Mark Tven/Mark Tven rtf/Tven_Prostofilya_Vilson.57097.rtf 291652 \n",
      "skipped  240000 ../validation/Mark Tven/Mark Tven rtf/Tven_Prostofilya_Vilson.57097.rtf 291652 ('Change not in punctuation', 'н', '\\n', 'at ', 7540, 7454)\n",
      "skipped  0 ../validation/Mark Tven/Mark Tven rtf/Tven_Staryie_vremena_na_Missisipi.57113.rtf 183842 ('Change not in punctuation', 'у', 'и', 'at ', 6463, 6392)\n",
      "skipped  100000 ../validation/Mark Tven/Mark Tven rtf/Tven_Staryie_vremena_na_Missisipi.57113.rtf 183842 \n",
      "&\n",
      "skipped  0 ../validation/Mark Tven/Mark Tven rtf/Tven_Sbornik_rasskazov.89232.rtf 1421921 string index out of range\n",
      "&\n",
      "skipped  20000 ../validation/Mark Tven/Mark Tven rtf/Tven_Sbornik_rasskazov.89232.rtf 1421921 string index out of range\n",
      "skipped  80000 ../validation/Mark Tven/Mark Tven rtf/Tven_Sbornik_rasskazov.89232.rtf 1421921 ('Change not in punctuation', 'н', 'п', 'at ', 11440, 11289)\n",
      "skipped  240000 ../validation/Mark Tven/Mark Tven rtf/Tven_Sbornik_rasskazov.89232.rtf 1421921 ('Change not in punctuation', '№', '2', 'at ', 8691, 8490)\n",
      "skipped  280000 ../validation/Mark Tven/Mark Tven rtf/Tven_Sbornik_rasskazov.89232.rtf 1421921 ('Change not in punctuation', '”', '\\n', 'at ', 15578, 15174)\n",
      "skipped  400000 ../validation/Mark Tven/Mark Tven rtf/Tven_Sbornik_rasskazov.89232.rtf 1421921 ('Change not in punctuation', 'д', 'в', 'at ', 4060, 4030)\n",
      "skipped  440000 ../validation/Mark Tven/Mark Tven rtf/Tven_Sbornik_rasskazov.89232.rtf 1421921 ('Change not in punctuation', 'о', '\\n', 'at ', 15605, 15344)\n",
      "&\n",
      "skipped  480000 ../validation/Mark Tven/Mark Tven rtf/Tven_Sbornik_rasskazov.89232.rtf 1421921 string index out of range\n",
      "[\n",
      "skipped  540000 ../validation/Mark Tven/Mark Tven rtf/Tven_Sbornik_rasskazov.89232.rtf 1421921 string index out of range\n",
      "skipped  200000 ../validation/Mark Tven/Mark Tven rtf/Tven_Priklyucheniya_Toma_Soyera_i_Geklberri_Finna_1_Priklyucheniya_Toma_Soyera.57094.rtf 451752 \n",
      "skipped  220000 ../validation/Mark Tven/Mark Tven rtf/Tven_Priklyucheniya_Toma_Soyera_i_Geklberri_Finna_1_Priklyucheniya_Toma_Soyera.57094.rtf 451752 ('Change not in punctuation', 'з', '\\n', 'at ', 6768, 6644)\n",
      "skipped  140000 ../validation/Mark Tven/Mark Tven rtf/Tven_Yanki_iz_Konnektikuta_pri_dvore_korolya_Artura.138015.rtf 676171 ('Change not in punctuation', 'н', 'к', 'at ', 7964, 7850)\n",
      "skipped  240000 ../validation/Mark Tven/Mark Tven rtf/Tven_Yanki_iz_Konnektikuta_pri_dvore_korolya_Artura.138015.rtf 676171 ('Change not in punctuation', 'н', '\\n', 'at ', 14374, 14103)\n",
      "skipped  260000 ../validation/Mark Tven/Mark Tven rtf/Tven_Yanki_iz_Konnektikuta_pri_dvore_korolya_Artura.138015.rtf 676171 ('Change not in punctuation', '№', '3', 'at ', 734, 731)\n",
      "skipped  340000 ../validation/Mark Tven/Mark Tven rtf/Tven_Yanki_iz_Konnektikuta_pri_dvore_korolya_Artura.138015.rtf 676171 ('Change not in punctuation', '№', '3', 'at ', 9256, 9149)\n",
      "skipped  160000 ../validation/Mark Tven/Mark Tven rtf/Tven_Lichnyie_vospominaniya_o_Zhanne_dArk_sera_Lui_de_Konta_eyo_pazha_i_sekretarya.57041.rtf 730030 ('Change not in punctuation', 'е', 'н', 'at ', 14214, 14039)\n",
      "skipped  240000 ../validation/Mark Tven/Mark Tven rtf/Tven_Lichnyie_vospominaniya_o_Zhanne_dArk_sera_Lui_de_Konta_eyo_pazha_i_sekretarya.57041.rtf 730030 ('Change not in punctuation', 'б', 'о', 'at ', 5775, 5716)\n",
      "[\n",
      "skipped  300000 ../validation/Mark Tven/Mark Tven rtf/Tven_Lichnyie_vospominaniya_o_Zhanne_dArk_sera_Lui_de_Konta_eyo_pazha_i_sekretarya.57041.rtf 730030 string index out of range\n",
      "[\n",
      "skipped  380000 ../validation/Mark Tven/Mark Tven rtf/Tven_Lichnyie_vospominaniya_o_Zhanne_dArk_sera_Lui_de_Konta_eyo_pazha_i_sekretarya.57041.rtf 730030 string index out of range\n",
      "[\n",
      "skipped  400000 ../validation/Mark Tven/Mark Tven rtf/Tven_Lichnyie_vospominaniya_o_Zhanne_dArk_sera_Lui_de_Konta_eyo_pazha_i_sekretarya.57041.rtf 730030 string index out of range\n",
      "skipped  420000 ../validation/Mark Tven/Mark Tven rtf/Tven_Lichnyie_vospominaniya_o_Zhanne_dArk_sera_Lui_de_Konta_eyo_pazha_i_sekretarya.57041.rtf 730030 ('Change not in punctuation', 'с', 'б', 'at ', 11786, 11603)\n",
      "[\n",
      "skipped  480000 ../validation/Mark Tven/Mark Tven rtf/Tven_Lichnyie_vospominaniya_o_Zhanne_dArk_sera_Lui_de_Konta_eyo_pazha_i_sekretarya.57041.rtf 730030 string index out of range\n",
      "[\n",
      "skipped  500000 ../validation/Mark Tven/Mark Tven rtf/Tven_Lichnyie_vospominaniya_o_Zhanne_dArk_sera_Lui_de_Konta_eyo_pazha_i_sekretarya.57041.rtf 730030 string index out of range\n",
      "[\n",
      "skipped  560000 ../validation/Mark Tven/Mark Tven rtf/Tven_Lichnyie_vospominaniya_o_Zhanne_dArk_sera_Lui_de_Konta_eyo_pazha_i_sekretarya.57041.rtf 730030 string index out of range\n",
      "[\n",
      "skipped  680000 ../validation/Mark Tven/Mark Tven rtf/Tven_Lichnyie_vospominaniya_o_Zhanne_dArk_sera_Lui_de_Konta_eyo_pazha_i_sekretarya.57041.rtf 730030 string index out of range\n",
      "[\n",
      "skipped  700000 ../validation/Mark Tven/Mark Tven rtf/Tven_Lichnyie_vospominaniya_o_Zhanne_dArk_sera_Lui_de_Konta_eyo_pazha_i_sekretarya.57041.rtf 730030 string index out of range\n",
      "skipped  0 ../validation/Mark Tven/Mark Tven rtf/Tven_Otnositelno_tabaka.57077.rtf 9086 ('Change not in punctuation', 'д', 'в', 'at ', 3839, 3827)\n",
      "skipped  20000 ../validation/Mark Tven/Mark Tven rtf/Tven_The_Adventures_of_Tom_Sayer_2_The_Adventures_of_Huckleberry_Finn.75687.rtf 616504 ('Change not in punctuation', 'a', '\\n', 'at ', 9516, 9356)\n",
      "skipped  40000 ../validation/Mark Tven/Mark Tven rtf/Tven_The_Adventures_of_Tom_Sayer_2_The_Adventures_of_Huckleberry_Finn.75687.rtf 616504 ('Change not in punctuation', 'y', '\\n', 'at ', 11393, 11260)\n",
      "skipped  220000 ../validation/Mark Tven/Mark Tven rtf/Tven_The_Adventures_of_Tom_Sayer_2_The_Adventures_of_Huckleberry_Finn.75687.rtf 616504 \n",
      "skipped  300000 ../validation/Mark Tven/Mark Tven rtf/Tven_The_Adventures_of_Tom_Sayer_2_The_Adventures_of_Huckleberry_Finn.75687.rtf 616504 ('Change not in punctuation', 's', '\\n', 'at ', 19203, 18744)\n",
      "skipped  400000 ../validation/Mark Tven/Mark Tven rtf/Tven_The_Adventures_of_Tom_Sayer_2_The_Adventures_of_Huckleberry_Finn.75687.rtf 616504 ('Change not in punctuation', 'a', '\\n', 'at ', 11941, 11720)\n",
      "skipped  420000 ../validation/Mark Tven/Mark Tven rtf/Tven_The_Adventures_of_Tom_Sayer_2_The_Adventures_of_Huckleberry_Finn.75687.rtf 616504 ('Change not in punctuation', 'o', '\\n', 'at ', 3805, 3708)\n",
      "skipped  460000 ../validation/Mark Tven/Mark Tven rtf/Tven_The_Adventures_of_Tom_Sayer_2_The_Adventures_of_Huckleberry_Finn.75687.rtf 616504 ('Change not in punctuation', 't', '\\n', 'at ', 12830, 12500)\n",
      "skipped  520000 ../validation/Mark Tven/Mark Tven rtf/Tven_The_Adventures_of_Tom_Sayer_2_The_Adventures_of_Huckleberry_Finn.75687.rtf 616504 ('Change not in punctuation', 't', '\\n', 'at ', 10230, 9945)\n",
      "skipped  20000 ../validation/Mark Tven/Mark Tven rtf/Tven_Priklyucheniya_Toma_Soyera_i_Geklberri_Finna_3_Tom_Soyer_-_syischik.78751.rtf 165788 ('Change not in punctuation', 'к', '\\n', 'at ', 4763, 4688)\n",
      "skipped  0 ../validation/Mark Tven/Mark Tven rtf/Tven_Pismo_angela-hranitelya.149897.rtf 40245 ('Change not in punctuation', '№', '1', 'at ', 4574, 4441)\n",
      "[\n",
      "skipped  20000 ../validation/Mark Tven/Mark Tven rtf/Tven_V_Rime_.57001.rtf 35822 string index out of range\n",
      "skipped  0 ../validation/Mark Tven/Mark Tven rtf/Tven_Monolog_korolya_Leopolda_v_zaschitu_ego_vladyichestva_v_Kongo.57057.rtf 54744 ('Change not in punctuation', 'а', 'е', 'at ', 16152, 15877)\n",
      "skipped  20000 ../validation/Mark Tven/Mark Tven rtf/Tven_Monolog_korolya_Leopolda_v_zaschitu_ego_vladyichestva_v_Kongo.57057.rtf 54744 ('Change not in punctuation', 'и', 'т', 'at ', 13655, 13406)\n",
      "skipped  40000 ../validation/Mark Tven/Mark Tven rtf/Tven_Monolog_korolya_Leopolda_v_zaschitu_ego_vladyichestva_v_Kongo.57057.rtf 54744 ('Change not in punctuation', '°', '\\n', 'at ', 10302, 9982)\n",
      "[\n",
      "skipped  20000 ../validation/Mark Tven/Mark Tven rtf/Tven_Mark_Tven._Aforizmyi_i_shutki.129407.rtf 209844 string index out of range\n",
      "skipped  100000 ../validation/Mark Tven/Mark Tven rtf/Tven_Mark_Tven._Aforizmyi_i_shutki.129407.rtf 209844 ('Change not in punctuation', '№', '9', 'at ', 18371, 17612)\n",
      "skipped  0 ../validation/Mark Tven/Mark Tven rtf/Tven_Pohischenie_belogo_slona.96315.rtf 61494 ('Change not in punctuation', '№', '2', 'at ', 19615, 19167)\n",
      "skipped  20000 ../validation/Mark Tven/Mark Tven rtf/Tven_Pohischenie_belogo_slona.96315.rtf 61494 ('Change not in punctuation', '№', '3', 'at ', 31, 33)\n",
      "skipped  20000 ../validation/Mark Tven/Mark Tven rtf/Tven_Prilozheniya_k_knige_Peshkom_po_Evrope.57095.rtf 67280 \n",
      "skipped  ../validation/Mark Tven/Mark Tven rtf/Tven_Sobranie_sochineniy_v_8_tomah_1_Prostaki_za_granitsey_ili_Put_novyih_palomnikov.124312.rtf 3028787 'charmap' codec can't encode character '\\xe1' in position 0: character maps to <undefined>\n",
      "defaultdict(<function <lambda> at 0x7f204891f9a0>, {'added .': 15206, 'not changed .': 47879, 'removed ,': 80322, 'removed .': 30979, 'not changed ,': 84657, 'changed , with .': 17538, 'changed . with ,': 9146, 'added ,': 10276, 'possible punctuation places': 1927071})\n"
     ]
    }
   ],
   "source": [
    "import joblib\n",
    "f = round(joblib.cpu_count())\n",
    "print(f)\n",
    "torch.set_num_threads(f)\n",
    "\n",
    "import glob\n",
    "from striprtf.striprtf import rtf_to_text\n",
    "from tqdm.notebook import tqdm\n",
    "def dicts_sum(dict1, dict2):\n",
    "  for key in dict2:\n",
    "    dict1[key] += dict2[key]\n",
    "  return dict1\n",
    "\n",
    "clear_punctuation = False\n",
    "res = defaultdict(lambda: 0)\n",
    "i = 0\n",
    "for rtf_path in tqdm(glob.glob(\"../validation/Mark Tven/Mark Tven rtf/*.rtf\")):\n",
    "    with open(rtf_path, \"rb\") as rtf_file:\n",
    "        encoded = rtf_file.read()\n",
    "        try:\n",
    "            rtf = encoded.decode('cp1251')\n",
    "            ttxt = rtf_to_text(rtf).replace('\\xa0', \" \")#[:2000]\n",
    "            for j in range(0, len(ttxt), 20000):\n",
    "                try:\n",
    "                    txt = ttxt[j:j+20000]\n",
    "                    if clear_punctuation:\n",
    "                       text_to_infer = txt.replace(\". \", \" \").replace(\", \", \" \")\n",
    "                    else:\n",
    "                       text_to_infer = txt\n",
    "\n",
    "                    text_to_infer = text_to_infer.replace(\".\", \" \")\\\n",
    "                        .replace(\",\", \" \").replace(\"-\", \" \").replace(\"!\", \" \")\\\n",
    "                        .replace(\"?\", \" \").replace(\"—\", \" \").replace(\":\", \" \")\\\n",
    "                        .replace(\"\\\"\", \" \").replace(\"'\", \" \")\\\n",
    "                        .replace(\"(\", \" \").replace(\")\", \" \").replace(\"&\", \" \")\\\n",
    "                        .replace(\"_\", \" \").replace(\"«\", \" \").replace(\"»\", \" \")\\\n",
    "                        .replace(\"*\", \" \").replace(\";\", \" \").replace(\":\", \" \")\\\n",
    "                        .replace(\"…\", \" \").replace(\"{\", \" \").replace(\"}\", \" \")\\\n",
    "                        .replace(\"#\", \" \").replace(\"–\", \" \").replace(\"“\", \" \")\\\n",
    "                        .replace(\"„\", \" \").lower()\n",
    "                    # print(text_to_infer)\n",
    "                    rres = \"\\n\".join([apply_te(jj, 'ru') for jj in text_to_infer.split(\"\\n\")])\n",
    "                    # print(\"\\n\", txt)\n",
    "                    # print(\"\\n\", rres, \"\\n\")\n",
    "                    diff = calculate_diff2(txt.lower(), rres.lower())\n",
    "                    # print(diff)\n",
    "                    res = dicts_sum(res, diff)\n",
    "                except Exception as ex:\n",
    "                    print(\"skipped \", j, rtf_path, len(encoded), ex)\n",
    "        except Exception as ex:\n",
    "            print(\"skipped \", rtf_path, len(encoded), ex)\n",
    "            # raise\n",
    "        i += 1\n",
    "        # break\n",
    "        # if i> 2: break\n",
    "\n",
    "print(res)"
   ]
  },
  {
   "cell_type": "code",
   "execution_count": 53,
   "id": "c4f4036e-2b8b-42fb-8bbe-5ff962ac3c89",
   "metadata": {
    "tags": []
   },
   "outputs": [
    {
     "name": "stdout",
     "output_type": "stream",
     "text": [
      "1. Tven_Bankovyiy_bilet_v_1000000_funtov_sterlingov\n",
      "2. Tven_Basnya\n",
      "3. Tven_Beglyie_zametki_ob_odnoy_prazdnoy_poezdke\n",
      "4. Tven_Bibleyskie_poucheniya_i_religioznaya_taktika\n",
      "5. Tven_Chelovek_kotoryiy_sovratil_Gedliberg\n",
      "6. Tven_Cheloveku_Hodyaschemu_vo_Tme\n",
      "7. Tven_Chernokozhiy_sluga_generala_Vashingtona\n",
      "8. Tven_Detektiv_s_dvoynyim_pritselom\n",
      "9. Tven_Dikovinnyiy_son\n",
      "10. Tven_Dnevnik_Adama_Fragmentyi_\n",
      "11. Tven_Dnevnik_Evyi\n",
      "12. Tven_Dobroe_slovo_satanyi\n",
      "13. Tven_Dobryiy_aptekar\n",
      "14. Tven_Dva_fragmenta_iz_zapreschennoy_knigi_ozaglavlennoy_Vzglyad_na_istoriyu\n",
      "15. Tven_Dve_kratkie_lektsii_po_nauke\n",
      "16. Tven_Epidemiya\n",
      "17. Tven_Frantsuzyi_i_komanchi\n",
      "18. Tven_Hristianskaya_nauka\n",
      "19. Tven_Inostrannaya_perepiska\n",
      "20. Tven_Ispravlennyie_nekrologi\n",
      "21. Tven_Istoriya_Meymi_Grant_devochki-missionera\n",
      "22. Tven_Istoriya_s_privideniem\n",
      "23. Tven_Iz_Avtobiografii\n",
      "24. Tven_Iz_zapisnyih_knizhek_1865-1905\n",
      "25. Tven_Kak_izbavitsya_ot_rechey\n",
      "26. Tven_Kak_lechit_prostudu\n",
      "27. Tven_Kak_menya_proveli_v_Nyuarke\n",
      "28. Tven_Kak_menya_vyibirali_v_gubernatoryi\n",
      "29. Tven_Kak_vyivodit_kur\n",
      "30. Tven_Kak_ya_redaktiroval_selskohozyaystvennuyu_gazetu\n",
      "31. Tven_Kak_ya_vyistupal_v_roli_agenta_po_obsluzhivaniyu_turistov\n",
      "32. Tven_Kalendar_prostofili_Vilsona\n",
      "33. Tven_Kartinki_proshlogo\n",
      "34. Tven_Koe-kakie_faktyi_prolivayuschie_svet_na_nedavniy_razgul_prestupnosti_v_shtate_Konnektikut\n",
      "35. Tven_Kogda_konchaesh_knigu\n",
      "36. Tven_Kogda_ya_sluzhil_sekretarem\n",
      "37. Tven_Kratkaya_letopis_zhizni_i_tvorchestva_Marka_Tvena\n",
      "38. Tven_Legenda_o_Zagenfelde_v_Germanii\n",
      "39. Tven_Lichnyie_vospominaniya_o_Zhanne_dArk_sera_Lui_de_Konta_eyo_pazha_i_sekretarya\n",
      "40. Tven_Literaturnyie_grehi_Fenimora_Kupera\n",
      "41. Tven_Lyuboznatelnaya_Bessi\n",
      "42. Tven_Lyudoedstvo_v_poezde\n",
      "43. Tven_Mak-Vilyamsyi_i_avtomaticheskaya_signalizatsiya_ot_vorov\n",
      "44. Tven_Mak-Vilyamsyi_i_krup\n",
      "45. Tven_Mak-Vilyamsyi_i_signalizatsiya_ot_vorov\n",
      "46. Tven_Mark_Tven\n",
      "47. Tven_Mir_v_godu_920_posle_sotvoreniya\n",
      "48. Tven_Missis_Mak-Vilyams_i_molniya\n",
      "49. Tven_Moe_krovavoe_zlodeyanie\n",
      "50. Tven_Moi_chasyi\n",
      "51. Tven_Moi_pervyie_podvigi_na_gazetnom_poprische\n",
      "52. Tven_Moim_kritikam-missioneram\n",
      "53. Tven_Molitva_o_pryanike\n",
      "54. Tven_Monolog_korolya_Leopolda_v_zaschitu_ego_vladyichestva_v_Kongo\n",
      "55. Tven_Moral_i_pamyat\n",
      "56. Tven_Mormonyi\n",
      "57. Tven_Moya_avtobiografiya\n",
      "58. Tven_Moya_pervaya_beseda_s_Artimesom_Uordom\n",
      "59. Tven_Moya_pervaya_lozh_i_kak_ya_iz_nee_vyiputalsya\n",
      "60. Tven_Myi_-_anglosaksyi\n",
      "61. Tven_Na_shkolnom_holme\n",
      "62. Tven_Nalegke\n",
      "63. Tven_Nasledstvo_v_tridtsat_tyisyach_dollarov\n",
      "64. Tven_Nastavlenie_hudozhnikam\n",
      "65. Tven_Nauka_ili_udacha\n",
      "66. Tven_Nazoylivyiy_zavsegdatay\n",
      "67. Tven_Nekotoryie_faktyi_kasatelno_nedavnego_karnavala_zlodeyaniy_v_Konnektikute\n",
      "68. Tven_Neveroyatnoe_otkryitie_doktora_Lyoba\n",
      "69. Tven_Niagara\n",
      "70. Tven_Nizshee_zhivotnoe\n",
      "71. Tven_No44_Tainstvennyiy_neznakomets\n",
      "72. Tven_O_knige_Zolya\n",
      "73. Tven_O_parikmaherah\n",
      "74. Tven_Ob_iskusstve_rasskaza\n",
      "75. Tven_Ofitsialnyiy_doklad_IIPN\n",
      "76. Tven_Ohota_za_kovarnoy_indeykoy\n",
      "77. Tven_Okamenelyiy_chelovek\n",
      "78. Tven_Otnositelno_tabaka\n",
      "79. Tven_Otryivki_iz_dnevnikov_Evyi_vklyuchennyie_v_ee_avtobiografiyu\n",
      "80. Tven_Otryivok_iz_dnevnika_Sima_za_920_god_ot_sotvoreniya_mira\n",
      "81. Tven_Otryivok_iz_stati_v_Radikale_za_yanvar_916_goda\n",
      "82. Tven_Otvet_buduschemu_geniyu\n",
      "83. Tven_Pisma_s_Zemli\n",
      "84. Tven_Pismo_angela\n",
      "85. Tven_Pismo_angela-hranitelya\n",
      "86. Tven_Plan_goroda_Parizha\n",
      "87. Tven_Podlinnaya_istoriya_dela_Dzhordzha_Fishera_nyine_pokoynogo\n",
      "88. Tven_Podlinnaya_istoriya_velikogo_govyazhego_kontrakta\n",
      "89. Tven_Pohischenie_belogo_slona\n",
      "90. Tven_Pokoynyiy_Bendzhamen_Franklin\n",
      "91. Tven_Pozolochennyiy_vek\n",
      "92. Tven_Pravdivaya_istoriya_zapisannaya_slovo_v_slovo_kak_ya_ee_slyishal\n",
      "93. Tven_Predstavlyaya_sobravshimsya_doktora_Van-Dayka\n",
      "94. Tven_Priklyucheniya_Toma_Soyera_i_Geklberri_Finna_1_Priklyucheniya_Toma_Soyera\n",
      "95. Tven_Priklyucheniya_Toma_Soyera_i_Geklberri_Finna_1_Priklyucheniya_Toma_Soyera\n",
      "96. Tven_Priklyucheniya_Toma_Soyera_i_Geklberri_Finna_2_Priklyucheniya_Geklberri_Finna\n",
      "97. Tven_Priklyucheniya_Toma_Soyera_i_Geklberri_Finna_3_Tom_Soyer_-_syischik\n",
      "98. Tven_Priklyucheniya_Toma_Soyera_i_Geklberri_Finna_4_Tom_Soyer_za_granitsey\n",
      "99. Tven_Priklyucheniya_Toma_Soyera_i_Geklberri_Finna_5_Zagovor_Toma_Soyera\n",
      "100. Tven_Prilozheniya_k_knige_Peshkom_po_Evrope\n",
      "101. Tven_Prints_i_nischiy\n",
      "102. Tven_Priyatnoe_i_uvlekatelnoe_puteshestvie\n",
      "103. Tven_Prostofilya_Vilson\n",
      "104. Tven_Puteshestvie_kapitana_Stormfilda_v_ray\n",
      "105. Tven_Rasskaz_kommivoyazhera\n",
      "106. Tven_Rasskaz_o_durnom_malchike\n",
      "107. Tven_Rasskaz_o_horoshem_malchike\n",
      "108. Tven_Rasskaz_sobaki\n",
      "109. Tven_Rasskazyi_o_velikodushnyih_postupkah\n",
      "110. Tven_Razgovor_s_intervyuerom\n",
      "111. Tven_Razmyishleniya_o_religii\n",
      "112. Tven_Rezhte_brattsyi_rezhte\n",
      "113. Tven_Ryitsari_truda_-_novaya_dinastiya\n",
      "114. Tven_Sbornik_rasskazov\n",
      "115. Tven_Sdelka_s_satanoy\n",
      "116. Tven_Shkolnaya_gorka\n",
      "117. Tven_Siamskie_bliznetsyi\n",
      "118. Tven_Sobranie_sochineniy_v_8_tomah_1_Prostaki_za_granitsey_ili_Put_novyih_palomnikov\n",
      "119. Tven_Soedinennyie_Linchuyuschie_Shtatyi\n",
      "120. Tven_Sredi_duhov\n",
      "121. Tven_Srednevekovyiy_roman\n",
      "122. Tven_Staryie_vremena_na_Missisipi\n",
      "123. Tven_Tainstvennyiy_neznakomets\n",
      "124. Tven_Telefonnyiy_razgovor\n",
      "125. Tven_The_Adventures_of_Tom_Sayer_2_The_Adventures_of_Huckleberry_Finn\n",
      "126. Tven_Tri_tyisyachi_let_sredi_mikrobov\n",
      "127. Tven_Trogatelnyiy_sluchay_iz_detstva_Dzhordzha_Vashingtona\n",
      "128. Tven_Uchenyie_skazochki_dlya_primernyih_pozhilyih_malchikov_i_devochek\n",
      "129. Tven_Ukroschenie_velosipeda\n",
      "130. Tven_V_Rime\n",
      "131. Tven_V_Rime_\n",
      "132. Tven_V_sude_zverey\n",
      "133. Tven_V_zaschitu_generala_Fanstona\n",
      "134. Tven_Vazhnaya_perepiska\n",
      "135. Tven_Velikaya_revolyutsiya_v_Pitkerne\n",
      "136. Tven_Venera_Kapitoliyskaya\n",
      "137. Tven_Voennaya_molitva\n",
      "138. Tven_Vospominanie\n",
      "139. Tven_Yanki_iz_Konnektikuta_pri_dvore_korolya_Artura\n",
      "140. Tven_Yanki_v_mundirah\n",
      "141. Tven_Zamechatelnyiy_starik\n",
      "142. Tven_Zapozdavshiy_russkiy_pasport\n",
      "143. Tven_Zhaloba_na_korrespondentov_napisannaya_v_San-Frantsisko\n",
      "144. Tven_Zhanna_dArk\n",
      "145. Tven_Zhiv_on_ili_umer\n",
      "146. Tven_Zhurnalistika_v_Tennessi\n",
      "147. Tven_Znamenitaya_skachuschaya_lyagushka_iz_Kalaverasa\n"
     ]
    }
   ],
   "source": [
    "a = list(sorted([i.split('/')[-1].split('.')[0] for i in glob.glob(\"../validation/Mark Tven/Mark Tven rtf/*.rtf\")]))\n",
    "a = a[1:]\n",
    "b = \"\\n\".join([str(i + 1) + \". \" + a[i]#.split('Tven_')[1]\n",
    "               for i in range(len(a))])\n",
    "print(b)"
   ]
  },
  {
   "cell_type": "code",
   "execution_count": 21,
   "id": "110feb68-2b13-4d66-8c8c-9b67fce1a9f7",
   "metadata": {
    "tags": []
   },
   "outputs": [
    {
     "data": {
      "text/plain": [
       "32"
      ]
     },
     "execution_count": 21,
     "metadata": {},
     "output_type": "execute_result"
    }
   ],
   "source": []
  },
  {
   "cell_type": "code",
   "execution_count": 25,
   "id": "75b1cf9b-5fed-4ab6-bd5c-998507df1671",
   "metadata": {
    "tags": []
   },
   "outputs": [
    {
     "data": {
      "text/plain": [
       "64"
      ]
     },
     "execution_count": 25,
     "metadata": {},
     "output_type": "execute_result"
    }
   ],
   "source": []
  },
  {
   "cell_type": "code",
   "execution_count": 196,
   "id": "747dc82d-26a8-418b-9c56-30b7276a5d00",
   "metadata": {
    "tags": []
   },
   "outputs": [
    {
     "data": {
      "text/plain": [
       "'.,-!?—'"
      ]
     },
     "execution_count": 196,
     "metadata": {},
     "output_type": "execute_result"
    }
   ],
   "source": [
    "punct"
   ]
  },
  {
   "cell_type": "code",
   "execution_count": null,
   "id": "b6143f14-99a9-4744-aa9b-db81993b393d",
   "metadata": {},
   "outputs": [],
   "source": []
  },
  {
   "cell_type": "code",
   "execution_count": null,
   "id": "f18847f1-d4a9-4d7c-8948-14d14fa55c6f",
   "metadata": {},
   "outputs": [],
   "source": []
  },
  {
   "cell_type": "code",
   "execution_count": null,
   "id": "a027f95c-895c-4f5d-a2cd-9f23ae39f900",
   "metadata": {},
   "outputs": [],
   "source": []
  },
  {
   "cell_type": "code",
   "execution_count": null,
   "id": "e5c6e555-1c14-45e6-9bb5-803549d44f2a",
   "metadata": {},
   "outputs": [],
   "source": []
  },
  {
   "cell_type": "code",
   "execution_count": 55,
   "id": "b30d78a2-aec3-4269-a350-92f919bc6f5a",
   "metadata": {
    "tags": []
   },
   "outputs": [
    {
     "data": {
      "application/vnd.jupyter.widget-view+json": {
       "model_id": "fa2cf228aaea44dba74bfeaee316eb76",
       "version_major": 2,
       "version_minor": 0
      },
      "text/plain": [
       "  0%|          | 0/148 [00:00<?, ?it/s]"
      ]
     },
     "metadata": {},
     "output_type": "display_data"
    },
    {
     "data": {
      "text/plain": [
       "12083264"
      ]
     },
     "execution_count": 55,
     "metadata": {},
     "output_type": "execute_result"
    }
   ],
   "source": [
    "clear_punctuation = False\n",
    "res = defaultdict(lambda: 0)\n",
    "i = 0\n",
    "ss = 0\n",
    "for rtf_path in tqdm(glob.glob(\"../validation/Mark Tven/Mark Tven rtf/*.rtf\")):\n",
    "    with open(rtf_path, \"rb\") as rtf_file:\n",
    "        encoded = rtf_file.read()\n",
    "        try:\n",
    "            rtf = encoded.decode('cp1251')\n",
    "            ttxt = rtf_to_text(rtf).replace('\\xa0', \" \")\n",
    "            ss += len(ttxt)\n",
    "        except: continue\n",
    "ss - 40 * 10000"
   ]
  },
  {
   "cell_type": "code",
   "execution_count": null,
   "id": "0d3f3f58-5229-41d1-9ea5-6ad33db09687",
   "metadata": {},
   "outputs": [],
   "source": []
  },
  {
   "cell_type": "code",
   "execution_count": null,
   "id": "641a3eff-d5ad-4345-a6aa-eeecc13283ee",
   "metadata": {},
   "outputs": [],
   "source": []
  },
  {
   "cell_type": "code",
   "execution_count": null,
   "id": "ed652b9b-03fb-41f4-8216-0456fb4c64ff",
   "metadata": {},
   "outputs": [],
   "source": []
  },
  {
   "cell_type": "code",
   "execution_count": 67,
   "id": "1e6d0f84-264a-445a-8dcc-c83c88d4d152",
   "metadata": {},
   "outputs": [
    {
     "name": "stdout",
     "output_type": "stream",
     "text": [
      "prose/Bryusov/╨É╨╗╤é╨░╤Ç╤î ╨┐╨╛╨▒╨╡╨┤╤ï.txt\n",
      "prose/Bryusov/╨æ╨╡╨╝╨╛╨╗╤î.txt\n",
      "prose/Bryusov/╨Æ ╨▒╨░╤ê╨╜╨╡.txt\n",
      "prose/Bryusov/╨Æ ╨╖╨╡╤Ç╨║╨░╨╗╨╡.txt\n",
      "prose/Bryusov/╨Æ ╨┐╨╛╨┤╨╖╨╡╨╝╨╜╨╛╨╣ ╤é╤Ä╤Ç╤î╨╝╨╡.txt\n",
      "prose/Bryusov/╨Æ╨╛╤ü╤ü╤é╨░╨╜╨╕╨╡ ╨╝╨░╤ê╨╕╨╜.txt\n",
      "prose/Bryusov/╨ô╨╛╤Ç╨░ ╨ù╨▓╨╡╨╖╨┤╤ï.txt\n",
      "prose/Bryusov/╨ö╨╡╨║╨░╨┤╨╡╨╜╤é.txt\n",
      "prose/Bryusov/╨ö╨╕╤é╤Å ╨╕ ╨▒╨╡╨╖╤â╨╝╨╡╤å.txt\n",
      "prose/Bryusov/╨ù╨░ ╤ü╨╡╨▒╤Å ╨╕╨╗╨╕ ╨╖╨░ ╨┤╤Ç╤â╨│╤â╤Ä.txt\n",
      "prose/Bryusov/╨ù╨░╤ë╨╕╤é╨░.txt\n",
      "prose/Bryusov/╨£╨╛╤å╨░╤Ç╤é.txt\n",
      "prose/Bryusov/╨£╤Ç╨░╨╝╨╛╤Ç╨╜╨░╤Å ╨│╨╛╨╗╨╛╨▓╨║╨░.txt\n",
      "prose/Bryusov/╨¥╨╛╤ç╨╜╨╛╨╡ ╨┐╤â╤é╨╡╤ê╨╡╤ü╤é╨▓╨╕╨╡.txt\n",
      "prose/Bryusov/╨₧╨▒╤Ç╤â╤ç╨╡╨╜╨╕╨╡ ╨ö╨░╤ê╨╕.txt\n",
      "prose/Bryusov/╨₧╨│╨╜╨╡╨╜╨╜╤ï╨╣ ╨░╨╜╨│╨╡╨╗.txt\n",
      "prose/Bryusov/╨ƒ╨╡╤Ç╨▓╨░╤Å ╨╗╤Ä╨▒╨╛╨▓╤î.txt\n",
      "prose/Bryusov/╨ƒ╨╛╨┤ ╨í╤é╨░╤Ç╤ï╨╝ ╨╝╨╛╤ü╤é╨╛╨╝.txt\n",
      "prose/Bryusov/╨ƒ╨╛╤ü╨╗╨╡╨┤╨╜╨╕╨╡ ╨╝╤â╤ç╨╡╨╜╨╕╨║╨╕.txt\n",
      "prose/Bryusov/╨ƒ╨╛╤ü╨╗╨╡╨┤╨╜╨╕╨╡ ╤ü╤é╤Ç╨░╨╜╨╕╤å╤ï ╨╕╨╖ ╨┤╨╜╨╡╨▓╨╜╨╕╨║╨░ ╨╢╨╡╨╜╤ë╨╕╨╜╤ï.txt\n",
      "prose/Bryusov/╨ƒ╤Ç╨╡╨┤╤ü╨╝╨╡╤Ç╤é╨╜╤ï╨╣ ╨▒╤Ç╨╡╨┤ ╨Æ╨╡╤Ç╨│╨╕╨╗╨╕╤Å.txt\n",
      "prose/Bryusov/╨á╨░╤ü╤ü╨║╨░╨╖╤ï ╨£╨░╤ê╨╕, ╤ü ╤Ç╨╡╨║╨╕ ╨£╨╛╨╗╨╛╨│╨╕, ╨┐╨╛╨┤ ╨│╨╛╤Ç╨╛╨┤╨╛╨╝ ╨ú╤ü╤é╤Ä╨╢╨╜╨░.txt\n",
      "prose/Bryusov/╨á╨╡╤ü╨┐╤â╨▒╨╗╨╕╨║╨░ ╨«╨╢╨╜╨╛╨│╨╛ ╨Ü╤Ç╨╡╤ü╤é╨░.txt\n",
      "prose/Bryusov/╨á╨╡╤Å ╨í╨╕╨╗╤î╨▓╨╕╤Å.txt\n",
      "prose/Bryusov/╨í╨╡╨╝╤î ╨╖╨╡╨╝╨╜╤ï╤à ╤ü╨╛╨▒╨╗╨░╨╖╨╜╨╛╨▓.txt\n",
      "prose/Bryusov/╨í╨╡╤ü╤é╤Ç╤ï.txt\n",
      "prose/Bryusov/╨ó╨╡╨┐╨╡╤Ç╤î, - ╨║╨╛╨│╨┤╨░ ╤Å ╨┐╤Ç╨╛╤ü╨╜╤â╨╗╤ü╤Å....txt\n",
      "prose/Bryusov/╨º╨╡╤Ç╨╡╨╖ ╨┐╤Å╤é╨╜╨░╨┤╤å╨░╤é╤î ╨╗╨╡╤é.txt\n",
      "prose/Bryusov/╨¡╨╗╤â╨╗╨╕, ╤ü╤ï╨╜ ╨¡╨╗╤â╨╗╨╕.txt\n",
      "prose/Bryusov/╨«╨┐╨╕╤é╨╡╤Ç ╨┐╨╛╨▓╨╡╤Ç╨╢╨╡╨╜╨╜╤ï╨╣.txt\n",
      "prose/Chekhov/╨É╨│╨░╤ä╤î╤Å.txt\n",
      "prose/Chekhov/╨É╨╗╤î╨▒╨╛╨╝.txt\n",
      "prose/Chekhov/╨É╨╜╨╜╨░ ╨╜╨░ ╤ê╨╡╨╡.txt\n",
      "prose/Chekhov/╨É╨╜╤Ä╤é╨░.txt\n",
      "prose/Chekhov/╨É╨┐╤é╨╡╨║╨░╤Ç╤ê╨░.txt\n",
      "prose/Chekhov/╨É╤Ç╨╕╨░╨┤╨╜╨░.txt\n",
      "prose/Chekhov/╨É╤Ç╤à╨╕╨╡╤Ç╨╡╨╣.txt\n",
      "prose/Chekhov/╨É╤à, ╨╖╤â╨▒╤ï.txt\n",
      "prose/Chekhov/╨æ╨░╨▒╤ï.txt\n",
      "prose/Chekhov/╨æ╨░╤Ç╨░╨╜ ╨╕ ╨▒╨░╤Ç╤ï╤ê╨╜╤Å.txt\n",
      "prose/Chekhov/╨æ╨░╤Ç╤ï╨╜╤Å.txt\n",
      "prose/Chekhov/╨æ╨╡╨│╨╗╨╡╤å.txt\n",
      "prose/Chekhov/╨æ╨╡╨┤╨░ 1886.txt\n",
      "prose/Chekhov/╨æ╨╡╨┤╨░ 1887.txt\n",
      "prose/Chekhov/╨æ╨╡╨╖╨╖╨░╤ë╨╕╤é╨╜╨╛╨╡ ╤ü╤â╤ë╨╡╤ü╤é╨▓╨╛.txt\n",
      "prose/Chekhov/╨æ╨╡╨╗╨╛╨╗╨╛╨▒╤ï╨╣.txt\n",
      "prose/Chekhov/╨æ╨╡╤ü╨╡╨┤╨░ ╨┐╤î╤Å╨╜╨╛╨│╨╛ ╤ü ╤é╤Ç╨╡╨╖╨▓╤ï╨╝ ╤ç╤æ╤Ç╤é╨╛╨╝.txt\n",
      "prose/Chekhov/╨æ╤Ç╨░╨║ ╨┐╨╛ ╤Ç╨░╤ü╤ç╤æ╤é╤â.txt\n",
      "prose/Chekhov/╨æ╤Ç╨╛╨╢╨╡╨╜╨╕╨╡ ╤â╨╝╨╛╨▓.txt\n",
      "prose/Chekhov/╨æ╤â╨╝╨░╨╢╨╜╨╕╨║.txt\n",
      "prose/Chekhov/╨Æ ╨░╨┐╤é╨╡╨║╨╡.txt\n",
      "prose/Chekhov/╨Æ ╨▓╨░╨│╨╛╨╜╨╡.txt\n",
      "prose/Chekhov/╨Æ ╨╛╨▓╤Ç╨░╨│╨╡.txt\n",
      "prose/Chekhov/╨Æ ╨┐╨╛╤é╤æ╨╝╨║╨░╤à.txt\n",
      "prose/Chekhov/╨Æ ╤ü╤ü╤ï╨╗╨║╨╡.txt\n",
      "prose/Chekhov/╨Æ ╤ü╤â╨┤╨╡.txt\n",
      "prose/Chekhov/╨Æ╨░╨╜╤î╨║╨░.txt\n",
      "prose/Chekhov/╨Æ╨╡╨┤╤î╨╝╨░.txt\n",
      "prose/Chekhov/╨Æ╨╡╤Ç╨╛╤ç╨║╨░.txt\n",
      "prose/Chekhov/╨Æ╨╕╨╜╤é.txt\n",
      "prose/Chekhov/╨Æ╨╕╤ê╨╜╤æ╨▓╤ï╨╣ ╤ü╨░╨┤.txt\n",
      "prose/Chekhov/╨Æ╨╛╨┤╨╡╨▓╨╕╨╗╤î.txt\n",
      "prose/Chekhov/╨Æ╨╛╨╗╨╛╨┤╤Å.txt\n",
      "prose/Chekhov/╨Æ╨╛╤ü╨║╨╗╨╕╤å╨░╤é╨╡╨╗╤î╨╜╤ï╨╣ ╨╖╨╜╨░╨║.txt\n",
      "prose/Chekhov/╨Æ╤Ç╨░╨│╨╕.txt\n",
      "prose/Chekhov/╨Æ╤ü╤é╤Ç╨╡╤ç╨░ ╨▓╨╡╤ü╨╜╤ï.txt\n",
      "prose/Chekhov/╨Æ╤ï╨╕╨│╤Ç╤ï╤ê╨╜╤ï╨╣ ╨▒╨╕╨╗╨╡╤é.txt\n",
      "prose/Chekhov/╨ô╨╗╤â╨┐╤ï╨╣ ╤ä╤Ç╨░╨╜╤å╤â╨╖.txt\n",
      "prose/Chekhov/╨ô╨╛╤Ç╨╡.txt\n",
      "prose/Chekhov/╨ô╨╛╤ü╤é╤î.txt\n",
      "prose/Chekhov/╨ô╤Ç╨╡╤ê╨╜╨╕╨║ ╨╕╨╖ ╨ó╨╛╨╗╨╡╨┤╨╛.txt\n",
      "prose/Chekhov/╨ô╤Ç╨╕╤ê╨░.txt\n",
      "prose/Chekhov/╨ô╤â╤ü╨╡╨▓.txt\n",
      "prose/Chekhov/╨ö╨░╨╝╨░ ╤ü ╤ü╨╛╨▒╨░╤ç╨║╨╛╨╣.txt\n",
      "prose/Chekhov/╨ö╨░╤ç╨╜╨╕╨║╨╕.txt\n",
      "prose/Chekhov/╨ö╨░╤ç╨╜╨╕╤å╨░.txt\n",
      "prose/Chekhov/╨ö╨▓╨░ ╤ü╨║╨░╨╜╨┤╨░╨╗╨░.txt\n",
      "prose/Chekhov/╨ö╨▓╨░╨┤╤å╨░╤é╤î ╨┤╨╡╨▓╤Å╤é╨╛╨╡ ╨╕╤Ä╨╜╤Å.txt\n",
      "prose/Chekhov/╨ö╨╡╨╜╤î ╨╖╨░ ╨│╨╛╤Ç╨╛╨┤╨╛╨╝.txt\n",
      "prose/Chekhov/╨ö╨╡╤é╨▓╨╛╤Ç╨░.txt\n",
      "prose/Chekhov/╨ö╨╕╨┐╨╗╨╛╨╝╨░╤é.txt\n",
      "prose/Chekhov/╨ö╨╛╨▒╤Ç╤ï╨╣ ╨╖╨╜╨░╨║╨╛╨╝╤ï╨╣.txt\n",
      "prose/Chekhov/╨ö╨╛╨╝ ╤ü ╨╝╨╡╨╖╨╛╨╜╨╕╨╜╨╛╨╝.txt\n",
      "prose/Chekhov/╨ö╨╛╨╝╨░.txt\n",
      "prose/Chekhov/╨ö╨╛╨┐╨╛╨╗╨╜╨╕╤é╨╡╨╗╤î╨╜╤ï╨╡ ╨▓╨╛╨┐╤Ç╨╛╤ü╤ï.txt\n",
      "prose/Chekhov/╨ö╨╛╤Ç╨╛╨│╨░╤Å ╤ü╨╛╨▒╨░╨║╨░.txt\n",
      "prose/Chekhov/╨ö╨╛╤Ç╨╛╨│╨╕╨╡ ╤â╤Ç╨╛╨║╨╕.txt\n",
      "prose/Chekhov/╨ö╨╛╤ç╤î ╨É╨╗╤î╨▒╨╕╨╛╨╜╨░.txt\n",
      "prose/Chekhov/╨ö╤Ç╨░╨╝╨░ ╨╜╨░ ╨╛╤à╨╛╤é╨╡.txt\n",
      "prose/Chekhov/╨ö╤â╤ê╨╡╤ç╨║╨░.txt\n",
      "prose/Chekhov/╨ö╤â╤ì╨╗╤î.txt\n",
      "prose/Chekhov/╨ù╨╗╨╛╤â╨╝╤ï╤ê╨╗╨╡╨╜╨╜╨╕╨║.txt\n",
      "prose/Chekhov/╨ÿ╨╛╨╜╤ï╤ç.txt\n",
      "prose/Chekhov/╨Ü╨░╤ê╤é╨░╨╜╨║╨░.txt\n",
      "prose/Chekhov/╨Ü╤Ç╤ï╨╢╨╛╨▓╨╜╨╕╨║.txt\n",
      "prose/Chekhov/╨¢╨╛╤ê╨░╨┤╨╕╨╜╨░╤Å ╤ä╨░╨╝╨╕╨╗╨╕╤Å.txt\n",
      "prose/Chekhov/╨¥╨░╨╗╨╕╨╝.txt\n",
      "prose/Chekhov/╨₧ ╨╗╤Ä╨▒╨▓╨╕.txt\n",
      "prose/Chekhov/╨ƒ╨░╨╗╨░╤é╨░ Γäû6.txt\n",
      "prose/Chekhov/╨ƒ╨╡╤Ç╨╡╤ü╨╛╨╗╨╕╨╗.txt\n",
      "prose/Chekhov/╨í╨╝╨╡╤Ç╤é╤î ╤ç╨╕╨╜╨╛╨▓╨╜╨╕╨║╨░.txt\n",
      "prose/Chekhov/╨ó╨╛╨╗╤ü╤é╤ï╨╣ ╨╕ ╤é╨╛╨╜╨║╨╕╨╣.txt\n",
      "prose/Chekhov/╨ó╨╛╤ü╨║╨░.txt\n",
      "prose/Chekhov/╨ó╤Ç╨╕ ╤ü╨╡╤ü╤é╤Ç╤ï.txt\n",
      "prose/Chekhov/╨Ñ╨░╨╝╨╡╨╗╨╡╨╛╨╜.txt\n",
      "prose/Chekhov/╨Ñ╨╕╤Ç╤â╤Ç╨│╨╕╤Å.txt\n",
      "prose/Chekhov/╨º╨╡╨╗╨╛╨▓╨╡╨║ ╨▓ ╤ä╤â╤é╨╗╤Å╤Ç╨╡.txt\n",
      "prose/Dostoevsky/╨ü╨╗╨║╨░ ╨╕ ╤ü╨▓╨░╨┤╤î╨▒╨░.txt\n",
      "prose/Dostoevsky/╨æ╨╡╨┤╨╜╤ï╨╡ ╨╗╤Ä╨┤╨╕.txt\n",
      "prose/Dostoevsky/╨æ╨╡╨╗╤ï╨╡ ╨╜╨╛╤ç╨╕.txt\n",
      "prose/Dostoevsky/╨æ╨╡╤ü╤ï.txt\n",
      "prose/Dostoevsky/╨æ╨╛╨▒╨╛╨║.txt\n",
      "prose/Dostoevsky/╨æ╤Ç╨░╤é╤î╤Å ╨Ü╨░╤Ç╨░╨╝╨░╨╖╨╛╨▓╤ï.txt\n",
      "prose/Dostoevsky/╨Æ╨╡╤ç╨╜╤ï╨╣ ╨╝╤â╨╢.txt\n",
      "prose/Dostoevsky/╨ô╨╛╤ü╨┐╨╛╨┤╨╕╨╜ ╨ƒ╤Ç╨╛╤à╨░╤Ç╤ç╨╕╨╜.txt\n",
      "prose/Dostoevsky/╨ö╨▓╨░ ╤ü╨░╨╝╨╛╤â╨▒╨╕╨╣╤ü╤é╨▓╨░.txt\n",
      "prose/Dostoevsky/╨ö╨▓╨╛╨╣╨╜╨╕╨║.txt\n",
      "prose/Dostoevsky/╨ö╨╜╨╡╨▓╨╜╨╕╨║ ╨┐╨╕╤ü╨░╤é╨╡╨╗╤Å.txt\n",
      "prose/Dostoevsky/╨ö╨╛╨╝╨╛╨▓╨╛╨╣.txt\n",
      "prose/Dostoevsky/╨ö╤Å╨┤╤Ä╤ê╨║╨╕╨╜ ╤ü╨╛╨╜.txt\n",
      "prose/Dostoevsky/╨ù╨░╨┐╨╕╤ü╨║╨╕ ╨╕╨╖ ╨┐╨╛╨┤╨┐╨╛╨╗╤î╤Å.txt\n",
      "prose/Dostoevsky/╨ÿ╨│╤Ç╨╛╨║.txt\n",
      "prose/Dostoevsky/╨ÿ╨┤╨╕╨╛╤é.txt\n",
      "prose/Dostoevsky/╨Ü╨╛╤Ç╨╛╤é╨║╨░╤Å.txt\n",
      "prose/Dostoevsky/╨Ü╤Ç╨╛╨║╨╛╨┤╨╕╨╗.txt\n",
      "prose/Dostoevsky/╨£╨░╨╗╨╡╨╜╤î╨║╨╕╨╣ ╨│╨╡╤Ç╨╛╨╣.txt\n",
      "prose/Dostoevsky/╨£╨░╨╗╤î╤ç╨╕╨║ ╤â ╨Ñ╤Ç╨╕╤ü╤é╨░ ╨╜╨░ ╤æ╨╗╨║╨╡.txt\n",
      "prose/Dostoevsky/╨¥╨╡╤é╨╛╤ç╨║╨░ ╨¥╨╡╨╖╨▓╨░╨╜╨╛╨▓╨░.txt\n",
      "prose/Dostoevsky/╨ƒ╨╡╤é╨╡╤Ç╨▒╤â╤Ç╨│╤ü╨║╨╕╨╡ ╤ü╨╜╨╛╨▓╨╕╨┤╨╡╨╜╨╕╤Å ╨▓ ╤ü╤é╨╕╤à╨░╤à ╨╕ ╨▓ ╨┐╤Ç╨╛╨╖╨╡.txt\n",
      "prose/Dostoevsky/╨ƒ╨╛╨┤╤Ç╨╛╤ü╤é╨╛╨║.txt\n",
      "prose/Dostoevsky/╨ƒ╨╛╨╗╨╖╤â╨╜╨║╨╛╨▓.txt\n",
      "prose/Dostoevsky/╨á╨╛╨╝╨░╨╜ ╨▓ ╨┤╨╡╨▓╤Å╤é╨╕ ╨┐╨╕╤ü╤î╨╝╨░╤à.txt\n",
      "prose/Dostoevsky/╨í╨╡╨╗╨╛ ╨í╤é╨╡╨┐╨░╨╜╤ç╨╕╨║╨╛╨▓╨╛ ╨╕ ╨╡╨│╨╛ ╨╛╨▒╨╕╤é╨░╤é╨╡╨╗╨╕.txt\n",
      "prose/Dostoevsky/╨í╨║╨▓╨╡╤Ç╨╜╤ï╨╣ ╨░╨╜╨╡╨║╨┤╨╛╤é.txt\n",
      "prose/Dostoevsky/╨í╨╗╨░╨▒╨╛╨╡ ╤ü╨╡╤Ç╨┤╤å╨╡.txt\n",
      "prose/Dostoevsky/╨í╨╛╨╜ ╤ü╨╝╨╡╤ê╨╜╨╛╨│╨╛ ╤ç╨╡╨╗╨╛╨▓╨╡╨║╨░.txt\n",
      "prose/Dostoevsky/╨ú╨╜╨╕╨╢╨╡╨╜╨╜╤ï╨╡ ╨╕ ╨╛╤ü╨║╨╛╤Ç╨▒╨╗╤æ╨╜╨╜╤ï╨╡.txt\n",
      "prose/Dostoevsky/╨Ñ╨╛╨╖╤Å╨╣╨║╨░.txt\n",
      "prose/Dostoevsky/╨º╨╡╤ü╤é╨╜╤ï╨╣ ╨▓╨╛╤Ç.txt\n",
      "prose/Dostoevsky/╨º╤â╨╢╨░╤Å ╨╢╨╡╨╜╨░ ╨╕ ╨╝╤â╨╢ ╨┐╨╛╨┤ ╨║╤Ç╨╛╨▓╨░╤é╤î╤Ä.txt\n",
      "prose/Gogol/╨Æ╨╡╤ç╨╡╤Ç╨░ ╨╜╨░ ╤à╤â╤é╨╛╤Ç╨╡ ╨▒╨╗╨╕╨╖ ╨ö╨╕╨║╨░╨╜╤î╨║╨╕.txt\n",
      "prose/Gogol/╨Æ╨╕╨╣.txt\n",
      "prose/Gogol/╨ù╨░╨┐╨╕╤ü╨║╨╕ ╤ü╤â╨╝╨░╤ü╤ê╨╡╨┤╤ê╨╡╨│╨╛.txt\n",
      "prose/Gogol/╨Ü╨╛╨╗╤Å╤ü╨║╨░.txt\n",
      "prose/Gogol/╨£╤æ╤Ç╤é╨▓╤ï╨╡ ╨┤╤â╤ê╨╕.txt\n",
      "prose/Gogol/╨¥╨╡╨▓╤ü╨║╨╕╨╣ ╨┐╤Ç╨╛╤ü╨┐╨╡╨║╤é.txt\n",
      "prose/Gogol/╨¥╨╛╤ü.txt\n",
      "prose/Gogol/╨¥╨╛╤ç╨╕ ╨╜╨░ ╨▓╨╕╨╗╨╗╨╡.txt\n",
      "prose/Gogol/╨¥╨╛╤ç╤î ╨┐╨╡╤Ç╨╡╨┤ ╨á╨╛╨╢╨┤╨╡╤ü╤é╨▓╨╛╨╝.txt\n",
      "prose/Gogol/╨ƒ╨╛╨▓╨╡╤ü╤é╤î ╨╛ ╤é╨╛╨╝, ╨║╨░╨║ ╨┐╨╛╤ü╤ü╨╛╤Ç╨╕╨╗╤ü╤Å ╨ÿ╨▓╨░╨╜ ╨ÿ╨▓╨░╨╜╨╛╨▓╨╕╤ç ╤ü ╨ÿ╨▓╨░╨╜╨╛╨╝ ╨¥╨╕╨║╨╕╤ä╨╛╤Ç╨╛╨▓╨╕╤ç╨╡╨╝.txt\n",
      "prose/Gogol/╨ƒ╨╛╤Ç╤é╤Ç╨╡╤é.txt\n",
      "prose/Gogol/╨á╨╡╨▓╨╕╨╖╨╛╤Ç.txt\n",
      "prose/Gogol/╨á╨╕╨╝.txt\n",
      "prose/Gogol/╨í╤é╨░╤Ç╨╛╤ü╨▓╨╡╤é╤ü╨║╨╕╨╡ ╨┐╨╛╨╝╨╡╤ë╨╕╨║╨╕.txt\n",
      "prose/Gogol/╨ó╨░╤Ç╨░╤ü ╨æ╤â╨╗╤î╨▒╨░.txt\n",
      "prose/Gogol/╨¿╨╕╨╜╨╡╨╗╤î.txt\n",
      "prose/Gorky/╨æ╤ï╨▓╤ê╨╕╨╡ ╨╗╤Ä╨┤╨╕.txt\n",
      "prose/Gorky/╨Æ ╨╗╤Ä╨┤╤Å╤à.txt\n",
      "prose/Gorky/╨Æ ╤ü╤é╨╡╨┐╨╕.txt\n",
      "prose/Gorky/╨Æ╤ï╨▓╨╛╨┤.txt\n",
      "prose/Gorky/╨ô╨╛╤Ç╨╛╨┤ ╨╢╤æ╨╗╤é╨╛╨│╨╛ ╨┤╤î╤Å╨▓╨╛╨╗╨░.txt\n",
      "prose/Gorky/╨ö╨▓╨░╨┤╤å╨░╤é╤î ╤ê╨╡╤ü╤é╤î ╨╕ ╨╛╨┤╨╜╨░.txt\n",
      "prose/Gorky/╨ö╨╡╨╗╨╛ ╤ü ╨╖╨░╤ü╤é╤æ╨╢╨║╨░╨╝╨╕.txt\n",
      "prose/Gorky/╨ö╨╡╤é╤ü╤é╨▓╨╛.txt\n",
      "prose/Gorky/╨ò╨╝╨╡╨╗╤î╤Å╨╜ ╨ƒ╨╕╨╗╤Å╨╣.txt\n",
      "prose/Gorky/╨ù╨╜╨░╤à╨░╤Ç╨║╨░.txt\n",
      "prose/Gorky/╨Ü╨╛╨╜╨╛╨▓╨░╨╗╨╛╨▓.txt\n",
      "prose/Gorky/╨¢╨╡╨┤╨╛╤à╨╛╨┤.txt\n",
      "prose/Gorky/╨£╨░-╨░╨╗╨╡╨╜╤î╨║╨░╤Å!....txt\n",
      "prose/Gorky/╨£╨░╨║╨░╤Ç ╨º╤â╨┤╤Ç╨░.txt\n",
      "prose/Gorky/╨£╨░╤é╤î.txt\n",
      "prose/Gorky/╨£╨╡╤ë╨░╨╜╨╡.txt\n",
      "prose/Gorky/╨£╨╛╨╕ ╤â╨╜╨╕╨▓╨╡╤Ç╤ü╨╕╤é╨╡╤é╤ï.txt\n",
      "prose/Gorky/╨¥╨░ ╨┤╨╜╨╡.txt\n",
      "prose/Gorky/╨¥╨░ ╨┐╨╗╨╛╤é╨░╤à.txt\n",
      "prose/Gorky/╨¥╨╡╤ü╨▓╨╛╨╡╨▓╤Ç╨╡╨╝╨╡╨╜╨╜╤ï╨╡ ╨╝╤ï╤ü╨╗╨╕.txt\n",
      "prose/Gorky/╨₧╨╖╨╛╤Ç╨╜╨╕╨║.txt\n",
      "prose/Gorky/╨ƒ╨╡╤ü╨╜╤Å ╨╛ ╨æ╤â╤Ç╨╡╨▓╨╡╤ü╤é╨╜╨╕╨║╨╡.txt\n",
      "prose/Gorky/╨ƒ╨╡╤ü╨╜╤Å ╨╛ ╤ü╨╛╨║╨╛╨╗╨╡.txt\n",
      "prose/Gorky/╨ƒ╤Ç╨╛╤à╨╛╨┤╨╕╨╝╨╡╤å.txt\n",
      "prose/Gorky/╨á╨╛╨╢╨┤╨╡╨╜╨╕╨╡ ╤ç╨╡╨╗╨╛╨▓╨╡╨║╨░.txt\n",
      "prose/Gorky/╨í╨║╨░╨╖╨║╨╕ ╨╛╨▒ ╨ÿ╤é╨░╨╗╨╕╨╕.txt\n",
      "prose/Gorky/╨í╨║╤â╨║╨╕ ╤Ç╨░╨┤╨╕.txt\n",
      "prose/Gorky/╨í╤é╨░╤Ç╤â╤à╨░ ╨ÿ╨╖╨╡╤Ç╨│╨╕╨╗╤î.txt\n",
      "prose/Gorky/╨í╤é╤Ç╨░╤ü╤é╨╕-╨╝╨╛╤Ç╨┤╨░╤ü╤é╨╕.txt\n",
      "prose/Gorky/╨ñ╨╛╨╝╨░ ╨ô╨╛╤Ç╨┤╨╡╨╡╨▓.txt\n",
      "prose/Gorky/╨º╨╡╨╗╨║╨░╤ê.txt\n",
      "prose/Gorky/╨º╨╡╨╗╨╛╨▓╨╡╨║.txt\n",
      "prose/Gorky/╨»╤Ç╨╝╨░╤Ç╨║╨░ ╨▓ ╨ô╨╛╨╗╤é╨▓╨╡.txt\n",
      "prose/Herzen/╨ö╨╛╨║╤é╨╛╤Ç ╨Ü╤Ç╤â╨┐╨╛╨▓.txt\n",
      "prose/Herzen/╨ö╨╛╨╗╨│ ╨┐╤Ç╨╡╨╢╨┤╨╡ ╨▓╤ü╨╡╨│╨╛.txt\n",
      "prose/Herzen/╨ò╨╗╨╡╨╜╨░.txt\n",
      "prose/Herzen/╨Ü╤é╨╛ ╨▓╨╕╨╜╨╛╨▓╨░╤é.txt\n",
      "prose/Herzen/╨¢╨╡╨│╨╡╨╜╨┤╨░.txt\n",
      "prose/Herzen/╨£╨╕╨╝╨╛╨╡╨╖╨┤╨╛╨╝.txt\n",
      "prose/Herzen/╨ƒ╨╛╨▓╤Ç╨╡╨╢╨┤╤æ╨╜╨╜╤ï╨╣.txt\n",
      "prose/Herzen/╨í ╤é╨╛╨│╨╛ ╨▒╨╡╤Ç╨╡╨│╨░.txt\n",
      "prose/Herzen/╨í╨║╤â╨║╨╕ ╤Ç╨░╨┤╨╕.txt\n",
      "prose/Herzen/╨í╨╛╤Ç╨╛╨║╨░-╨▓╨╛╤Ç╨╛╨▓╨║╨░.txt\n",
      "prose/Herzen/╨ó╤Ç╨░╨│╨╡╨┤╨╕╤Å ╨╖╨░ ╤ü╤é╨░╨║╨░╨╜╨╛╨╝ ╨│╤Ç╨╛╨│╨░.txt\n",
      "prose/Lermontov/╨É╤ê╨╕╨║-╨Ü╨╡╤Ç╨╕╨▒.txt\n",
      "prose/Lermontov/╨ô╨╡╤Ç╨╛╨╣ ╨╜╨░╤ê╨╡╨│╨╛ ╨▓╤Ç╨╡╨╝╨╡╨╜╨╕.txt\n",
      "prose/Lermontov/╨¿╤é╨╛╤ü╤ü.txt\n",
      "prose/Pushkin/╨É╤Ç╨░╨┐ ╨ƒ╨╡╤é╤Ç╨░ ╨Æ╨╡╨╗╨╕╨║╨╛╨│╨╛.txt\n",
      "prose/Pushkin/╨ö╤â╨▒╤Ç╨╛╨▓╤ü╨║╨╕╨╣.txt\n",
      "prose/Pushkin/╨ò╨│╨╕╨┐╨╡╤é╤ü╨║╨╕╨╡ ╨╜╨╛╤ç╨╕.txt\n",
      "prose/Pushkin/╨ÿ╤ü╤é╨╛╤Ç╨╕╤Å ╨ƒ╤â╨│╨░╤ç╤æ╨▓╨░.txt\n",
      "prose/Pushkin/╨ÿ╤ü╤é╨╛╤Ç╨╕╤Å ╤ü╨╡╨╗╨░ ╨ô╨╛╤Ç╤Ä╤à╨╕╨╜╨░.txt\n",
      "prose/Pushkin/╨Ü╨░╨┐╨╕╤é╨░╨╜╤ü╨║╨░╤Å ╨┤╨╛╤ç╨║╨░.txt\n",
      "prose/Pushkin/╨Ü╨╕╤Ç╨┤╨╢╨░╨╗╨╕.txt\n",
      "prose/Pushkin/╨ƒ╨╕╨║╨╛╨▓╨░╤Å ╨┤╨░╨╝╨░.txt\n",
      "prose/Pushkin/╨ƒ╨╛╨▓╨╡╤ü╤é╨╕ ╨æ╨╡╨╗╨║╨╕╨╜╨░.txt\n",
      "prose/Pushkin/╨á╨╛╤ü╨╗╨░╨▓╨╗╨╡╨▓.txt\n",
      "prose/Tolstoy/╨É╨╗╤î╨▒╨╡╤Ç╤é.txt\n",
      "prose/Tolstoy/╨É╨╗╤æ╤ê╨░ ╨│╨╛╤Ç╤ê╨╛╨║.txt\n",
      "prose/Tolstoy/╨É╨╜╨╜╨░ ╨Ü╨░╤Ç╨╡╨╜╨╕╨╜╨░.txt\n",
      "prose/Tolstoy/╨æ╨╛╨╢╨╡╤ü╨║╨╛╨╡ ╨╕ ╤ç╨╡╨╗╨╛╨▓╨╡╤ç╨╡╤ü╨║╨╛╨╡.txt\n",
      "prose/Tolstoy/╨Æ╨╛╨╣╨╜╨░ ╨╕ ╨╝╨╕╤Ç. ╨ó╨╛╨╝ 1.txt\n",
      "prose/Tolstoy/╨Æ╨╛╨╣╨╜╨░ ╨╕ ╨╝╨╕╤Ç. ╨ó╨╛╨╝ 2.txt\n",
      "prose/Tolstoy/╨Æ╨╛╨╣╨╜╨░ ╨╕ ╨╝╨╕╤Ç. ╨ó╨╛╨╝ 3.txt\n",
      "prose/Tolstoy/╨Æ╨╛╨╣╨╜╨░ ╨╕ ╨╝╨╕╤Ç. ╨ó╨╛╨╝ 4.txt\n",
      "prose/Tolstoy/╨Æ╨╛╤ü╨║╤Ç╨╡╤ü╨╡╨╜╨╕╨╡.txt\n",
      "prose/Tolstoy/╨ö╨▓╨░ ╨│╤â╤ü╨░╤Ç╨░.txt\n",
      "prose/Tolstoy/╨ö╨╡╨║╨░╨▒╤Ç╨╕╤ü╤é╤ï.txt\n",
      "prose/Tolstoy/╨ö╨╡╤é╤ü╤é╨▓╨╛.txt\n",
      "prose/Tolstoy/╨ö╤î╤Å╨▓╨╛╨╗.txt\n",
      "prose/Tolstoy/╨ù╨░╨┐╨╕╤ü╨║╨╕ ╨╝╨░╤Ç╨║╨╡╤Ç╨░.txt\n",
      "prose/Tolstoy/╨ù╨░╨┐╨╕╤ü╨║╨╕ ╤ü╤â╨╝╨░╤ü╤ê╨╡╨┤╤ê╨╡╨│╨╛.txt\n",
      "prose/Tolstoy/╨ÿ╨╖ ╨╖╨░╨┐╨╕╤ü╨╛╨║ ╨║╨╜╤Å╨╖╤Å ╨ö. ╨¥╨╡╤à╨╗╤Ä╨┤╨╛╨▓╨░ (╨¢╤Ä╤å╨╡╤Ç╨╜).txt\n",
      "prose/Tolstoy/╨Ü╨░╨▓╨║╨░╨╖╤ü╨║╨╕╨╣ ╨┐╨╗╨╡╨╜╨╜╨╕╨║.txt\n",
      "prose/Tolstoy/╨Ü╨░╨╖╨░╨║╨╕.txt\n",
      "prose/Tolstoy/╨Ü╨╛╤Ç╨╜╨╡╨╣ ╨Æ╨░╤ü╨╕╨╗╤î╨╡╨▓.txt\n",
      "prose/Tolstoy/╨Ü╤Ç╨╡╨╣╤å╨╡╤Ç╨╛╨▓╨░ ╤ü╨╛╨╜╨░╤é╨░.txt\n",
      "prose/Tolstoy/╨£╨╡╤é╨╡╨╗╤î.txt\n",
      "prose/Tolstoy/╨¥╨░╨▒╨╡╨│.txt\n",
      "prose/Tolstoy/╨₧╤é╨╡╤å ╨í╨╡╤Ç╨│╨╕╨╣.txt\n",
      "prose/Tolstoy/╨₧╤é╤Ç╨╛╤ç╨╡╤ü╤é╨▓╨╛.txt\n",
      "prose/Tolstoy/╨ƒ╨╛╨╗╨╕╨║╤â╤ê╨░.txt\n",
      "prose/Tolstoy/╨ƒ╨╛╤ü╨╗╨╡ ╨▒╨░╨╗╨░.txt\n",
      "prose/Tolstoy/╨ƒ╤Ç╨░╨▓╨╡╨┤╨╜╤ï╨╣ ╤ü╤â╨┤╤î╤Å.txt\n",
      "prose/Tolstoy/╨á╨░╨▒╨╛╤é╨╜╨╕╨║ ╨ò╨╝╨╡╨╗╤î╤Å╨╜ ╨╕ ╨┐╤â╤ü╤é╨╛╨╣ ╨▒╨░╤Ç╨░╨▒╨░╨╜.txt\n",
      "prose/Tolstoy/╨á╨░╨╖╨╢╨░╨╗╨╛╨▓╨░╨╜╨╜╤ï╨╣.txt\n",
      "prose/Tolstoy/╨á╤â╨▒╨║╨░ ╨╗╨╡╤ü╨░.txt\n",
      "prose/Tolstoy/╨í╨╡╨▓╨░╤ü╤é╨╛╨┐╨╛╨╗╤î ╨▓ ╨░╨▓╨│╤â╤ü╤é╨╡ 1855 ╨│╨╛╨┤╨░.txt\n",
      "prose/Tolstoy/╨í╨╡╨▓╨░╤ü╤é╨╛╨┐╨╛╨╗╤î ╨▓ ╨┤╨╡╨║╨░╨▒╤Ç╨╡ ╨╝╨╡╤ü╤Å╤å╨╡.txt\n",
      "prose/Tolstoy/╨í╨╡╨▓╨░╤ü╤é╨╛╨┐╨╛╨╗╤î ╨▓ ╨╝╨░╨╡.txt\n",
      "prose/Tolstoy/╨í╨╡╨╝╨╡╨╣╨╜╨╛╨╡ ╤ü╤ç╨░╤ü╤é╤î╨╡.txt\n",
      "prose/Tolstoy/╨í╨╝╨╡╤Ç╤é╤î ╨ÿ╨▓╨░╨╜╨░ ╨ÿ╨╗╤î╨╕╤ç╨░.txt\n",
      "prose/Tolstoy/╨ó╤Ç╨╕ ╤ü╨╝╨╡╤Ç╤é╨╕.txt\n",
      "prose/Tolstoy/╨ú╤é╤Ç╨╛ ╨┐╨╡╨╝╨╡╤ë╨╕╨║╨░.txt\n",
      "prose/Tolstoy/╨Ñ╨░╨┤╨╢╨╕-╨£╤â╤Ç╨░╤é.txt\n",
      "prose/Tolstoy/╨Ñ╨╛╨╖╤Å╨╕╨╜ ╨╕ ╤Ç╨░╨▒╨╛╤é╨╜╨╕╨║.txt\n",
      "prose/Tolstoy/╨Ñ╨╛╨╗╤ü╤é╨╛╨╝╨╡╤Ç.txt\n",
      "prose/Tolstoy/╨«╨╜╨╛╤ü╤é╤î.txt\n",
      "prose/Tolstoy/╨»╨│╨╛╨┤╤ï.txt\n",
      "prose/Turgenev/╨É╤ü╤Å.txt\n",
      "prose/Turgenev/╨Æ╨╡╤ê╨╜╨╕╨╡ ╨▓╨╛╨┤╤ï.txt\n",
      "prose/Turgenev/╨ö╨▓╨╛╤Ç╤Å╨╜╤ü╨║╨╛╨╡ ╨│╨╜╨╡╨╖╨┤╨╛.txt\n",
      "prose/Turgenev/╨ö╤ï╨╝.txt\n",
      "prose/Turgenev/╨ù╨░╨┐╨╕╤ü╨║╨╕ ╨╛╤à╨╛╤é╨╜╨╕╨║╨░.txt\n",
      "prose/Turgenev/╨£╤â╨╝╤â.txt\n",
      "prose/Turgenev/╨₧╤é╤å╤ï ╨╕ ╨┤╨╡╤é╨╕.txt\n",
      "prose/Turgenev/╨ƒ╨╡╤Ç╨▓╨░╤Å ╨╗╤Ä╨▒╨╛╨▓╤î.txt\n",
      "prose/Turgenev/╨í╤é╨╕╤à╨╛╤é╨▓╨╛╤Ç╨╡╨╜╨╕╤Å ╨▓ ╨┐╤Ç╨╛╨╖╨╡.txt\n",
      "prose/Turgenev/╨»╨║╨╛╨▓ ╨ƒ╨░╤ü╤ï╨╜╨║╨╛╨▓.txt\n",
      "publicism/Tolstoy/Carthago Delenda Est.txt\n",
      "publicism/Tolstoy/╨æ╨╡╤ü╤ü╨╝╤ï╤ü╨╗╨╡╨╜╨╜╤ï╨╡ ╨╝╨╡╤ç╤é╨░╨╜╨╕╤Å.txt\n",
      "publicism/Tolstoy/╨æ╨╛╨│╤â ╨╕╨╗╨╕ ╨╝╨░╨╝╨╝╨╛╨╜╨╡.txt\n",
      "publicism/Tolstoy/╨ö╨▓╨░ ╨┐╨╕╤ü╤î╨╝╨░ ╨║ ╨£.╨ô╨░╨╜╨┤╨╕.txt\n",
      "publicism/Tolstoy/╨ö╨▓╨╡ ╨▓╨╛╨╣╨╜╤ï.txt\n",
      "publicism/Tolstoy/╨ö╨╛╨║╨╗╨░╨┤, ╨┐╤Ç╨╕╨│╨╛╤é╨╛╨▓╨╗╨╡╨╜╨╜╤ï╨╣ ╨┤╨╗╤Å ╨║╨╛╨╜╨│╤Ç╨╡╤ü╤ü╨░ ╨╛ ╨╝╨╕╤Ç╨╡ ╨▓ ╨í╤é╨╛╨║╨│╨╛╨╗╤î╨╝╨╡.txt\n",
      "publicism/Tolstoy/╨ÿ╤ü╨┐╨╛╨▓╨╡╨┤╤î.txt\n",
      "publicism/Tolstoy/╨¥╨╡ ╨╝╨╛╨│╤â ╨╝╨╛╨╗╤ç╨░╤é╤î (1-╤Å ╤Ç╨╡╨┤╨░╨║╤å╨╕╤Å).txt\n",
      "publicism/Tolstoy/╨¥╨╡╨┤╨╡╨╗╨░╨╜╨╕╨╡.txt\n",
      "publicism/Tolstoy/╨₧ ╨▒╨╡╨╖╤â╨╝╨╕╨╕.txt\n",
      "publicism/Tolstoy/╨₧ ╨▓╨╡╤Ç╨╛╤é╨╡╤Ç╨┐╨╕╨╝╨╛╤ü╤é╨╕.txt\n",
      "publicism/Tolstoy/╨₧ ╨╜╨░╤â╨║╨╡ (╨₧╤é╨▓╨╡╤é  ╨║╤Ç╨╡╤ü╤é╤î╤Å╨╜╨╕╨╜╤â).txt\n",
      "publicism/Tolstoy/╨₧ ╤ü╨╛╤å╨╕╨░╨╗╨╕╨╖╨╝╨╡.txt\n",
      "publicism/Tolstoy/╨₧╤é╨▓╨╡╤é ╨┐╨╛╨╗╤î╤ü╨║╨╛╨╣ ╨╢╨╡╨╜╤ë╨╕╨╜╨╡.txt\n",
      "publicism/Tolstoy/╨ƒ╨░╤é╤Ç╨╕╨╛╤é╨╕╨╖╨╝ ╨╕ ╨┐╤Ç╨░╨▓╨╕╤é╨╡╨╗╤î╤ü╤é╨▓╨╛.txt\n",
      "publicism/Tolstoy/╨ƒ╨░╤é╤Ç╨╕╨╛╤é╨╕╨╖╨╝ ╨╕╨╗╨╕ ╨╝╨╕╤Ç.txt\n",
      "publicism/Tolstoy/╨ƒ╨╡╤Ç╨▓╨░╤Å ╤ü╤é╤â╨┐╨╡╨╜╤î.txt\n",
      "publicism/Tolstoy/╨ƒ╨╕╤ü╤î╨╝╨╛ ╤Ç╨╡╨▓╨╛╨╗╤Ä╤å╨╕╨╛╨╜╨╡╤Ç╤â.txt\n",
      "publicism/Tolstoy/╨ƒ╨╕╤ü╤î╨╝╨╛ ╤ü╤é╤â╨┤╨╡╨╜╤é╤â ╨╛ ╨┐╤Ç╨░╨▓╨╡.txt\n",
      "publicism/Tolstoy/╨ƒ╨╛ ╨┐╨╛╨▓╨╛╨┤╤â ╨╖╨░╨║╨╗╤Ä╤ç╨╡╨╜╨╕╤Å ╨Æ.╨É. ╨£╨╛╨╗╤ç╨╜╨╕╨║╨╛╨▓╨░.txt\n",
      "publicism/Tolstoy/╨ƒ╨╛╤ç╨╡╨╝╤â ╤à╤Ç╨╕╤ü╤é╨╕╨░╨╜╤ü╨║╨╕╨╡ ╨╜╨░╤Ç╨╛╨┤╤ï ╨▓╨╛╨╛╨▒╤ë╨╡ ╨╕ ╨▓ ╨╛╤ü╨╛╨▒╨╡╨╜╨╜╨╛╤ü╤é╨╕ ╤Ç╤â╤ü╤ü╨║╨╕╨╣ ╨╜╨░╤à╨╛╨┤╤Å╤é╤ü╤Å ╤é╨╡╨┐╨╡╤Ç╤î ╨▓ ╨▒╨╡╨┤╤ü╤é╨▓╨╡╨╜╨╜╨╛╨╝ ╨┐╨╛╨╗╨╛╨╢╨╡╨╜╨╕╨╕.txt\n",
      "publicism/Tolstoy/╨ƒ╤Ç╨╕╨▒╨╗╨╕╨╢╨╡╨╜╨╕╨╡ ╨║╨╛╨╜╤å╨░.txt\n",
      "publicism/Tolstoy/╨í╨╗╨░╨▓╤Å╨╜╤ü╨║╨╛╨╝╤â ╤ü╤è╨╡╨╖╨┤╤â.txt\n",
      "publicism/Tolstoy/╨í╤é╤â╨┤╨╡╨╜╤ç╨╡╤ü╨║╨╛╨╡ ╨┤╨▓╨╕╨╢╨╡╨╜╨╕╨╡ 1899 ╨│╨╛╨┤╨░.txt\n",
      "publicism/Tolstoy/╨ú╨┤╨╕╨▓╨╕╤é╨╡╨╗╤î╨╜╤ï╨╡ ╤ü╤â╤ë╨╡╤ü╤é╨▓╨░.txt\n",
      "publicism/Tolstoy/╨ª╨╡╤Ç╨║╨╛╨▓╤î ╨╕ ╨│╨╛╤ü╤â╨┤╨░╤Ç╤ü╤é╨▓╨╛.txt\n"
     ]
    }
   ],
   "source": [
    "import zipfile\n",
    "with zipfile.ZipFile( \"./cache2/writers.zip\", 'r') as writers_dir:\n",
    "    for file in writers_dir.filelist:\n",
    "        f = file.filename\n",
    "        good_file = ('prose' in f or 'publicism' in f) and 'txt' in f and 'Blok' not in f # and 'Tolstoy' in f\n",
    "        if not good_file: continue\n",
    "        print(file.filename)"
   ]
  },
  {
   "cell_type": "code",
   "execution_count": null,
   "id": "27c60e6a-e07a-4e13-92cf-4082c219078b",
   "metadata": {},
   "outputs": [],
   "source": []
  },
  {
   "cell_type": "code",
   "execution_count": 65,
   "id": "b473e351-fdb3-4b5d-8b6c-1f016407e5fd",
   "metadata": {},
   "outputs": [
    {
     "data": {
      "text/plain": [
       "3579040"
      ]
     },
     "execution_count": 65,
     "metadata": {},
     "output_type": "execute_result"
    }
   ],
   "source": [
    "from dataset_lib import get_lenta_records, get_writers_multi_stream\n",
    "from razdel import tokenize\n",
    "tokens = 0\n",
    "for i in get_writers_multi_stream().limit(10_000):\n",
    "    tokens += len(list(tokenize(i)))\n",
    "tokens"
   ]
  },
  {
   "cell_type": "code",
   "execution_count": null,
   "id": "e517aeef-9727-49da-bca3-86800a2f062c",
   "metadata": {},
   "outputs": [],
   "source": []
  },
  {
   "cell_type": "code",
   "execution_count": 59,
   "id": "2241994b-80d4-46e9-90f8-35bf1a1ed293",
   "metadata": {
    "tags": []
   },
   "outputs": [
    {
     "data": {
      "text/plain": [
       "torch.Size([1675, 32, 489])"
      ]
     },
     "execution_count": 59,
     "metadata": {},
     "output_type": "execute_result"
    }
   ],
   "source": [
    "storage = Storage(\"cache2/storage2\", enable_watcher=False)\n",
    "storage.get(\"x\", 0).shape"
   ]
  },
  {
   "cell_type": "code",
   "execution_count": 60,
   "id": "a6d0ace1-ae12-4120-bdf9-1843ab33a7a0",
   "metadata": {
    "tags": []
   },
   "outputs": [
    {
     "data": {
      "text/plain": [
       "3618000"
      ]
     },
     "execution_count": 60,
     "metadata": {},
     "output_type": "execute_result"
    }
   ],
   "source": [
    "1675 * 2160"
   ]
  },
  {
   "cell_type": "code",
   "execution_count": null,
   "id": "8079f6d1-b55a-4ea3-831c-7ab9d8592065",
   "metadata": {},
   "outputs": [],
   "source": []
  },
  {
   "cell_type": "code",
   "execution_count": null,
   "id": "816f3c7c-bdd6-4331-a624-04700602d452",
   "metadata": {},
   "outputs": [],
   "source": []
  },
  {
   "cell_type": "code",
   "execution_count": null,
   "id": "9de1aa4c-d49a-44b1-a4ae-ef3fef7e0042",
   "metadata": {},
   "outputs": [],
   "source": []
  },
  {
   "cell_type": "code",
   "execution_count": null,
   "id": "2b6cfe93-3c8e-4be1-a696-3e608950af9d",
   "metadata": {},
   "outputs": [],
   "source": []
  },
  {
   "cell_type": "code",
   "execution_count": null,
   "id": "dc9239f9-c849-439e-a38a-4da4ee4d2257",
   "metadata": {},
   "outputs": [],
   "source": []
  },
  {
   "cell_type": "code",
   "execution_count": null,
   "id": "9c72c706-affd-4b28-be3b-84ab17bd9e7f",
   "metadata": {},
   "outputs": [],
   "source": []
  },
  {
   "cell_type": "code",
   "execution_count": null,
   "id": "d61f0a8d-bfab-4a49-945e-4f5d3e23a57b",
   "metadata": {},
   "outputs": [],
   "source": []
  },
  {
   "cell_type": "code",
   "execution_count": null,
   "id": "b3b14a23-318c-4d88-9718-2f9fe358fe7e",
   "metadata": {},
   "outputs": [],
   "source": []
  },
  {
   "cell_type": "code",
   "execution_count": 21,
   "id": "dfe916c5-2c5c-4b30-88e9-1929b7bb8f5d",
   "metadata": {
    "tags": []
   },
   "outputs": [],
   "source": [
    "import numpy as np\n",
    "import random\n",
    "import pymorphy3\n",
    "import numpy as np\n",
    "import math\n",
    "import pickle\n",
    "from razdel import tokenize\n",
    "\n",
    "from dataset_builder import calculate_word_features_for_tokens, PAD_TOKEN,get_word_features\n",
    "from inference import torch_model_runner, onnx_model_runner, infer\n",
    "import onnxruntime as ort\n",
    "# print(\"PREFIX\\n\" * 100)\n",
    "def onnx_model_runner(path):\n",
    "    sess_opt = ort.SessionOptions()\n",
    "    sess_opt.intra_op_num_threads = 1\n",
    "    sess_opt.inter_op_num_threads = 1\n",
    "    ort_sess = ort.InferenceSession(path, sess_opt)\n",
    "    def func(input):\n",
    "        return ort_sess.run(None, {'input': np.array(input) })[0]\n",
    "    return func\n",
    "\n",
    "# onnx_model = onnx_model_runner(\"results writers big/model.onnx\")\n",
    "prefix = \"results_big_model_GOOD_2022-05-15\"\n",
    "onnx_model = onnx_model_runner(f\"{prefix}/model.onnx\")\n",
    "with open(\"params.pickle\", \"rb\") as f:\n",
    "    params = pickle.load(f)\n",
    "\n",
    "# print(onnx_model(dummy_input.numpy()))\n",
    "\n",
    "class jsinfer:\n",
    "    async def infer(arr):\n",
    "        class wrapper:\n",
    "            def to_py():\n",
    "                return onnx_model(arr)\n",
    "        return wrapper\n",
    "\n",
    "from stream import Stream\n",
    "import functools\n",
    "from collections import deque\n",
    "import random\n",
    "random.seed(42)\n",
    "\n",
    "@functools.lru_cache(maxsize=128)\n",
    "def get_word_features_cached(word):\n",
    "    return get_word_features(word, params).numpy()\n",
    "\n",
    "class Substr:\n",
    "    def __init__(self, text):\n",
    "        self.text = text\n",
    "    def __repr__(self) -> str:\n",
    "        return f\"Substring(-1, -1, {self.text})\"\n",
    "\n",
    "def d_as_str(d):\n",
    "  return \"<\" + \" \".join(map(lambda text: text.text, d))+ \">\"\n",
    "\n",
    "async def infer_optimal(params, text):\n",
    "  # print(\"INFERCENC IS WIERD\\n\" * 10)\n",
    "  res = []\n",
    "  last_inserted_pos = 0\n",
    "  def sink(token, log=False):\n",
    "    nonlocal last_inserted_pos\n",
    "    if token.text == \"PAD\": return\n",
    "    if log: print('sink', token)\n",
    "    if isinstance(token, Substr):\n",
    "      res.append(token.text)\n",
    "      if log: print(\"added1 \", f\"`{token.text}`\", token)\n",
    "    else:\n",
    "      if last_inserted_pos != token.start:\n",
    "        res.append(text[last_inserted_pos: token.start])\n",
    "        if log: print(\"added2 \", f\"`{text[last_inserted_pos: token.start]}`\", last_inserted_pos, token.start)\n",
    "      last_inserted_pos = token.stop\n",
    "      res.append(token.text)\n",
    "      if log: print(\"added3 \", f\"`{token.text}`\", token)\n",
    "\n",
    "  def skip(token, log=False):\n",
    "    nonlocal last_inserted_pos\n",
    "    last_inserted_pos = token.stop\n",
    "    if log: print('skip', token)\n",
    "\n",
    "  def sink_remaining():\n",
    "     res.append(text[last_inserted_pos:])\n",
    "\n",
    "\n",
    "  async def predict_on_tokens(window_left, window_right, return_probas):\n",
    "    features = [get_word_features_cached(i.text) for i in Stream(window_left).chain(window_right)]\n",
    "    features_for_batch = np.stack((features, ))\n",
    "    arr = np.ascontiguousarray(features_for_batch, dtype=np.float32)\n",
    "    output_probas = np.array((await jsinfer.infer(arr)).to_py())\n",
    "    # output_probas[0][0] += 2.\n",
    "    if return_probas:\n",
    "      return params[\"ID_TO_PUNCTUATION\"], output_probas\n",
    "    punct_idx = np.argmax(output_probas).item()\n",
    "    punct = params[\"ID_TO_PUNCTUATION\"][punct_idx]\n",
    "    return punct\n",
    "\n",
    "\n",
    "  window_left = deque()\n",
    "  window_right = deque()\n",
    "  log = False\n",
    "  skip_next = False\n",
    "  for i in Stream.repeat(Substr(PAD_TOKEN), params['INPUT_WORDS_CNT_LEFT']) \\\n",
    "      .chain(Stream(tokenize(text))) \\\n",
    "      .chain(Stream.repeat(Substr(PAD_TOKEN), params[\"INPUT_WORDS_CNT_RIGHT\"])):\n",
    "    window_right.append(i)\n",
    "    if len(window_right) <= params[\"INPUT_WORDS_CNT_RIGHT\"]:\n",
    "        continue\n",
    "    assert len(window_right) == params[\"INPUT_WORDS_CNT_RIGHT\"] + 1\n",
    "\n",
    "    next_ = window_right.popleft()\n",
    "    sink(next_)\n",
    "    window_left.append(next_)\n",
    "    if len(window_left) < params['INPUT_WORDS_CNT_LEFT']:\n",
    "      continue\n",
    "\n",
    "    assert len(window_left) == params[\"INPUT_WORDS_CNT_LEFT\"]\n",
    "    assert len(window_right) == params[\"INPUT_WORDS_CNT_RIGHT\"]\n",
    "\n",
    "    if skip_next:\n",
    "      prediction = \"$skip\"\n",
    "    else:\n",
    "      # params[\"ID_TO_PUNCTUATION\"], output_probas\n",
    "      prediction = await predict_on_tokens(window_left, window_right, return_probas=False)\n",
    "\n",
    "\n",
    "    #random.choice([\" \", \".\"])\n",
    "    if log: print(d_as_str(window_left).rjust(100), prediction.center(6), d_as_str(window_right))\n",
    "\n",
    "    def is_replaceable_punct(punct):\n",
    "      return punct in ',.'\n",
    "\n",
    "    if prediction == \"$skip\":\n",
    "      pass\n",
    "    elif prediction != \"$empty\":\n",
    "      if is_replaceable_punct(window_right[0].text):\n",
    "        if window_right[0].text != prediction:\n",
    "          window_right[0].text = prediction\n",
    "      else:\n",
    "        window_left.append(Substr(prediction))\n",
    "        sink(window_left[-1])\n",
    "    else:\n",
    "      if is_replaceable_punct(window_right[0].text):\n",
    "          skip(window_right.popleft())\n",
    "\n",
    "    skip_next = is_replaceable_punct(window_right[0].text)\n",
    "\n",
    "    while len(window_left) != params['INPUT_WORDS_CNT_LEFT'] - 1:\n",
    "      token = window_left.popleft()\n",
    "\n",
    "    if log: print(d_as_str(window_left).rjust(100), \"      \", d_as_str(window_right))\n",
    "\n",
    "  for i in window_right:\n",
    "    sink(i)\n",
    "  sink_remaining()\n",
    "  ress = \"\".join(res)\n",
    "  return ress"
   ]
  },
  {
   "cell_type": "code",
   "execution_count": 22,
   "id": "345443cc-78fc-40f0-930f-e9501a12d7b3",
   "metadata": {
    "tags": []
   },
   "outputs": [
    {
     "name": "stdout",
     "output_type": "stream",
     "text": [
      "0.7259631156921387\n"
     ]
    }
   ],
   "source": [
    "import time\n",
    "before = time.time()\n",
    "await infer_optimal(params, \"тест \" * 100)\n",
    "print(time.time() - before)"
   ]
  },
  {
   "cell_type": "code",
   "execution_count": null,
   "id": "f6312a4a-f632-4de5-a59a-42bda4106470",
   "metadata": {},
   "outputs": [],
   "source": []
  },
  {
   "cell_type": "code",
   "execution_count": 26,
   "id": "dc9c0d02-72e8-46d6-add3-da3072bb6ce0",
   "metadata": {
    "tags": []
   },
   "outputs": [
    {
     "name": "stdout",
     "output_type": "stream",
     "text": [
      "0.09819602966308594\n"
     ]
    }
   ],
   "source": [
    "import time\n",
    "torch.set_num_threads(1)\n",
    "before = time.time()\n",
    "apply_te(\"тест \" * 100)\n",
    "print(time.time() - before)"
   ]
  }
 ],
 "metadata": {
  "kernelspec": {
   "display_name": "Python 3 (ipykernel)",
   "language": "python",
   "name": "python3"
  },
  "language_info": {
   "codemirror_mode": {
    "name": "ipython",
    "version": 3
   },
   "file_extension": ".py",
   "mimetype": "text/x-python",
   "name": "python",
   "nbconvert_exporter": "python",
   "pygments_lexer": "ipython3",
   "version": "3.10.10"
  }
 },
 "nbformat": 4,
 "nbformat_minor": 5
}
