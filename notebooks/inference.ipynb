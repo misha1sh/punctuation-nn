{
 "cells": [
  {
   "cell_type": "code",
   "execution_count": 3,
   "metadata": {},
   "outputs": [
    {
     "ename": "ModuleNotFoundError",
     "evalue": "No module named 'xformers'",
     "output_type": "error",
     "traceback": [
      "\u001b[0;31m---------------------------------------------------------------------------\u001b[0m",
      "\u001b[0;31mModuleNotFoundError\u001b[0m                       Traceback (most recent call last)",
      "Cell \u001b[0;32mIn[3], line 23\u001b[0m\n\u001b[1;32m     21\u001b[0m \u001b[39mwith\u001b[39;00m \u001b[39mopen\u001b[39m(\u001b[39mf\u001b[39m\u001b[39m\"\u001b[39m\u001b[39m{\u001b[39;00mprefix\u001b[39m}\u001b[39;00m\u001b[39m/some_model_CLASS.dill\u001b[39m\u001b[39m\"\u001b[39m, \u001b[39m\"\u001b[39m\u001b[39mrb\u001b[39m\u001b[39m\"\u001b[39m) \u001b[39mas\u001b[39;00m file:\n\u001b[1;32m     22\u001b[0m     Model \u001b[39m=\u001b[39m dill\u001b[39m.\u001b[39mload(file)\n\u001b[0;32m---> 23\u001b[0m model \u001b[39m=\u001b[39m torch\u001b[39m.\u001b[39;49mload(\u001b[39mf\u001b[39;49m\u001b[39m\"\u001b[39;49m\u001b[39m{\u001b[39;49;00mprefix\u001b[39m}\u001b[39;49;00m\u001b[39m/some_model.pt\u001b[39;49m\u001b[39m\"\u001b[39;49m, map_location\u001b[39m=\u001b[39;49mtorch\u001b[39m.\u001b[39;49mdevice(\u001b[39m'\u001b[39;49m\u001b[39mcpu\u001b[39;49m\u001b[39m'\u001b[39;49m)) \u001b[39m#).v1\", map_location=torch.device('cuda:0'))\u001b[39;00m\n\u001b[1;32m     25\u001b[0m \u001b[39mwith\u001b[39;00m \u001b[39mopen\u001b[39m(\u001b[39mf\u001b[39m\u001b[39m\"\u001b[39m\u001b[39m{\u001b[39;00mprefix\u001b[39m}\u001b[39;00m\u001b[39m/storage_path.dill\u001b[39m\u001b[39m\"\u001b[39m, \u001b[39m\"\u001b[39m\u001b[39mrb\u001b[39m\u001b[39m\"\u001b[39m) \u001b[39mas\u001b[39;00m file:\n\u001b[1;32m     26\u001b[0m     storage_path \u001b[39m=\u001b[39m dill\u001b[39m.\u001b[39mload(file)\n",
      "File \u001b[0;32m~/.local/lib/python3.8/site-packages/torch/serialization.py:809\u001b[0m, in \u001b[0;36mload\u001b[0;34m(f, map_location, pickle_module, weights_only, **pickle_load_args)\u001b[0m\n\u001b[1;32m    807\u001b[0m             \u001b[39mexcept\u001b[39;00m \u001b[39mRuntimeError\u001b[39;00m \u001b[39mas\u001b[39;00m e:\n\u001b[1;32m    808\u001b[0m                 \u001b[39mraise\u001b[39;00m pickle\u001b[39m.\u001b[39mUnpicklingError(UNSAFE_MESSAGE \u001b[39m+\u001b[39m \u001b[39mstr\u001b[39m(e)) \u001b[39mfrom\u001b[39;00m \u001b[39mNone\u001b[39m\n\u001b[0;32m--> 809\u001b[0m         \u001b[39mreturn\u001b[39;00m _load(opened_zipfile, map_location, pickle_module, \u001b[39m*\u001b[39;49m\u001b[39m*\u001b[39;49mpickle_load_args)\n\u001b[1;32m    810\u001b[0m \u001b[39mif\u001b[39;00m weights_only:\n\u001b[1;32m    811\u001b[0m     \u001b[39mtry\u001b[39;00m:\n",
      "File \u001b[0;32m~/.local/lib/python3.8/site-packages/torch/serialization.py:1172\u001b[0m, in \u001b[0;36m_load\u001b[0;34m(zip_file, map_location, pickle_module, pickle_file, **pickle_load_args)\u001b[0m\n\u001b[1;32m   1170\u001b[0m unpickler \u001b[39m=\u001b[39m UnpicklerWrapper(data_file, \u001b[39m*\u001b[39m\u001b[39m*\u001b[39mpickle_load_args)\n\u001b[1;32m   1171\u001b[0m unpickler\u001b[39m.\u001b[39mpersistent_load \u001b[39m=\u001b[39m persistent_load\n\u001b[0;32m-> 1172\u001b[0m result \u001b[39m=\u001b[39m unpickler\u001b[39m.\u001b[39;49mload()\n\u001b[1;32m   1174\u001b[0m torch\u001b[39m.\u001b[39m_utils\u001b[39m.\u001b[39m_validate_loaded_sparse_tensors()\n\u001b[1;32m   1176\u001b[0m \u001b[39mreturn\u001b[39;00m result\n",
      "File \u001b[0;32m~/.local/lib/python3.8/site-packages/torch/serialization.py:1165\u001b[0m, in \u001b[0;36m_load.<locals>.UnpicklerWrapper.find_class\u001b[0;34m(self, mod_name, name)\u001b[0m\n\u001b[1;32m   1163\u001b[0m         \u001b[39mpass\u001b[39;00m\n\u001b[1;32m   1164\u001b[0m mod_name \u001b[39m=\u001b[39m load_module_mapping\u001b[39m.\u001b[39mget(mod_name, mod_name)\n\u001b[0;32m-> 1165\u001b[0m \u001b[39mreturn\u001b[39;00m \u001b[39msuper\u001b[39;49m()\u001b[39m.\u001b[39;49mfind_class(mod_name, name)\n",
      "\u001b[0;31mModuleNotFoundError\u001b[0m: No module named 'xformers'"
     ]
    }
   ],
   "source": [
    "# import imports\n",
    "# import importlib\n",
    "# importlib.reload(imports)\n",
    "# from imports import *\n",
    "import torch.nn as nn\n",
    "import dill\n",
    "import torch\n",
    "from storage import Storage\n",
    "\n",
    "class LSTM(nn.Module):\n",
    "    def __init__(self, **kwargs):\n",
    "        super().__init__()\n",
    "\n",
    "        self.lstm = nn.LSTM(INTERNAL_EMBEDDING_SIZE2, INTERNAL_EMBEDDING_SIZE2 // 2, \n",
    "                            num_layers=1, batch_first=True, bidirectional=True)\n",
    "    def forward(self, x):\n",
    "        return self.lstm(x)[0]\n",
    "\n",
    "\n",
    "prefix = \"results writers big\"\n",
    "with open(f\"{prefix}/some_model_CLASS.dill\", \"rb\") as file:\n",
    "    Model = dill.load(file)\n",
    "model = torch.load(f\"{prefix}/some_model.pt\", map_location=torch.device('cpu')) #).v1\", map_location=torch.device('cuda:0'))\n",
    "\n",
    "with open(f\"{prefix}/storage_path.dill\", \"rb\") as file:\n",
    "    storage_path = dill.load(file)\n",
    "with open(f\"{prefix}/is_infected_test.dill\", \"rb\") as file:\n",
    "    is_infected = dill.load(file)\n",
    "\n",
    "storage = Storage(str(storage_path))\n",
    "params = storage.get_meta(\"params\")\n",
    "\n",
    "x_test = storage.get_meta(\"x_test\").float()\n",
    "y_test = storage.get_meta(\"y_test\").float()\n",
    "text_res = storage.get_meta(\"text_res_test\")\n",
    "is_infected = storage.get_meta(\"is_infected_test\")"
   ]
  },
  {
   "cell_type": "code",
   "execution_count": 4,
   "metadata": {},
   "outputs": [
    {
     "name": "stdout",
     "output_type": "stream",
     "text": [
      "tensor([[ 7.9433, -7.6244, -3.0897]])\n"
     ]
    }
   ],
   "source": [
    "dummy_input = x_test[0:1]\n",
    "with torch.no_grad():\n",
    "        print(model(dummy_input))\n",
    "        # torch.onnx.export(model, dummy_input, \"model.v1.onnx\", verbose=True)"
   ]
  },
  {
   "cell_type": "code",
   "execution_count": 7,
   "metadata": {},
   "outputs": [
    {
     "name": "stdout",
     "output_type": "stream",
     "text": [
      "================ Diagnostic Run torch.onnx.export version 2.0.0 ================\n",
      "verbose: False, log level: Level.ERROR\n",
      "======================= 0 NONE 0 NOTE 0 WARNING 0 ERROR ========================\n",
      "\n"
     ]
    },
    {
     "data": {
      "text/plain": [
       "[]"
      ]
     },
     "execution_count": 7,
     "metadata": {},
     "output_type": "execute_result"
    }
   ],
   "source": [
    "torch_script_graph, unconvertible_ops = torch.onnx.utils.unconvertible_ops(\n",
    "    model, dummy_input #, opset_version=opset_version\n",
    ")\n",
    "unconvertible_ops"
   ]
  },
  {
   "cell_type": "code",
   "execution_count": 6,
   "metadata": {},
   "outputs": [
    {
     "data": {
      "text/plain": [
       "[]"
      ]
     },
     "execution_count": 6,
     "metadata": {},
     "output_type": "execute_result"
    }
   ],
   "source": []
  },
  {
   "cell_type": "code",
   "execution_count": 9,
   "metadata": {},
   "outputs": [
    {
     "name": "stdout",
     "output_type": "stream",
     "text": [
      "================ Diagnostic Run torch.onnx.export version 2.0.0 ================\n",
      "verbose: False, log level: Level.ERROR\n",
      "======================= 0 NONE 0 NOTE 0 WARNING 0 ERROR ========================\n",
      "\n"
     ]
    }
   ],
   "source": [
    "torch.onnx.export(model, (dummy_input, ), f\"{prefix}/model.onnx\", \n",
    "                input_names = ['input'],\n",
    "                output_names = ['output'])#, verbose=True)\n",
    "        # print(torch.onnx.export_to_pretty_string(model, (dummy_input, )))#, verbose=True))\n"
   ]
  },
  {
   "cell_type": "code",
   "execution_count": 17,
   "metadata": {},
   "outputs": [
    {
     "name": "stdout",
     "output_type": "stream",
     "text": [
      "torch: tensor([[ 7.9433, -7.6244, -3.0897]])\n",
      "onnx: [[ 7.943265  -7.6243734 -3.0896897]]\n",
      "torch: tensor([[ 5.6224, -6.0555, -3.0875]])\n",
      "onnx: [[ 5.6224437 -6.0554595 -3.0875366]]\n"
     ]
    }
   ],
   "source": [
    "from inference import torch_model_runner, onnx_model_runner\n",
    "for a in [dummy_input, np.zeros_like(dummy_input)]:\n",
    "    print('torch:', torch_model_runner(model)(torch.Tensor(a)))\n",
    "    print('onnx:', onnx_model_runner(f'{prefix}/model.onnx')(a))"
   ]
  },
  {
   "cell_type": "code",
   "execution_count": null,
   "metadata": {},
   "outputs": [],
   "source": []
  },
  {
   "cell_type": "code",
   "execution_count": null,
   "metadata": {},
   "outputs": [],
   "source": []
  },
  {
   "cell_type": "code",
   "execution_count": 18,
   "metadata": {},
   "outputs": [
    {
     "data": {
      "text/plain": [
       "'Отмечается, что 44-летняя россиянка, первый человек, которому предъявят обвинение в попытке вмешаться в выборы 2018 года. По информации Минюста она и еще несколько человек выдавала себя за американскую политическую активистку и скрывала свое российское происхождение.'"
      ]
     },
     "execution_count": 18,
     "metadata": {},
     "output_type": "execute_result"
    }
   ],
   "source": [
    "from inference import torch_model_runner, onnx_model_runner, infer\n",
    "\n",
    "infer(params, onnx_model_runner(f\"{prefix}/model.onnx\"), \n",
    "      \"Отмечается что 44-летняя россиянка первый человек которому предъявят обвинение в попытке вмешаться в выборы 2018 года По информации Минюста она и еще несколько человек выдавала себя за американскую политическую активистку и скрывала свое российское происхождение\")\n",
    "# print(infer(torch_model_runner(model), \"Я пришел домой Мама сварила суп\"))\n",
    "# https://onnxruntime.ai/docs/reference/ort-format-models.html\n",
    "\n",
    "# infer(onnx_model_runner(\"model.v1.onnx\"), \"Я пришел домой Мама сварила суп\")\n"
   ]
  },
  {
   "cell_type": "code",
   "execution_count": 21,
   "metadata": {},
   "outputs": [
    {
     "data": {
      "text/plain": [
       "'Мама обычно холодная, как оконное стекло, была в такой ярости, что переколотила дома всю посуду. Хотела даже просить расчёт, но опомнилась: в других ресторанах и своих певиц хватало. Потому мама просто перестала брать Саню с собой, и он впервые оказался предоставлен самому себе. Поначалу Саня робел, один выйти наружу, скучал, слонялся, не зная, чем заняться, — то по комнатам, то по двору. Но к весне осмелел настолько, что исследовал сперва окрестные улицы, а потом и весь обитаемый воронежский мир. Мир этот оказался полон женщинами. Саня, разинув от восхищения рот, смотрел на проплывающих по Большой Дворянской разодетых дам, похожих на вазы с фруктами и цветами. На гимназисток, вечно державшихся дрожащими стайками, словно мотыльки. На горничных, девушек, спешащих по хозяйкиным делам и прошивающих город мелкими аккуратными стежками. Саня влюбился во всех них сразу — и навсегда.'"
      ]
     },
     "execution_count": 21,
     "metadata": {},
     "output_type": "execute_result"
    }
   ],
   "source": [
    "infer(params, onnx_model_runner(f\"{prefix}/model.onnx\"), \n",
    "      text)\n"
   ]
  },
  {
   "cell_type": "code",
   "execution_count": null,
   "metadata": {},
   "outputs": [],
   "source": []
  },
  {
   "cell_type": "code",
   "execution_count": null,
   "metadata": {},
   "outputs": [],
   "source": []
  },
  {
   "cell_type": "code",
   "execution_count": 49,
   "metadata": {},
   "outputs": [
    {
     "data": {
      "text/plain": [
       "Parse(word='фывфывфов', tag=OpencorporaTag('NOUN,inan,masc plur,gent'), normal_form='фывфывф', score=1.0, methods_stack=((FakeDictionary(), 'фывфывфов', 34, 7), (KnownSuffixAnalyzer(min_word_length=4, score_multiplier=0.5), 'фы')))"
      ]
     },
     "execution_count": 49,
     "metadata": {},
     "output_type": "execute_result"
    }
   ],
   "source": [
    "import pymorphy2\n",
    "morph = pymorphy2.MorphAnalyzer()\n",
    "morph.parse(\"фывфывфы\")[0].inflect({'gent'})"
   ]
  },
  {
   "cell_type": "code",
   "execution_count": 11,
   "metadata": {},
   "outputs": [],
   "source": [
    "# text = \"\"\"\n",
    "# Кристина Герасимова (к концу десятилетия, кажется, поменявшая фамилию на Луна) к концу 2010-х оказалась одним из самых работоспособных музыкантов в русской поп-музыке (впрочем, и не только поп), выйдя на уровень, при котором она смогла себе позволить выпускать по альбому в год без потерь в качестве. Лучший из них, впрочем, «Заколдованные сны», как будто бы нарушал классическую для нее схему и уходил то в чистый и практически бессловесный электропоп, то в ностальгию по неприхотливой русской поп-музыке нулевых, то в постпанк — при этом всегда оставаясь песнями самой Луны.\n",
    "# \"\"\"\n",
    "text = \"\"\"\n",
    "\n",
    "Мама, обычно холодная, как оконное стекло, была в такой ярости, что переколотила дома всю посуду. Хотела даже просить расчёт, но опомнилась: в других ресторанах и своих певиц хватало. Потому мама просто перестала брать Саню с собой, и он впервые оказался предоставлен самому себе. Поначалу Саня робел один выйти наружу, скучал, слонялся, не зная, чем заняться, — то по комнатам, то по двору. Но к весне осмелел настолько, что исследовал сперва окрестные улицы, а потом и весь обитаемый воронежский мир.\n",
    "\n",
    "Мир этот оказался полон женщинами.\n",
    "\n",
    "Саня, разинув от восхищения рот, смотрел на проплывающих по Большой Дворянской разодетых дам, похожих на вазы с фруктами и цветами. На гимназисток, вечно державшихся дрожащими стайками, словно мотыльки. На горничных девушек, спешащих по хозяйкиным делам и прошивающих город мелкими аккуратными стежками.\n",
    "\n",
    "Саня влюбился во всех них сразу — и навсегда.\"\"\"\n",
    "#text = text.replace(\"\\n\", \" \")\n",
    "# print(text)\n",
    "\n",
    "# text = text.replace(\".\", \"\").replace(\",\", \"\").replace(\"\\n\", \" \")\n",
    "# infer(params, onnx_model_runner(f\"{prefix}/model.onnx\"), text)"
   ]
  },
  {
   "cell_type": "code",
   "execution_count": 12,
   "metadata": {},
   "outputs": [
    {
     "data": {
      "text/plain": [
       "['Мама',\n",
       " ',',\n",
       " 'обычно',\n",
       " 'холодная',\n",
       " ',',\n",
       " 'как',\n",
       " 'оконное',\n",
       " 'стекло',\n",
       " ',',\n",
       " 'была',\n",
       " 'в',\n",
       " 'такой',\n",
       " 'ярости',\n",
       " ',',\n",
       " 'что',\n",
       " 'переколотила',\n",
       " 'дома',\n",
       " 'всю',\n",
       " 'посуду',\n",
       " '.',\n",
       " 'Хотела',\n",
       " 'даже',\n",
       " 'просить',\n",
       " 'расчёт',\n",
       " ',',\n",
       " 'но',\n",
       " 'опомнилась',\n",
       " ':',\n",
       " 'в',\n",
       " 'других',\n",
       " 'ресторанах',\n",
       " 'и',\n",
       " 'своих',\n",
       " 'певиц',\n",
       " 'хватало',\n",
       " '.',\n",
       " 'Потому',\n",
       " 'мама',\n",
       " 'просто',\n",
       " 'перестала',\n",
       " 'брать',\n",
       " 'Саню',\n",
       " 'с',\n",
       " 'собой',\n",
       " ',',\n",
       " 'и',\n",
       " 'он',\n",
       " 'впервые',\n",
       " 'оказался',\n",
       " 'предоставлен',\n",
       " 'самому',\n",
       " 'себе',\n",
       " '.',\n",
       " 'Поначалу',\n",
       " 'Саня',\n",
       " 'робел',\n",
       " 'один',\n",
       " 'выйти',\n",
       " 'наружу',\n",
       " ',',\n",
       " 'скучал',\n",
       " ',',\n",
       " 'слонялся',\n",
       " ',',\n",
       " 'не',\n",
       " 'зная',\n",
       " ',',\n",
       " 'чем',\n",
       " 'заняться',\n",
       " ',',\n",
       " '—',\n",
       " 'то',\n",
       " 'по',\n",
       " 'комнатам',\n",
       " ',',\n",
       " 'то',\n",
       " 'по',\n",
       " 'двору',\n",
       " '.',\n",
       " 'Но',\n",
       " 'к',\n",
       " 'весне',\n",
       " 'осмелел',\n",
       " 'настолько',\n",
       " ',',\n",
       " 'что',\n",
       " 'исследовал',\n",
       " 'сперва',\n",
       " 'окрестные',\n",
       " 'улицы',\n",
       " ',',\n",
       " 'а',\n",
       " 'потом',\n",
       " 'и',\n",
       " 'весь',\n",
       " 'обитаемый',\n",
       " 'воронежский',\n",
       " 'мир',\n",
       " '.',\n",
       " 'Мир',\n",
       " 'этот',\n",
       " 'оказался',\n",
       " 'полон',\n",
       " 'женщинами',\n",
       " '.',\n",
       " 'Саня',\n",
       " ',',\n",
       " 'разинув',\n",
       " 'от',\n",
       " 'восхищения',\n",
       " 'рот',\n",
       " ',',\n",
       " 'смотрел',\n",
       " 'на',\n",
       " 'проплывающих',\n",
       " 'по',\n",
       " 'Большой',\n",
       " 'Дворянской',\n",
       " 'разодетых',\n",
       " 'дам',\n",
       " ',',\n",
       " 'похожих',\n",
       " 'на',\n",
       " 'вазы',\n",
       " 'с',\n",
       " 'фруктами',\n",
       " 'и',\n",
       " 'цветами',\n",
       " '.',\n",
       " 'На',\n",
       " 'гимназисток',\n",
       " ',',\n",
       " 'вечно',\n",
       " 'державшихся',\n",
       " 'дрожащими',\n",
       " 'стайками',\n",
       " ',',\n",
       " 'словно',\n",
       " 'мотыльки',\n",
       " '.',\n",
       " 'На',\n",
       " 'горничных',\n",
       " 'девушек',\n",
       " ',',\n",
       " 'спешащих',\n",
       " 'по',\n",
       " 'хозяйкиным',\n",
       " 'делам',\n",
       " 'и',\n",
       " 'прошивающих',\n",
       " 'город',\n",
       " 'мелкими',\n",
       " 'аккуратными',\n",
       " 'стежками',\n",
       " '.',\n",
       " 'Саня',\n",
       " 'влюбился',\n",
       " 'во',\n",
       " 'всех',\n",
       " 'них',\n",
       " 'сразу',\n",
       " '—',\n",
       " 'и',\n",
       " 'навсегда',\n",
       " '.']"
      ]
     },
     "execution_count": 12,
     "metadata": {},
     "output_type": "execute_result"
    }
   ],
   "source": [
    "from razdel import tokenize\n",
    "list(map(lambda i: i.text, tokenize(text)))"
   ]
  },
  {
   "cell_type": "code",
   "execution_count": 1,
   "metadata": {},
   "outputs": [
    {
     "ename": "NameError",
     "evalue": "name 'model' is not defined",
     "output_type": "error",
     "traceback": [
      "\u001b[0;31m---------------------------------------------------------------------------\u001b[0m",
      "\u001b[0;31mNameError\u001b[0m                                 Traceback (most recent call last)",
      "Cell \u001b[0;32mIn [1], line 2\u001b[0m\n\u001b[1;32m      1\u001b[0m \u001b[39mfrom\u001b[39;00m \u001b[39mutils\u001b[39;00m \u001b[39mimport\u001b[39;00m count_parameters\n\u001b[0;32m----> 2\u001b[0m count_parameters(model)\n",
      "\u001b[0;31mNameError\u001b[0m: name 'model' is not defined"
     ]
    }
   ],
   "source": []
  },
  {
   "cell_type": "code",
   "execution_count": 55,
   "metadata": {},
   "outputs": [
    {
     "name": "stdout",
     "output_type": "stream",
     "text": [
      "172.7963150459843 tokens per second\n"
     ]
    }
   ],
   "source": [
    "from time import time\n",
    "\n",
    "start = time()\n",
    "reps = 100\n",
    "for i in range(0, reps):\n",
    "    infer(onnx_model_runner(\"model.v1.onnx\"), text)\n",
    "end = time()\n",
    "\n",
    "print(1 / ((end - start) / reps / len(text.split(' '))) / 8, 'tokens per second')\n",
    "\n"
   ]
  },
  {
   "cell_type": "code",
   "execution_count": 13,
   "metadata": {},
   "outputs": [
    {
     "name": "stdout",
     "output_type": "stream",
     "text": [
      "129.86710276061967 tokens per second\n"
     ]
    }
   ],
   "source": [
    "from time import time\n",
    "dummy_input = torch.ones((1, params['INPUT_WORDS_CNT'], params['TOTAL_WORD_FEATURES_CNT']))\n",
    "model.eval()\n",
    "\n",
    "start = time()\n",
    "reps = 10000\n",
    "for i in range(0, reps):\n",
    "    with torch.no_grad():\n",
    "        model(dummy_input)\n",
    "end = time()\n",
    "\n",
    "print(1 / ((end - start) / reps) / 8, 'tokens per second')"
   ]
  },
  {
   "cell_type": "code",
   "execution_count": 14,
   "metadata": {},
   "outputs": [
    {
     "data": {
      "text/plain": [
       "0.19739913940429688"
      ]
     },
     "execution_count": 14,
     "metadata": {},
     "output_type": "execute_result"
    }
   ],
   "source": [
    "from utils import count_parameters\n",
    "count_parameters(model)"
   ]
  },
  {
   "cell_type": "code",
   "execution_count": 3,
   "metadata": {},
   "outputs": [
    {
     "ename": "AttributeError",
     "evalue": "Can't get attribute 'Model' on <module '__main__'>",
     "output_type": "error",
     "traceback": [
      "\u001b[0;31m---------------------------------------------------------------------------\u001b[0m",
      "\u001b[0;31mAttributeError\u001b[0m                            Traceback (most recent call last)",
      "Cell \u001b[0;32mIn [3], line 2\u001b[0m\n\u001b[1;32m      1\u001b[0m \u001b[39mimport\u001b[39;00m \u001b[39mtorch\u001b[39;00m\n\u001b[0;32m----> 2\u001b[0m model \u001b[39m=\u001b[39m torch\u001b[39m.\u001b[39;49mload(\u001b[39m\"\u001b[39;49m\u001b[39mmodel.v1\u001b[39;49m\u001b[39m\"\u001b[39;49m)\n\u001b[1;32m      3\u001b[0m model\n",
      "File \u001b[0;32m~/.local/lib/python3.10/site-packages/torch/serialization.py:789\u001b[0m, in \u001b[0;36mload\u001b[0;34m(f, map_location, pickle_module, weights_only, **pickle_load_args)\u001b[0m\n\u001b[1;32m    787\u001b[0m             \u001b[39mexcept\u001b[39;00m \u001b[39mRuntimeError\u001b[39;00m \u001b[39mas\u001b[39;00m e:\n\u001b[1;32m    788\u001b[0m                 \u001b[39mraise\u001b[39;00m pickle\u001b[39m.\u001b[39mUnpicklingError(UNSAFE_MESSAGE \u001b[39m+\u001b[39m \u001b[39mstr\u001b[39m(e)) \u001b[39mfrom\u001b[39;00m \u001b[39mNone\u001b[39m\n\u001b[0;32m--> 789\u001b[0m         \u001b[39mreturn\u001b[39;00m _load(opened_zipfile, map_location, pickle_module, \u001b[39m*\u001b[39;49m\u001b[39m*\u001b[39;49mpickle_load_args)\n\u001b[1;32m    790\u001b[0m \u001b[39mif\u001b[39;00m weights_only:\n\u001b[1;32m    791\u001b[0m     \u001b[39mtry\u001b[39;00m:\n",
      "File \u001b[0;32m~/.local/lib/python3.10/site-packages/torch/serialization.py:1131\u001b[0m, in \u001b[0;36m_load\u001b[0;34m(zip_file, map_location, pickle_module, pickle_file, **pickle_load_args)\u001b[0m\n\u001b[1;32m   1129\u001b[0m unpickler \u001b[39m=\u001b[39m UnpicklerWrapper(data_file, \u001b[39m*\u001b[39m\u001b[39m*\u001b[39mpickle_load_args)\n\u001b[1;32m   1130\u001b[0m unpickler\u001b[39m.\u001b[39mpersistent_load \u001b[39m=\u001b[39m persistent_load\n\u001b[0;32m-> 1131\u001b[0m result \u001b[39m=\u001b[39m unpickler\u001b[39m.\u001b[39;49mload()\n\u001b[1;32m   1133\u001b[0m torch\u001b[39m.\u001b[39m_utils\u001b[39m.\u001b[39m_validate_loaded_sparse_tensors()\n\u001b[1;32m   1135\u001b[0m \u001b[39mreturn\u001b[39;00m result\n",
      "File \u001b[0;32m~/.local/lib/python3.10/site-packages/torch/serialization.py:1124\u001b[0m, in \u001b[0;36m_load.<locals>.UnpicklerWrapper.find_class\u001b[0;34m(self, mod_name, name)\u001b[0m\n\u001b[1;32m   1122\u001b[0m         \u001b[39mpass\u001b[39;00m\n\u001b[1;32m   1123\u001b[0m mod_name \u001b[39m=\u001b[39m load_module_mapping\u001b[39m.\u001b[39mget(mod_name, mod_name)\n\u001b[0;32m-> 1124\u001b[0m \u001b[39mreturn\u001b[39;00m \u001b[39msuper\u001b[39;49m()\u001b[39m.\u001b[39;49mfind_class(mod_name, name)\n",
      "\u001b[0;31mAttributeError\u001b[0m: Can't get attribute 'Model' on <module '__main__'>"
     ]
    }
   ],
   "source": [
    "import torch\n",
    "model = torch.load(\"model.v1\")\n",
    "model"
   ]
  },
  {
   "cell_type": "code",
   "execution_count": 57,
   "metadata": {},
   "outputs": [
    {
     "name": "stdout",
     "output_type": "stream",
     "text": [
      "PAD PAD PAD PAD PAD PAD PAD PAD PAD PAD PAD PAD PAD PAD PAD PAD <$empty> Привет ! Как дела ? Все хорошо . PAD PAD PAD PAD PAD PAD PAD PAD\n",
      "PAD PAD PAD PAD PAD PAD PAD PAD PAD PAD PAD PAD PAD PAD PAD Привет <.> ! Как дела ? Все хорошо . PAD PAD PAD PAD PAD PAD PAD PAD PAD\n",
      "PAD PAD PAD PAD PAD PAD PAD PAD PAD PAD PAD PAD PAD Привет ! Как <$empty> дела ? Все хорошо . PAD PAD PAD PAD PAD PAD PAD PAD PAD PAD PAD\n",
      "PAD PAD PAD PAD PAD PAD PAD PAD PAD PAD PAD PAD Привет ! Как дела <.> ? Все хорошо . PAD PAD PAD PAD PAD PAD PAD PAD PAD PAD PAD PAD\n",
      "PAD PAD PAD PAD PAD PAD PAD PAD PAD PAD Привет ! Как дела ? Все <$empty> хорошо . PAD PAD PAD PAD PAD PAD PAD PAD PAD PAD PAD PAD PAD PAD\n",
      "PAD PAD PAD PAD PAD PAD PAD PAD PAD Привет ! Как дела ? Все хорошо <.> . PAD PAD PAD PAD PAD PAD PAD PAD PAD PAD PAD PAD PAD PAD PAD\n"
     ]
    },
    {
     "data": {
      "text/plain": [
       "'Привет! Как дела? Все хорошо.'"
      ]
     },
     "execution_count": 57,
     "metadata": {},
     "output_type": "execute_result"
    }
   ],
   "source": [
    "import numpy as np\n",
    "import random\n",
    "import pymorphy3\n",
    "import numpy as np\n",
    "import math\n",
    "import pickle\n",
    "from razdel import tokenize\n",
    "\n",
    "from dataset_builder import calculate_word_features_for_tokens, PAD_TOKEN,get_word_features\n",
    "from inference import torch_model_runner, onnx_model_runner, infer\n",
    "\n",
    "onnx_model = onnx_model_runner(\"results writers big/model.onnx\")\n",
    "with open(\"params.pickle\", \"rb\") as f:\n",
    "    params = pickle.load(f)\n",
    "\n",
    "class jsinfer:\n",
    "    async def infer(arr):\n",
    "        class wrapper:\n",
    "            def to_py():\n",
    "                return onnx_model(arr)\n",
    "        return wrapper\n",
    "\n",
    "\n",
    "async def infer(text):\n",
    "    assert params[\"RETAIN_LEFT_PUNCT\"] #\n",
    "\n",
    "    #unpadded_tokens = text.split(' ')\n",
    "    unpadded_tokens = list(map(lambda i: i.text, tokenize(text)))\n",
    "    unpadded_tokens = list(filter(lambda x: len(x) > 0, unpadded_tokens))\n",
    "    tokens = [PAD_TOKEN] * params['INPUT_WORDS_CNT_LEFT'] + unpadded_tokens + [PAD_TOKEN] * (params[\"INPUT_WORDS_CNT_RIGHT\"] + 1)\n",
    "    features = calculate_word_features_for_tokens(tokens, params)\n",
    "\n",
    "    res = \"\"\n",
    "\n",
    "    i = params['INPUT_WORDS_CNT_LEFT']\n",
    "    while i < len(tokens) - params['INPUT_WORDS_CNT_RIGHT']:\n",
    "        tokens_for_batch = tokens[i - params['INPUT_WORDS_CNT_LEFT']: i + params['INPUT_WORDS_CNT_RIGHT']]\n",
    "\n",
    "        tokens_for_batch_copy = tokens_for_batch.copy()\n",
    "        tokens_for_batch_copy.insert(params['INPUT_WORDS_CNT_LEFT'], '?')\n",
    "        # print(\" \".join(tokens_for_batch_copy))\n",
    "\n",
    "\n",
    "        features_for_batch = features[i - params['INPUT_WORDS_CNT_LEFT']: i + params['INPUT_WORDS_CNT_RIGHT']]\n",
    "        features_for_batch = np.stack((features_for_batch, ))\n",
    "        arr = np.ascontiguousarray(features_for_batch, dtype=np.float32)\n",
    "        output_probas = np.array((await jsinfer.infer(arr)).to_py())\n",
    "        punct_idx = np.argmax(output_probas).item()\n",
    "        punct = params[\"ID_TO_PUNCTUATION\"][punct_idx]\n",
    "\n",
    "        #tokens_for_batch_copy[params['INPUT_WORDS_CNT_LEFT']] =  f'<{tokens[i-1], punct, tokens[i]}>'\n",
    "        tokens_for_batch_copy[params['INPUT_WORDS_CNT_LEFT']] =  f'<{punct}>'\n",
    "        print(\" \".join(tokens_for_batch_copy))\n",
    "\n",
    "        # print(punct)\n",
    "        # punct = '.'\n",
    "\n",
    "        def add_i_token_to_res(i):\n",
    "            nonlocal res\n",
    "            if tokens[i] != 'PAD':\n",
    "                if tokens[i] in '.,:!?':\n",
    "                    res += tokens[i]\n",
    "                else:\n",
    "                    res += \" \" + tokens[i]\n",
    "\n",
    "        def insert_punct(punct):\n",
    "            nonlocal features\n",
    "            tokens.insert(i, punct)\n",
    "            features = np.concatenate((features[:i],\n",
    "                    np.stack((get_word_features(punct, params), )),\n",
    "                    features[i:]), 0)\n",
    "\n",
    "        def replace_i_token_punct(punct):\n",
    "            nonlocal features\n",
    "            tokens[i] = punct\n",
    "            features[i] = get_word_features(punct, params)\n",
    "\n",
    "        def erase_i_token_punct():\n",
    "            nonlocal features\n",
    "            del tokens[i]\n",
    "            features = np.concatenate((features[:i], features[i + 1:]), 0)\n",
    "\n",
    "        if tokens[i] in '.,!?':\n",
    "            if tokens[i] == punct or tokens[i] in \"!?\":# and punct in \".\"):\n",
    "                add_i_token_to_res(i)\n",
    "                add_i_token_to_res(i + 1)\n",
    "                i += 2\n",
    "            else:\n",
    "                if punct != \"$empty\":\n",
    "                    res += punct\n",
    "                    replace_i_token_punct(punct)\n",
    "                    i += 2\n",
    "                else:\n",
    "                    # res += \" \"\n",
    "                    erase_i_token_punct()\n",
    "                    # i += 0\n",
    "\n",
    "        else:\n",
    "            if punct != \"$empty\":\n",
    "                res += punct #\"{ins: \" + punct + \"`\" + tokens[i] + \"`}\"\n",
    "                add_i_token_to_res(i)\n",
    "                insert_punct(punct)\n",
    "                i += 2\n",
    "            else:\n",
    "                add_i_token_to_res(i)\n",
    "                i += 1\n",
    "\n",
    "    return res.strip()\n",
    "\n",
    "await infer(\"Тест. тест. Тест. - Тест тест тест\")"
   ]
  },
  {
   "cell_type": "code",
   "execution_count": 7,
   "metadata": {},
   "outputs": [
    {
     "data": {
      "text/plain": [
       "[Substring(0, 4, 'Тест'),\n",
       " Substring(4, 5, '.'),\n",
       " Substring(6, 10, 'тест'),\n",
       " Substring(10, 11, '.'),\n",
       " Substring(12, 16, 'Тест'),\n",
       " Substring(16, 17, '.'),\n",
       " Substring(18, 19, '-'),\n",
       " Substring(20, 24, 'Тест'),\n",
       " Substring(25, 29, 'тест'),\n",
       " Substring(30, 34, 'тест')]"
      ]
     },
     "execution_count": 7,
     "metadata": {},
     "output_type": "execute_result"
    }
   ],
   "source": [
    "from razdel import tokenize\n",
    "from stream import Stream\n",
    "a = [i for i in tokenize(\"Тест. тест. Тест. - Тест тест тест\")]\n",
    "a"
   ]
  },
  {
   "cell_type": "code",
   "execution_count": 62,
   "metadata": {},
   "outputs": [],
   "source": [
    "import numpy as np\n",
    "import random\n",
    "import pymorphy3\n",
    "import numpy as np\n",
    "import math\n",
    "import pickle\n",
    "from razdel import tokenize\n",
    "\n",
    "from dataset_builder import calculate_word_features_for_tokens, PAD_TOKEN,get_word_features\n",
    "from inference import torch_model_runner, onnx_model_runner, infer\n",
    "\n",
    "onnx_model = onnx_model_runner(\"results writers big/model.onnx\")\n",
    "with open(\"params.pickle\", \"rb\") as f:\n",
    "    params = pickle.load(f)\n",
    "\n",
    "class jsinfer:\n",
    "    async def infer(arr):\n",
    "        class wrapper:\n",
    "            def to_py():\n",
    "                return onnx_model(arr)\n",
    "        return wrapper"
   ]
  },
  {
   "cell_type": "code",
   "execution_count": 194,
   "metadata": {},
   "outputs": [],
   "source": [
    "from stream import Stream\n",
    "import functools\n",
    "from collections import deque\n",
    "import random\n",
    "random.seed(42)\n",
    "\n",
    "@functools.lru_cache(maxsize=128)\n",
    "def get_word_features_cached(word):\n",
    "    return get_word_features(word, params).numpy()\n",
    "\n",
    "class Substr:\n",
    "    def __init__(self, text):\n",
    "        self.text = text\n",
    "    def __repr__(self) -> str:\n",
    "        return f\"Substring(-1, -1, {self.text})\"\n",
    "\n",
    "def d_as_str(d):\n",
    "  return \"<\" + \" \".join(map(lambda text: text.text, d))+ \">\"\n",
    "    \n",
    "async def infer_optimal(params, text): \n",
    "  # print(\"INFERCENC IS WIERD\\n\" * 10)\n",
    "  res = []\n",
    "  last_inserted_pos = 0\n",
    "  def sink(token, log=False):\n",
    "    nonlocal last_inserted_pos\n",
    "    if token.text == \"PAD\": return\n",
    "    if log: print('sink', token)\n",
    "    if isinstance(token, Substr):\n",
    "      res.append(token.text)\n",
    "      if log: print(\"added1 \", f\"`{token.text}`\", token)\n",
    "    else:\n",
    "      if last_inserted_pos != token.start:\n",
    "        res.append(text[last_inserted_pos: token.start])\n",
    "        if log: print(\"added2 \", f\"`{text[last_inserted_pos: token.start]}`\", last_inserted_pos, token.start)\n",
    "      last_inserted_pos = token.stop\n",
    "      res.append(token.text)\n",
    "      if log: print(\"added3 \", f\"`{token.text}`\", token)\n",
    "\n",
    "  def skip(token, log=False):\n",
    "    nonlocal last_inserted_pos\n",
    "    last_inserted_pos = token.stop\n",
    "    if log: print('skip', token)\n",
    "\n",
    "\n",
    "  async def predict_on_tokens(window_left, window_right, return_probas):\n",
    "    features = [get_word_features_cached(i.text) for i in Stream(window_left).chain(window_right)]\n",
    "    features_for_batch = np.stack((features, ))\n",
    "    arr = np.ascontiguousarray(features_for_batch, dtype=np.float32)\n",
    "    output_probas = np.array((await jsinfer.infer(arr)).to_py())\n",
    "    # output_probas[0][0] += 2.\n",
    "    if return_probas:\n",
    "      return params[\"ID_TO_PUNCTUATION\"], output_probas \n",
    "    punct_idx = np.argmax(output_probas).item()\n",
    "    punct = params[\"ID_TO_PUNCTUATION\"][punct_idx]\n",
    "    return punct\n",
    "\n",
    "\n",
    "  window_left = deque()\n",
    "  window_right = deque()\n",
    "  log = False\n",
    "  skip_next = False\n",
    "  for i in Stream.repeat(Substr(PAD_TOKEN), params['INPUT_WORDS_CNT_LEFT']) \\\n",
    "      .chain(Stream(tokenize(text))) \\\n",
    "      .chain(Stream.repeat(Substr(PAD_TOKEN), params[\"INPUT_WORDS_CNT_RIGHT\"])):\n",
    "    window_right.append(i)\n",
    "    if len(window_right) <= params[\"INPUT_WORDS_CNT_RIGHT\"]:\n",
    "        continue\n",
    "    assert len(window_right) == params[\"INPUT_WORDS_CNT_RIGHT\"] + 1\n",
    "\n",
    "    next_ = window_right.popleft()\n",
    "    sink(next_)\n",
    "    window_left.append(next_)\n",
    "    if len(window_left) < params['INPUT_WORDS_CNT_LEFT']: \n",
    "      continue\n",
    "\n",
    "    assert len(window_left) == params[\"INPUT_WORDS_CNT_LEFT\"]\n",
    "    assert len(window_right) == params[\"INPUT_WORDS_CNT_RIGHT\"]\n",
    "\n",
    "    if skip_next:\n",
    "      prediction = \"$skip\" \n",
    "    else:\n",
    "      # params[\"ID_TO_PUNCTUATION\"], output_probas\n",
    "      prediction = await predict_on_tokens(window_left, window_right, return_probas=False) \n",
    "\n",
    "\n",
    "    #random.choice([\" \", \".\"])\n",
    "    if log: print(d_as_str(window_left).rjust(100), prediction.center(6), d_as_str(window_right))\n",
    "\n",
    "    def is_replaceable_punct(punct):\n",
    "      return punct in ',.'\n",
    "\n",
    "    if prediction == \"$skip\":\n",
    "      pass\n",
    "    elif prediction != \"$empty\":\n",
    "      if is_replaceable_punct(window_right[0].text):\n",
    "        if window_right[0].text != prediction:\n",
    "          window_right[0].text = prediction\n",
    "      else:\n",
    "        window_left.append(Substr(prediction))\n",
    "        sink(window_left[-1])\n",
    "    else:\n",
    "      if is_replaceable_punct(window_right[0].text):\n",
    "          skip(window_right.popleft())\n",
    "\n",
    "    skip_next = is_replaceable_punct(window_right[0].text)\n",
    "\n",
    "    while len(window_left) != params['INPUT_WORDS_CNT_LEFT'] - 1: \n",
    "      token = window_left.popleft()\n",
    "\n",
    "    if log: print(d_as_str(window_left).rjust(100), \"      \", d_as_str(window_right))\n",
    "\n",
    "  for i in window_right:\n",
    "    sink(i)\n",
    "  ress = \"\".join(res)\n",
    "  return ress"
   ]
  },
  {
   "cell_type": "code",
   "execution_count": null,
   "metadata": {},
   "outputs": [],
   "source": [
    "from striprtf.striprtf import rtf_to_text"
   ]
  },
  {
   "cell_type": "code",
   "execution_count": 191,
   "metadata": {},
   "outputs": [
    {
     "name": "stdout",
     "output_type": "stream",
     "text": [
      "INFERCENC IS WIERD\n",
      "INFERCENC IS WIERD\n",
      "INFERCENC IS WIERD\n",
      "INFERCENC IS WIERD\n",
      "INFERCENC IS WIERD\n",
      "INFERCENC IS WIERD\n",
      "INFERCENC IS WIERD\n",
      "INFERCENC IS WIERD\n",
      "INFERCENC IS WIERD\n",
      "INFERCENC IS WIERD\n",
      "\n"
     ]
    },
    {
     "data": {
      "text/plain": [
       "('C++ (читается си-плюс-плюс[2][3]) — компилируемый, статически типизированный язык программирования общего назначения.\\n\\nПоддерживает такие парадигмы программирования, как процедурное программирование, объектно-ориентированное программирование, обобщённое программирование. Язык имеет богатую стандартную библиотеку, которая включает в себя распространённые контейнеры и алгоритмы, ввод-вывод, регулярные выражения, поддержку многопоточности и другие возможности. C++ сочетает свойства как высокоуровневых, так и низкоуровневых языков[4][5]. В сравнении с его предшественником — языком C — наибольшее внимание уделено поддержке объектно-ориентированного и обобщённого программирования[5].\\n\\nC++ широко используется для разработки программного обеспечения, являясь одним из самых популярных языков программирования[мнения 1][мнения 2]. Область его применения включает создание операционных систем, разнообразных прикладных программ, драйверов устройств, приложений для встраиваемых систем, высокопроизводительных серверов, а также компьютерных игр. Существует множество реализаций языка C++, как бесплатных, так и коммерческих и для различных платформ. Например, на платформе x86 это GCC, Visual C++, Intel C++ Compiler, Embarcadero (Borland) C++ Builder и другие. C++ оказал огромное влияние на другие языки программирования, в первую очередь на Java и C#.\\n\\nСинтаксис C++ унаследован от языка C. Изначально одним из принципов разработки было сохранение совместимости с C. Тем не менее C++ не является в строгом смысле надмножеством C; множество программ, которые могут одинаково успешно транслироваться как компиляторами C, так и компиляторами C++, довольно велико, но не включает все возможные программы на C. ',\n",
       " 'C++ (читается си-плюс-плюс.[2][3]) — компилируемый статически типизированный язык программирования общего назначения.\\n\\nПоддерживает такие парадигмы, программирования, как процедурное программирование, объектно-ориентированное программирование, обобщённое программирование. Язык имеет богатую, стандартную библиотеку, которая включает в себя распространённые контейнеры и алгоритмы, ввод-вывод, регулярные выражения, поддержку, многопоточности и другие возможности. C++ сочетает свойства, как высокоуровневых, так и низкоуровневых языков.[4][5] В сравнении с его предшественником — языком. C — наибольшее внимание уделено поддержке объектно-ориентированного и обобщённого программирования.[5]\\n\\nC++ широко используется для разработки программного обеспечения, являясь одним из самых популярных языков программирования[мнения. 1][мнения 2] Область его применения включает создание операционных систем, разнообразных прикладных программ, драйверов, устройств, приложений для встраиваемых систем, высокопроизводительных серверов, а также компьютерных игр. Существует множество реализаций, языка. C++, как бесплатных, так и коммерческих, и для различных платформ. Например, на платформе x86, это GCC Visual. C++. Intel. C++ Compiler Embarcadero (Borland). C++ Builder и другие. C++ оказал огромное влияние на другие языки программирования, в первую очередь, на Java и C#.\\n\\nСинтаксис. C++ унаследован от языка. C. Изначально одним из принципов разработки было сохранение совместимости с C. Тем не менее. C++ не является в строгом смысле надмножеством. C; множество программ, которые могут одинаково успешно транслироваться, как компиляторами. C так и компиляторами. C++ довольно велико, но не включает все возможные программы на C.')"
      ]
     },
     "execution_count": 191,
     "metadata": {},
     "output_type": "execute_result"
    }
   ],
   "source": [
    "\n",
    "#text = \"Тест,  тест    Тест. - Тест, тест, тест....\"\n",
    "# text = \"Тест,  тест.    Тест. - Тест, тест, тест.....\"\n",
    "text = \"\"\"C++ (читается си-плюс-плюс[2][3]) — компилируемый, статически типизированный язык программирования общего назначения.\n",
    "\n",
    "Поддерживает такие парадигмы программирования, как процедурное программирование, объектно-ориентированное программирование, обобщённое программирование. Язык имеет богатую стандартную библиотеку, которая включает в себя распространённые контейнеры и алгоритмы, ввод-вывод, регулярные выражения, поддержку многопоточности и другие возможности. C++ сочетает свойства как высокоуровневых, так и низкоуровневых языков[4][5]. В сравнении с его предшественником — языком C — наибольшее внимание уделено поддержке объектно-ориентированного и обобщённого программирования[5].\n",
    "\n",
    "C++ широко используется для разработки программного обеспечения, являясь одним из самых популярных языков программирования[мнения 1][мнения 2]. Область его применения включает создание операционных систем, разнообразных прикладных программ, драйверов устройств, приложений для встраиваемых систем, высокопроизводительных серверов, а также компьютерных игр. Существует множество реализаций языка C++, как бесплатных, так и коммерческих и для различных платформ. Например, на платформе x86 это GCC, Visual C++, Intel C++ Compiler, Embarcadero (Borland) C++ Builder и другие. C++ оказал огромное влияние на другие языки программирования, в первую очередь на Java и C#.\n",
    "\n",
    "Синтаксис C++ унаследован от языка C. Изначально одним из принципов разработки было сохранение совместимости с C. Тем не менее C++ не является в строгом смысле надмножеством C; множество программ, которые могут одинаково успешно транслироваться как компиляторами C, так и компиляторами C++, довольно велико, но не включает все возможные программы на C. \"\"\"\n",
    "\n",
    "# for i in range(10):\n",
    "rres = await infer_optimal(params, text)\n",
    "text, ress"
   ]
  },
  {
   "cell_type": "code",
   "execution_count": 197,
   "metadata": {},
   "outputs": [
    {
     "name": "stdout",
     "output_type": "stream",
     "text": [
      "INFERCENC IS WIERD\n",
      "INFERCENC IS WIERD\n",
      "INFERCENC IS WIERD\n",
      "INFERCENC IS WIERD\n",
      "INFERCENC IS WIERD\n",
      "INFERCENC IS WIERD\n",
      "INFERCENC IS WIERD\n",
      "INFERCENC IS WIERD\n",
      "INFERCENC IS WIERD\n",
      "INFERCENC IS WIERD\n",
      "\n"
     ]
    }
   ],
   "source": [
    "with open(\"../validation/text1.txt\") as val:\n",
    "    text = val.read()\n",
    "\n",
    "# len(list(map(lambda x: x.text, tokenize(text))))\n",
    "text_res = await infer_optimal(params, text.replace(\".\", \"\").replace(\",\", \"\"))"
   ]
  },
  {
   "cell_type": "code",
   "execution_count": null,
   "metadata": {},
   "outputs": [],
   "source": [
    "from striprtf.striprtf import rtf_to_text\n"
   ]
  },
  {
   "cell_type": "code",
   "execution_count": 198,
   "metadata": {},
   "outputs": [
    {
     "data": {
      "text/plain": [
       "defaultdict(<function __main__.<lambda>()>,\n",
       "            {'unchanged .': 455,\n",
       "             'unchanged ,': 517,\n",
       "             'add ,': 79,\n",
       "             'remove ,': 158,\n",
       "             'remove .': 24,\n",
       "             'add .': 63,\n",
       "             'replace , with .': 2})"
      ]
     },
     "execution_count": 198,
     "metadata": {},
     "output_type": "execute_result"
    }
   ],
   "source": [
    "import diff_match_patch as dmp_module\n",
    "from collections import defaultdict, Counter\n",
    "\n",
    "dmp = dmp_module.diff_match_patch()\n",
    "diff = dmp.diff_main(text, text_res)\n",
    "\n",
    "diff_aggregate = defaultdict(lambda : 0)\n",
    "def sink2():\n",
    "  global cur_add, cur_remove\n",
    "  if cur_add == \"\" and cur_remove == \"\":\n",
    "    return\n",
    "  if cur_add == \"\":\n",
    "    diff_aggregate['remove ' + cur_remove] += 1\n",
    "    cur_remove = \"\"\n",
    "    return\n",
    "  if cur_remove == \"\":\n",
    "    diff_aggregate['add ' + cur_add] += 1\n",
    "    cur_add = \"\"\n",
    "    return\n",
    "   \n",
    "  diff_aggregate['replace ' + cur_remove + \" with \" + cur_add] += 1\n",
    "  cur_add = \"\"\n",
    "  cur_remove = \"\"\n",
    "\n",
    "cur_remove = \"\"\n",
    "cur_add = \"\"\n",
    "\n",
    "UNCHANGED = 0\n",
    "ADD = 1\n",
    "REMOVE = -1\n",
    "\n",
    "for change in diff:\n",
    "    if change[0] == UNCHANGED:\n",
    "       c = Counter(change[1])\n",
    "       diff_aggregate['unchanged .'] += c['.']\n",
    "       diff_aggregate['unchanged ,'] += c[',']\n",
    "       sink2() \n",
    "    elif change[0] == ADD:\n",
    "      cur_add += change[1]\n",
    "    elif change[0] == REMOVE:\n",
    "      cur_remove += change[1]\n",
    "    else:\n",
    "       raise Exception(\"Unknown format\")\n",
    "    \n",
    "sink2()\n",
    "\n",
    "diff_aggregate"
   ]
  },
  {
   "cell_type": "code",
   "execution_count": null,
   "metadata": {},
   "outputs": [],
   "source": [
    "# С исходным текстом\n",
    "defaultdict(<function __main__.<lambda>()>,\n",
    "            {'unchanged .': 472,\n",
    "             'unchanged ,': 634,\n",
    "             'add ,': 180,\n",
    "             'remove ,': 42,\n",
    "             'add .': 86,\n",
    "             'remove .': 7,\n",
    "             'replace , with .': 1})"
   ]
  },
  {
   "cell_type": "code",
   "execution_count": null,
   "metadata": {},
   "outputs": [],
   "source": [
    "# Без исходного текста\n",
    "defaultdict(<function __main__.<lambda>()>,\n",
    "            {'unchanged .': 466,\n",
    "             'unchanged ,': 580,\n",
    "             'add ,': 177,\n",
    "             'remove ,': 95,\n",
    "             'add .': 83,\n",
    "             'remove .': 13,\n",
    "             'replace , with .': 2})"
   ]
  },
  {
   "cell_type": "code",
   "execution_count": null,
   "metadata": {},
   "outputs": [],
   "source": [
    "# тюнинг +2 с исходным текстом\n",
    "defaultdict(<function __main__.<lambda>()>,\n",
    "            {'unchanged .': 468,\n",
    "             'unchanged ,': 594,\n",
    "             'add ,': 78,\n",
    "             'remove ,': 82,\n",
    "             'add .': 69,\n",
    "             'remove .': 11,\n",
    "             'replace , with .': 1})"
   ]
  },
  {
   "cell_type": "code",
   "execution_count": null,
   "metadata": {},
   "outputs": [],
   "source": [
    "#тюнинг +2 без исходного текста\n",
    "defaultdict(<function __main__.<lambda>()>,\n",
    "            {'unchanged .': 455,\n",
    "             'unchanged ,': 517,\n",
    "             'add ,': 79,\n",
    "             'remove ,': 158,\n",
    "             'remove .': 24,\n",
    "             'add .': 63,\n",
    "             'replace , with .': 2})"
   ]
  },
  {
   "cell_type": "code",
   "execution_count": 163,
   "metadata": {},
   "outputs": [
    {
     "data": {
      "text/plain": [
       "(0, 757)"
      ]
     },
     "execution_count": 163,
     "metadata": {},
     "output_type": "execute_result"
    }
   ],
   "source": [
    "from collections import Counter\n",
    "Counter(text)[',s'], Counter(text_res)[',']"
   ]
  },
  {
   "cell_type": "code",
   "execution_count": 151,
   "metadata": {},
   "outputs": [
    {
     "name": "stdout",
     "output_type": "stream",
     "text": [
      "0 beep boo\n",
      "-1 p\n",
      "1 b blah\n"
     ]
    }
   ],
   "source": [
    "import diff_match_patch as dmp_module\n",
    "\n",
    "one =   'beep boop'\n",
    "other = 'beep boob blah'\n",
    "\n",
    "dmp = dmp_module.diff_match_patch()\n",
    "diff = dmp.diff_lineMode(one, other, False)\n",
    "\n",
    "for change in diff:\n",
    "  print(change[0], change[1])\n"
   ]
  },
  {
   "cell_type": "code",
   "execution_count": 146,
   "metadata": {},
   "outputs": [
    {
     "data": {
      "text/plain": [
       "'beep boo'"
      ]
     },
     "execution_count": 146,
     "metadata": {},
     "output_type": "execute_result"
    }
   ],
   "source": [
    "change[1]"
   ]
  },
  {
   "cell_type": "code",
   "execution_count": 139,
   "metadata": {},
   "outputs": [
    {
     "data": {
      "text/plain": [
       "'овника… Жизнь грохочет там, где насилие стремится стереть ее своеобразие и особенности.\\n\\nВнимательный и небрежный глаз седого машиниста следил за мельканием бетонных столбиков, высоких мачт с вращающимися прожекторами, бетонированных башен, где в стеклянном фонаре виднелся охранник у пулемета. Машинист мигнул помощнику, паровоз дал предупредительный сигнал. Мелькнула освещенная электричеством будка, очередь машин у опущенного полосатого шлагбаума, бычий красный глаз светофора.\\n\\n(По В. Гроссману)\\n6\\nРябиновый дол\\n\\nЗатерялся в перелесках рябиновый дол. Рассказывают, что давным-давно здесь, в этом долу, молнией убило убогого странника. А богдановский пастух возьми и посади на том месте две рябинки на память. А теперь вон их сколько, не сосчитаешь: весь дол в них, по обоим склонам. Рябинки одна на другую не похожие, и ягоды тоже: то они розовые, то алые, то темно-красные.\\n\\nЯ люблю заходить сюда в августе, когда наливается рябина, исподволь краснеют ее ягоды и свешиваются тяжелыми кистями. В'"
      ]
     },
     "execution_count": 139,
     "metadata": {},
     "output_type": "execute_result"
    }
   ],
   "source": [
    "text[8000:9000]"
   ]
  },
  {
   "cell_type": "code",
   "execution_count": 140,
   "metadata": {},
   "outputs": [
    {
     "data": {
      "text/plain": [
       "(39849, 40066)"
      ]
     },
     "execution_count": 140,
     "metadata": {},
     "output_type": "execute_result"
    }
   ],
   "source": [
    "len(text), len(text_res)"
   ]
  },
  {
   "cell_type": "code",
   "execution_count": 143,
   "metadata": {},
   "outputs": [
    {
     "name": "stdout",
     "output_type": "stream",
     "text": [
      "0  |  beep boo\n",
      "-1  |  p\n",
      "1  |  b blah\n"
     ]
    }
   ],
   "source": [
    "import diff_match_patch as dmp_module\n",
    "\n",
    "one = 'beep boop'\n",
    "other = 'beep boob blah'\n",
    "\n",
    "dmp = dmp_module.diff_match_patch()\n",
    "diff = dmp.diff_main(one, other)\n",
    "\n",
    "for change in diff:\n",
    "    print(change[0], \" | \", change[1])"
   ]
  },
  {
   "cell_type": "code",
   "execution_count": 136,
   "metadata": {},
   "outputs": [
    {
     "data": {
      "text/plain": [
       "'е сосчитаешь: весь дол в них, по обоим склонам. Рябинки одна на другую, не похожие и ягоды тоже: то они розовые, то алые, то темно-красные.\\n\\nЯ люблю заходить сюда в августе, когда наливается рябина, исподволь краснеют ее ягоды и свешиваются тяжелыми кистями. В сентябре залюбуешься резными листьями, багряными и красными от алых зорь, и рябинового огня. А в октябре, когда кругом стоят голые деревья, этот дол, еще долго радует глаз. Издали кажется, что алые кисти висят не на тонких ветвях, а прямо в воздухе.\\n\\nЭтот дол хорош, и зимой, даже еще лучше на белом поле. Потому и склоны его, такие нарядные и праздничные, что рябит в глазах от красного и белого, рябинового и снежного. И не поймешь, чего тут больше. Дол в конце делает полукруг, делают полукруг и рябинки. Вот и кажется, что эту снежную долину украсил щедрый волшебник рубиновым ожерельем. А это ожерелье, то покроется снегом, то опять останется голым, озябшим, постукивая на ветру, замороженными ягодами.\\n\\nКогда же падает сырой снег, он покрывает сверху рябиновые кисти. Снег затвердеет, зачерствеет так, что и в ветер не опадает, а качается вместе с кистями: ни дать, ни взять, маленькие, перевернутые парашютики зацепились за ветки. Если же оттепель, гроздья плачут, умываясь слезами. В мороз – обледенеют, покроются тонкой, ледяной кожицей. Срываю, кладу в рот маленькие красные ледяшки. Они тают, становятся вкусными, прохладными ягодами. Никакой горьковатости: ее отняли первые морозы.\\n\\nХороши они и в бахроме инея: каждая ягодка в крохотном серебряном венце. А однажды я видел чудо: с утра падал сухой снежок, его кристаллики, обсыпали все кисти рябины, и они заиграли на солнце волшебными огоньками.\\n\\nЗатерялся в перелесках рябиновый дол. А все равно его отыскали свиристели. Они прилетели в субботу, и все воскресенье тешились здесь шумно, суетливо, радостно. Даже сороки наведались сюда из садов, уселись в сторонке, завидуя чужому пиршеству. А свиристелей так много, что, когда поднялись, все небо было в этих северных, красивых птицах, что звали на Руси красавами.\\n\\nДождался-таки своего часа рябиновый дол. Не зря хранил свою красоту и богатство.\\n7.\\n\\nВ конце апреля, в еще голом, сквозном лесу, на возвышенных, прогретых местах, сквозь жесткую, кожистую подстилку, пробивается сон-трава. На нежных, опушенных стеблях, как бы еще не окрепших от перворождения поникше, дремлют крупные сине-фиолетовые цветы. Об эту пору растеньице еще без единого листочка: просто стебель, и на нем – цветок. Сон-трава так и зимовала под снегом, под опавшими древесными листьями, с уже готовым бутоном, с тем чтобы пока вокруг еще нет ни одной травинки, первой пробиться к солнцу, поскорее развернуть бутон и понежиться, подремать в ласковых, вешних лучах. Ничего подобного, этой яркой праздничной сини нет, во всем пока еще не прибранном, буро-жухлом лесу, и потому так радостно изумишься, когда еще издали, за много шагов, увидишь это диво, весны.\\n\\nРвать цветок нельзя. Он и сам по себе трепетно-нежный, неприкасаемый и даже под бодрящим апрельским солнцем, не в силах приподнять дремотно опущенной головы. Если же его сорвать, то он тут же, безвольно, поникнет и уснет навсегда… Оттого и назван так: сон-трава.\\n\\nНо вот все-таки рвут многочисленные посетители вешнего леса.! Рвут и вскоре бросают. Бросают из-за этой нежной неприкасаемости растения, а стало быть, из-за его бесполезности и ненужности. Бывает в воскресный день, все лесные тропки, ведущие к электричке, усыпаны завядшими и растоптанными цветами.\\n\\n(По Е. Носову.)\\n8.\\nОрешниковые сони.\\n\\nМы с другом очищали скворечники, у нас, в саду, от старой подстилки, которую натаскали в гнезда скворцы. И вдруг из одного из них выскочила рыжая мышка.\\n\\nОна хотела спрятаться в густой траве, но мы ее поймали. Хорошо рассмотрели и обнаружили, что это не мышь, а соня. Мы поняли это – кормящая мать, и, значит, там, в скворечнике, ее малыши. Так и оказалось. Их было шестеро маленьких, голых, слепых.\\n\\nРешили перенести домой все семейство. А чтобы зверьки чувствовали запах родного дома, взяли из скворечника и старую подстилку. Всех поместили в террариум. Мама-соня сначала зарылась в сухую траву, но вскоре вылезла, обнаружила своих малышей и начала облизывать их, устраивать поудобнее. Мы положили соне кусочки, яблока, сухарики. Утром обнаружили, что яблоко съедено, а сухарики не тронуты.\\n\\nЧерез две недели маленькие сони стали выходить из гнезда. Они обнюхивали все вокруг, обживались. А вскоре стали брать корм прямо из рук.\\n\\n10\\nМой питомец.\\n\\nКак-то весной принес я домой икру, которую нашел в луже, и поместил ее в банку с водой. Уже через несколько дней икринки заметно изменились – в каждой стремительно развивался зародыш. Условия для выклева, личинок, были благоприятные, и я стал свидетелем этого таинства. Темные существа были похожи на мальков рыб. Первое время они почти не шевелились, сидя на водорослях.\\n\\nСпокойствие, однако, было обманчиво, – чуть позже в сосудах закипела бурная жизнь.\\n\\nПримерно на пятой-шестой неделе после выклева у головастиков, начали расти задние лапки. Передние же развивались незаметно под жабрами. На последней личиночной стадии развития головастики как бы вытянули свои маленькие передние лапки. Хвосты у них постепенно укорачивались, и отталкивались они все чаще задними лапками. В это время они стали похожи на лягушат, а вернее, на жабят, как позже оказалось.\\n\\nСо времени выклева прошло около шестидесяти дней. Я поместил их в бассейн акватеррариума, где обитали тритоны, и ждал момента выхода на сушу своих «малышей». И дождался – существа выбрались на влажный песчаный бережок. Передвигались они маленькими прыжками, не забывая навещать родную стихию – воду.\\n\\nМои питомцы очень долгое время отказывались от предлагаемой пищи. Двое из них погибли от голода, хотя вокруг было много шевелящихся червячков. Я уже отчаялся, когда последний, оставшийся в живых, вдруг стал обращать внимание на трубочника, а затем и есть его. Вскоре мой любимец начал хватать с пинцета кусочки мяса. Он стал заметно расти, что очень радовало меня. Я переживал, опасаясь, что его проглотят тритоны: мой питомец был так мал. Однако вскоре он стал очень шустрым и даже отбирал у соседей корм.\\n\\nЧерез несколько месяцев жабенок хватал уже все без разбору, будь то червяк или тритон. Он стал опасен для жителей акватеррариума. Пришлось оборудовать ему отдельное помещение. К этому времени он уже стал довольно большим и красивым – на серо-салатовом фоне спинки темно-зеленые пятна различных размеров, окаймленные черными полосами. Брюшко более светлое – на серо-белом фоне салатовые пятна. А какие великолепные изумрудные глаза.!. Конечно же, это – зеленая жаба.\\n11.\\n\\nВ тайге темнеет быстро. И, несмотря на то, что мы это знали, все-таки темнота застала нас врасплох. Раздвигая тяжелые, колючие ветви и нащупывая ногой следующую кочку, мы мало-помалу продвигались вперед. Было совершенно темно, но, как ни странно, от прожорливых комаров и мошек, летавших вперемешку вокруг нас, спасения не было так же, как и днем.\\n\\nЦелый день мы шли вниз по течению реки, но река исчезла в темноте, где-то слева, и нам приходилось идти наугад. К счастью, до ближайшей охотничьей избушки, в которой мы рассчитывали устроить ночевку, оставалось, по-видимому, совсем недалеко. И действительно, когда мы поодиночке перешли по узкой жердочке, брошенной через топкий лесной ручей, и поднялись в гору, мы оказались перед избушкой.\\n\\nНе теряя ни минуты и в душе радуясь, что расчет наш оправдался, и мы в пору добрались до места, мы без устали рубили хвою, пилили ножовкой небольшие ветки и клали их крест-накрест. Вот и готова наша пахучая, но не очень мягкая постель.! Товарищ мой уже не смотрит исподлобья и даже начинает читать стихи, которые учил когда-то, на память, сначала шепотом, а потом и в голос, вовсе не подозревая, как он смешон в эту минуту.\\n\\nС тихим шорохом ветер раскачивает вершины старых кедров, как будто предвещая на завтра дождь, и где-то вдали кричит какая-то ночная птица.\\n12.\\n\\nНа дворе май, а уже порыжела сирень. Нет дождей второй месяц. Еще не беда для огородов, но предчувствие ее томится в сухом, духмяном от сомлевших трав, воздухе.\\n\\nТоропится добрать стройматериалы для своего жилища, оса грызет дощатую обшивку веранды – только шорох стоит. Торопится накормить своих птенцов воробей: то и дело снует за стреху и обратно. Торопится отцвести декоративная жимолость: над ее бело-розовой, одуряюще, запашистой кипенью, неутомимо снуют пчелы.\\n\\nЛишь новорожденной бледно-зеленой гусенице, как видно, некуда спешить средь суеты майского утра. Она зависла над веткой березы. Огляделась, выпустила из себя паутинку, скользнула вниз и снова зависла в жарком токе воздуха, покачиваясь, как на качелях.\\n\\nКаким ей видится этот мир.? Неоглядным торжеством зелени, под выгоревшим и потускневшим от обилия солнца небом.? Черно-белым росчерком берез.?. Или той вон, похожей на сытую гусеницу сережкой, что вздрагивает рядом, застив весь свет.?.\\n\\nМне тоже застят весь свет эти березы, что вымахали у крыльца намного выше крыши. И солнечные лучи просеиваются сквозь них лишь зыбким кружевом бликов. И река угадывается едва сквозь трепет клейкой листвы. Но шелест ее для меня – как задушевные речи старого друга.\\n13.\\nДожди.\\n\\nНеблагоприятная для отдыха погода установилась надолго. Неприветливое небо непрестанно хмурилось. Не прекращаясь ни на час, ни днем, ни ночью, шли дожди. К сырой погоде я был не подготовлен, так как не захватил с собой на дачу ни плаща, ни непромокаемой обуви, ни даже какой-нибудь незатейливой одежонки, которую не жалко было бы трепать в непогоду. А почва у нас повсюду глинистая, вязкая. Даже после небольшого дождя грязь, вокруг непролазная. Сколько ни оглядывал я низко нависшие пепельно-серые облака, но не мог рассмотреть даже ни малейшего проблеска. Незаметно было никакого намека на просветление. Как ни досадно терять драгоценное время летнего отпуска, но, как говорится, ничего не попишешь. И хотя я внешне примирился с тем, что придется отсиживаться дома, однако в душе не мог не надеяться на лучшее. Ведь человек всегда живет светлой надеждой, и это неплохо. Что ни говори, а люди неунывающие – это лучшая часть рода человеческого. Итак, не смея рассчитывать на прекращение дождей, я расположился у окна, с недурными намерениями, просмотреть не прочитанные за последние дни газеты, ответить на два-три письма.\\n14\\nБелочка-партизан.\\n\\nЛес, старый, деревья высокие, верхушки, раскачиваются и шумят. Партизаны разожгли костер. Дым столбом поднялся вверх. И вдруг, чуть ли не в огонь, упал с высокой сосны какой-то комок. Ребята, сидевшие у костра, схватили его. Это был маленький бельчонок. Он весь дрожал от страха и даже не пытался вырваться. Решили оставить его в отряде, а воспитывать поручили мне, поскольку я год проработала учительницей в третьем классе.\\n\\nИтак, эта белочка – «подарок с неба», как мы ее окрестили, стала служить с нами, ездила на повозке, где находились продовольствие и рации.\\n\\nОна очень любила тепло, подолгу спала в рукавице, сшитой специально для нее. Спала она крепко, свернувшись в клубок, и очень смешно прикрывала мордочку пушистым хвостиком, словно одеялом. А проснувшись, зверек любил забираться к кому-нибудь в карман или под шинель. Ел бельчонок, варенье, сырые яйца, сало, сухари, консервы и, конечно, ягоды, особенно любил землянику. Не знаю, как он относился к сахару, этого лакомства у нас не было.\\n\\nТак и ездил с нами бельчонок, участвуя в боевых рейдах и переходах по тылам врага. Когда была спокойная обстановка, я и моя подруга, Нина, тоже радистка, отпускали зверька погулять и поиграть. Белочка очень ловко бегала по стволам деревьев, брала с рук угощенье, но давалась не всем, знала только нас и ездового Андрея.\\n\\nИнтересно было смотреть, как она бегает по туловищу коня, быстрыми прыжками несется по спине, по ногам. Лошади вначале вели себя, беспокойно кожа на их теле вздрагивала. А потом они привыкли и спокойно относились к «белочкиным путешествиям».\\n\\nА однажды зверек забрался на высокое дерево. Неожиданно появилась какая-то крупная птица, стала нападать на бельчонка. Налетели сойки, раскричались на весь лес. Пришлось отгонять птицу выстрелом из пистолета. Она улетела, а белочка мгновенно спустилась к нам в руки. Сердечко ее билось часто-часто. Она юркнула в рукавицу и долго не вылезала оттуда.\\n\\nПрожила белочка с нами до лета. И один раз случилось непредвиденное… Выпустили мы ее, как всегда, погулять, а тут приказ: срочно покинуть это место. Начался обстрел. У нас не было времени долго искать белочку, еле успели свернуть радиостанцию. Звали ее, звали, но она не появлялась. Так и осталась в том лесу, у речки…\\n\\nДолго вспоминали ее партизаны и думали-гадали: найдет ли она себе корм, сумеет ли прожить постоять за себя.?. Кто знает… Да и на войне не переставали люди, посуровевшие в тяжелых испытаниях, оставаться людьми, готовыми уберечь от гибели все живое. Неистребима тяга человека к доброте и заботе…\\n15\\nМать рек русских.\\n\\nМатерью рек русских издавна называли люди Волгу. Из-под сруба старинной часовенки близ деревеньки Волгино-Верховье, вытекает неприметный ручеек, через который перекинут бревенчатый мостик.\\n\\nПроделав путь в три тысячи шестьсот восемьдесят восемь километров, Волга приходит к Каспийскому морю.\\n\\nКакие только суда не встречаются на Волге.!.\\n\\nТяжело проплывает огромная нефтеналивная баржа, заменяющая собой много железнодорожных цистерн. Вслед за ней тянутся не спеша широкие баркасы с невысокими бортами, доверху, нагруженные камышинскими арбузами. Взгляните издали с берега – точь-в-точь огромное блюдо с плодами плывет по реке. А навстречу движется длинная улица, мощеная бревнами. Как полагается, на улице выровнялись, будто по линейке игрушечные домики. Перед домиком догорает костер, кипит чай в закопченном котелке, колышется на бечевках вывешенное белье – и все это хозяйство медленно движется вниз по реке.\\n\\nНе поодиночке, а караваном тянутся огромные плоты, насчитывающие по пятидесяти тысяч бревен. Провести такую громадину по своенравным поворотам в течении реки – большое искусство.\\n\\nНа залитой июньским солнцем палубе с комфортом расположились в камышовых креслах пассажиры трехэтажного теплохода, точно серебряного от солнца. Неслышно рассекает он зеленовато-серые волны реки. По сравнению с этим плавучим дворцом, неказистым, кажется, труженик-буксир, толкающий впереди себя или ведущий за собою тяжело груженные баржи.\\n\\nБегут скоростные поезда, несутся автомобили по трассам нашей необъятной страны, но Волга, по-прежнему величайшая магистраль нашей Родины.\\n16\\nКукушечья хитрость.\\n\\nНеподалеку от нашего промыслового стана лопотала листвою тополиная лесополоса, вдоль которой торчали невысокие бетонные столбики проволочной ограды. И вот мы стали замечать, как на эти столбики изредка присаживалась поющая кукушка. Посидит, попоет на одном, перелетит на другой, третий, и так далее, пока не кончится коротенькая лесополоса. Что она, столбики считает, что ли.?\\n\\n17.\\n\\nЗаря разгоралась. Лучи солнца коснулись верхушек деревьев, позолотили блестящую поверхность озера и проникли в спальню к ребятишкам. Высоко над домом развевается и горит ярким пламенем красный флаг. Скоро подъем. По звуку горна юные спортсмены быстро поднимаются и, застелив аккуратно постели, выбегают на зарядку. В комнате остаются ребятишки младшего возраста. Они не умеют еще самостоятельно застилать свои постельки и делают это под наблюдением вожатой Люси.\\n\\nНа спортивной площадке, построившись по росту в ряд, по трое и, подравнявшись, ребята застывают по команде «смирно!» Через минуту в воздухе мелькают загорелые руки, и стриженные наголо ребятишки наклоняются, касаясь земли кончиками, пальцев. После зарядки они врассыпную бегут к озеру, оглашая его берега звонким смехом.\\n\\nМалыши, не умеющие плавать, плещутся у берега. Несколько ребят во главе с Юрой, знаменитым лагерным пловцом, направились к плавучему мостику, но, услышав сердитый голос вожатой Люси, поспешили обратно.\\n\\nПосле купанья хорошо растереться мохнатым полотенцем. Ежедневная зарядка и обтирание холодной водой укрепляют и закаляют здоровье. А какой аппетит развивается после купанья.!. Все кажется необычайно вкусным. Ребята с удовлетворением уплетают оладьи, макая их в сметану.\\n18\\n\\nМока жил в горах Северного Кавказа. Осенью, когда созревали желуди, груши, другие дикие плоды и ягоды, он спускался в леса, даже выходил в предгорья, а лето и весну проводил, забираясь высоко в горы. Его мать, бурая медведица, погибла, когда он был еще совсем маленьким Голодного и испуганного, забившегося в густые заросли облепихи его, нашли люди, отогнали своих свирепых собак и принесли медвежонка в деревню. Там, на окраине горного селения, он прожил почти год: лето, осень и зиму. На ночь его запирали в сарае, а день он проводил на дворе, огороженном высоким и сплошным каменным забором.\\n\\nКогда он подрос и окреп, его стали недокармливать. Неумышленно. Просто ему надо было много пищи, а одинокий старик, его хозяин, не всегда мог его накормить. Мока ел все: хлеб, сухари, мясо, кости, картошку, любые овощи – сырые и вареные даже траву. И все равно всегда был полуголодным.\\n\\nИногда к Моке приходили двое ребятишек. Поиграть с ним. Медвежонок радовался таким посещениям. Но этой весной, когда в апреле и мае, все вокруг цвело и зеленело, мальчики приходили всего один раз. Принесли Моке две сладкие булочки, потрепали его по мохнатой коричневой гриве, погладили лоб и щеки. – Мока в это время довольно урчал, – потом ушли. Он снова остался один до вечера, пока не пришел старик-хозяин. Человек немного покормил его, сказал ласковые слова.\\n\\nОднажды ребятишки пришли снова. С ними был третий. Медвежонок съел гостинцы, предложенные ему двумя знакомыми мальчиками, потянулся к третьему. А тот вместо сладкой булочки сунул ему в нос колючую щетку. Мока укололся, взвизгнул и отпрянул, а мальчик громко и весело захохотал. И тут вдруг выяснилось, что у Моки довольно крутой нрав. Он взревел, подскочил к обидчику и ударил его лапой. Дети убежали, а медвежонок долго ходил по двору, потом нашел удобные уступы в каменной кладке забора, перебрался через него и ушел в лес.\\n\\nС тех пор прошло немало лет. Мока стал могучим крупным медведем. Правда, первую зимовку на воле, он едва пережил: чуть не замерз. Но его спасла удачно, хотя и случайно, выбранная пещерка, в которую он залег на свою первую зимнюю спячку.\\n\\nТеперь он был уже опытен, умен и хитер. И хотя питался в основном растительной пищей, был не прочь и умел при удобном случае задрать оленя или тура. Людей он не встречал, сторонился их следов, запаха. В нем проснулся дикий инстинкт самосохранения. Благодаря этой своей осторожности Мока спокойно жил в горных лесах и ущельях.\\n19.\\n\\nСколько-нибудь связные воспоминания начинаются у меня лишь с того времени, когда мне было лет пять и когда мы жили в Калуге. Нас было тогда трое детей: сестра моя. Анюта была лет на шесть старше меня, а брат Федя, года на три моложе.\\n\\nДетская наша так и рисуется перед моими глазами. Большая, но низкая комната. Стоит няне стать на стул, и она свободно достает рукою до потолка. Мы все трое спим в детской; были толки о том, чтобы перевести Анюту спать в комнату, ее гувернантки, француженки, но она не захотела и предпочла остаться с нами.\\n\\nНаши детские кроватки, огороженные решетками, стоят рядом, так что по утрам мы можем перелезать друг к другу, не спуская ног на пол. Несколько поодаль стоит большая нянина кровать, над которой высится целая гора перин и пуховиков. Это нянина гордость. Иногда днем, когда няня, в добром расположении духа, она позволяет нам поваляться на своей постели. Мы взбираемся на нее при помощи стула, но лишь только взберемся мы на самый верх гора, эта тотчас под нами проваливается, и мы погружаемся в мягкое море пуха. Это нас очень забавляет.\\n\\nСтоит мне подумать о нашей детской, как тотчас же, по неизбежной ассоциации идей, мне начинает чудиться особенный запах, – смесь ладана, деревянного масла, майского бальзама и чада от сальной свечи. Давно уже не приходилось мне слышать нигде этого своеобразного запаха. Да, я думаю, не только за границей, но и в Петербурге, и в Москве его теперь редко, где услышишь; но года два тому назад, посетив одних моих деревенских знакомых, я зашла в их детскую, и на меня пахнул этот знакомый мне запах и вызвал целую вереницу давно забытых воспоминаний и ощущений.\\n\\nГувернантка-француженка не может войти в нашу детскую, без того, чтобы не поднести брезгливо платка к носу.\\n\\n(По. С. Ковалевской.)\\n20.\\n\\nСтертые каменные ступени, скользкие от мелкого осеннего дождя, вели вниз в стиснутые высокими скалами ущелья. Одна из ближних к лестнице, скал, округлая и тяжелая, напоминала силуэт доисторического животного. Складчатая спина чудовища покрыта, как шерстью, пучками увядшей травы. Только что пребывали мы в цивилизованном мире высотных зданий, автобусов и троллейбусов, переполненных спешащими людьми, мощеных и асфальтированных улиц, и площадей в мире гигантских сооружений и нескончаемых реклам. Но стоило перебраться через большой неподвижный водоем, как мы нежданно-негаданно очутились в царстве неживой природы. Как ни странно, эта жизнь казалась реальной, а та, отделенная, тонкой сеткой дождя, сквозь которую просвечивали контуры современных катакомб, представлялась наваждением. И вот мы прикасаемся к древности, искусно созданной и сохраняемой учеными-экологами.\\n\\nМы приостановились у безлюдного берега озера, любуясь открывшимся пейзажем: серебряной ниткой прорезал песчаную гряду ручей, чуть-чуть пожухлая зелень трав обвивала кусты ольшаников, создавая живописный рисунок. Облетающие березы, кустарники – все это образовывало неповторимый ландшафт. Мы стали продвигаться в глубь территории, как вдруг услышали детские голоса. Посторонившись, мы пропустили небольшой отряд ребятишек в непромокаемых курточках и вязанных из разноцветных ниток шапочках. Впереди шагал улыбчивый веснушчатый мальчуган, державший флаг. На бледно-голубом полотнище был нарисован диковинный рогатый жук-олень. Флажки поменьше, тоже с изображением насекомых, несли другие дети.\\n\\nНо вот мимо нас прошли последние следопыты, и мы расспросили руководителя, наблюдавшего издали за ребятами, о цели их путешествия. Он объяснил нам, что эти дети – юннаты, и что все члены общества, охраны, природы, приводят сюда своих подшефных школьников, чтобы с детства привить им любовь к природе, к прошлому своей страны. По прибытии в город мы не захотели идти ни в театр, ни в кино, потому что ничто другое, кроме встречи с живым чудом, не влекло нас.\\n21.\\n\\nВ доме готовились к празднику. Женька всем мешал. Он бродил по дому и путался под ногами. Особенно досаждал бабушке. Куда она ни посмотрит – везде перед ней, то белый чубчик, то белая макушка. «Ох, Женька, шел бы ты купаться.!» – сказала бабушка. И рассмеялась. Знала ведь, что он боялся воды.\\n\\nЖенька обиделся, но все же побрел на речку. Он спустился к воде и хотел по привычке намочить трусы и макушку – вроде купался и уже зачерпнул было ладошкой воду, как вспомнил бабушкин смех. Бабушка на днях подсмотрела его хитрость. Поэтому он просто плюхнулся на траву. Вот это он очень любил. Еще бы – трава прохладная, ласковая.\\n\\nЖенька лежал и блаженствовал. Солнце сверху так жарило.!.\\n\\nВдруг что-то легонько щелкнуло Женьку по лбу. Он замер. Р-раз еще р-раз.! Щелк.! Щелк.! Щелк.! Кто-то стрелял. Не больно, но все-таки обидно.\\n\\nЖенька огляделся. Никого. Кусты, трава, у речки – ничто не качнулось, не шелохнулось. И тут опять – щелк.! Щелк.!. Ну, уж это слишком.!. Мальчик хотел вскочить, как от последнего щелчка по лбу на широкий лист подорожника что-то упало. Женька присмотрелся Семечко. Круглое, блестящее, точно лаковое. Хотел взять – скользнуло семечко между пальцами и юркнуло вниз, на землю.\\n\\nЖенька растерялся – откуда оно.?. Привстал и увидел, как шагах в трех от него, на стебельке какой-то травины, покачивались маленькие плоды. Одни были похожи на журавлиные головки с длинными клювами, другие – на косматые шарики. К одной из космушек прилепилось семечко: точь-в-точь такое же, как то, что отскочило от Женькиного лба.\\n\\n«Так вот кто стрелял.!» – осенило его. Он чуть дотронулся пальцем до плодика – журавлиного носа. Плодик мгновенно взъерошился, и в разные стороны полетели блестящими точками семена. Вот это открытие.!. Женька забыл про все на свете, даже про бабушкин смех. Он ползал на коленках по лугу и искал стреляльщиков. Находил, примеривался пальцем, кричал: «Р-раз.!.» – и касался плодика. Если стреляло, вскакивал на ноги и орал: «Есть!»\\n\\nГуси, которые до сих пор неподвижно лежали на лугу, повскакивали и переполошно, загоготали, стали вперевалку шлепать по траве, пока наконец не бросились в воду. Они хлопали крыльями по воде, взбивая белую пену, во все стороны летели брызги, как те блестящие семечки. И Женька шагнул к ним. Вода оказалась прохладная и ласковая, как трава. Он замер. По-над дном юркнула стайка крошечных мальков. Из крапивной стены – берега, речки. – выглянули голубенькие незабудки.\\n\\nЖенька замахал руками, как гуси, крыльями, тоже взбил белую пену и победно взглянул на стреляльщиков.\\n\\nСреди цветов стояла бабушка. «Не двигайся!.» – приказал ей внук, вылез на берег и пополз искать стреляльщиков. Бабушка про такое не знала. Честное слово.! «Обыкновенные герани – и надо же.!» – удивилась она.\\n\\nОни сидели на лугу. Женька был совершенно счастлив. И бабушка тоже.\\n\\n23.\\n\\nПочему люди все время недовольны телевидением, этим величайшим даром цивилизации.?. Потому что это дар данайцев. В нас бунтует подавленная, не находящая реализации часть нашего живого существа. Даже в новогоднюю ночь, как невольники на галерах, мы прикованы к телеэкранам и видеомагнитофонам, неспособные сами ни петь, ни плясать, ни кричать, ни смеяться, ни играть, ни разыгрывать друг друга, – фактически не общаемся, а только смотрим, смотрим, в промежутках немного пьем и жуем, жуем, жуем…\\n\\nТелевидение – символ всей современной аудиовизуальной культуры. Гибельная суть этой новой «культуры» в том, что она лишает человека его собственного, предметного мира, унося туда, где он, существует только как фантом. И есть уже телевидеоманы, «электронные почтальоны», которые забыли о естественных потребностях живого, активного существа, чувствуя себя вполне хорошо, без них. Умерли – и довольны. Впереди – компьютерная наркомания, которую называют пока «пребыванием в виртуальной реальности».\\n\\nВ подсознание – основную творческую лабораторию человека – попадает только то, что прошло через чувства. Через чувства проходит прежде всего живое, непосредственное воздействие другого человека, природы мира, а информационное воздействие затрагивает только мышление «кору». От хоккея по телевизору остается легкий, поверхностный след, который, как след самолета, быстро рассеивается с новыми впечатлениями, смешивается с ними. Хоккей на стадионе, даже наблюдение, а тем более собственную игру помнит, все тело, весь человек. И так, любые события. По телевидению мы были везде, на всей планете, и слышали обо всем. Но что это дает.? Общее впечатление без переживания. «Мы многое из книжек узнаем, но истины передают изустно», – пел. В Высоцкий. Многие удовлетворяются жизнью, без истины – живут, как наблюдатели, «рядом с бытием». Некоторые уже и не нуждаются в переживании – роботообразные, другие, напротив, прибегают к искусственной имитации переживания – наркообразные.\\n\\n(По. В. Кутыреву.)\\n24.\\n\\nДни были невыносимо жаркие, но в небольшом дубовом лесочке стояла живительная свежесть. Упругие глянцевитые листья молодых дубков свежи, как будто их только что обмакнули в зеленый воск. Из-под пестрой трафаретной листвы папоротников глядит ярко-красная волчья ягода и опавшие желуди. Вверху блещет сухая орешина, вся золоченная светом, на темно-коричневой, торфянистой почве, в изобилии произрастают целые семьи грибов. Кругом сонное царство только стрекочут в траве, неугомонные кузнечики да тащат соломинки, смышленые, работящие муравьи. Из чащобы на опушку выскочил полинялый заяц, но, сделав прыжок, тотчас же решил пойти на попятную и бросился наутек.\\n\\nВысоко в небе плавает ворон. Вот долетает издали, как брошенная горстка гороха, грустный вороний крик. Что он высматривает оттуда.? Может быть, он устал парить в поднебесье и хочет этой студеной воды из ручья.? А вот издалека послышалось, словно пение жаворонка.\\n\\nИ вдруг слышится тяжелый грохот. Опять удар, нива заколебалась, и по ней полоснуло холодом. К черной туче, которой заслонены восток и юг книзу, мало-помалу присоединяются тучки поменьше. По верхнему краю тучи, которая, кажется, непроглядной блеснула огненная нить серебряной молнии. Вихрь свистнул, защелкал, и по бурому полю зреющей ржи заблистали причудливые светлые пятна.\\n\\nИ вдруг, тихо. Ни молний, ни ветра. Вот и недавно реявший ворон, бросившись вниз, закопошился в посеребренной листве дуба. На траву упали первые тяжелые капли, и барабанщик-дождь пустился вовсю.\\n25\\n\\nВерстах в трех от Дранкина. – Большой омут. Там когда-то была мельница. Мельница сгорела, а плотина и омут остались. По рассказам дяди Саши, жила в этом омуте, огромная, как бревно, щука с зеленым мохом на спине, от старости\\n\\nКукушкину уж очень захотелось увидеть эту щуку, ну хоть бы одним глазком.\\n\\nВ одно из июльских воскресений отправился Кукушкин к Большому омуту.\\n\\nОн шел лесной тропинкой по прохладной сыроватой земле, перескакивая через корни и валежины. Вот и плотина, заросшая ольшаником и хмелем, крапивой, кустами, малины и смородины. Кукушкин пробрался ближе к насыпи и увидел темную воду, покрытую зеленой ряской. Над самой водой нависала старая корявая ветла. Кукушкин забрался на нее, лег животом вниз, в развилку между сучьев, и стал смотреть. Было очень тихо, лишь где-то рядом ворковал вяхирь, да чуть шелестела осока.\\n\\nИ вот из осоки выплыла утка, а за ней семь маленьких желтых комочков. Они неслышно передвигались по воде, оставляя в зеленой ряске темные полосы. И вдруг утка с криком метнулась в сторону. Вода под ней взбугрилась, выставилась над водой, огромная зубастая пасть, и, как показалось Кукушкину, громко щелкнув зубами, проглотила утенка. Проглотила и скрылась.\\n\\nВсе это произошло мгновенно. Кукушкин вскрикнул, перепугавшись, не меньше утки, и с корявой ветлы шлепнулся в бездонную воду. Он не помнил, как заколотил по воде руками и ногами.\\n\\nЗахлебываясь, он все-таки добрался до берега и вылез в крапиву, дрожа от страха и холода.\\n\\nТак он научился плавать.\\n\\n(По М. Дудину.)\\n26.\\n\\nПрошлым летом мне пришлось побывать в одном заволжском селе, затерянном в дремучем, смешанном лесу, простирающемся на много километров. Село было небольшое, но какое-то веселое и оживленное, как будто праздничное.\\n\\nПри самом въезде в село нас встречает не стихающий ни днем, ни ночью, шум лесопильного завода. Здесь сложены стопками, брусья навалены, бревна желтеют, кучи, еще не улежавшихся опилок. А вокруг села ни на минуту, не умолкает разноголосый птичий шум.\\n\\nЧего только ни дает человеку этот зеленый богатырь.! За что ни возьмешься, все так или иначе, связано с лесом. Гнутую мебель, кованые сундуки, бочонки – все это делали местные жители – исконные деревообделочники. А вокруг высятся почти не освоенные пока леса. Да это и немудрено: ведь рабочих рук не хватает, хотя недавно вернулись в село демобилизованные ребята.\\n\\nСтоит вам углубиться в пустынный, казалось бы, бор, и вы сразу увидите стриженые мальчишечьи головки, услышите певучую девичью перекличку. Это грибники, ягодники. Хотя только вчера закончился, давно уже не нужный дождь, а ветки обвешаны не высыхающими, целый день каплями, весь лес наполнен народом.'"
      ]
     },
     "execution_count": 136,
     "metadata": {},
     "output_type": "execute_result"
    }
   ],
   "source": [
    "text_res[8781:]"
   ]
  },
  {
   "cell_type": "code",
   "execution_count": 112,
   "metadata": {},
   "outputs": [
    {
     "data": {
      "text/plain": [
       "'1\\nЗайчата\\n\\nЗайцы-беляки живут в теплом климате; приносят они от двух до пяти зайчат четыре-пять раз в год. В марте у зайчихи рождаются «настовички» (в это время еще лежит снег, покрытый твердой коркой – настом).\\n\\nЕсть разные мнения о родительской заботливости зайчихи. Одни ученые считают, что зайчиха – хорошая мамаша, она остается рядом с детишками, далеко от себя не отпускает их, обучает, а в случае опасности притворяется больной или раненой и отводит от зайчат хищника.\\n\\nБытует и другое мнение: зайчиха оставляет новорожденных где-нибудь под кустиком или в траве и убегает. Зайчата пока обеспечены едой: мать накормила их, и в желудке у каждого зайчонка есть запас очень жирного молока. Через какое-то время мамаша вернется и снова покормит зайчат, или покормит их другая зайчиха, пробегая мимо.\\n\\nЗайчата рождаются вполне развитыми, оформившимися, зрячими, они хорошо растут и через несколько дней начинают питаться самостоятельно.\\n2\\nБарсуки\\n\\nВесной, перед выходом из норы, барсук долго прислушивается и принюхивается – нет ли опасности? Но, выйдя из норы, скоро забывает об осторожности – шумит, сопит и топает.\\n\\nВскоре размеренная жизнь барсучихи нарушается появлением барсучат. Их бывает от двух до шести. Весят они граммов пятнадцать, а длина каждого чуть больше десяти сантиметров. Малыши требовательны и капризны: мать три-четыре дня вообще не может выйти из норы. Затем покидает ее, но очень ненадолго.\\n\\nВ ясные дни барсучиха выносит ежедневно слепых барсучат (глаза у них раскрываются лишь через пять недель после рождения) на солнышко. Примерно в двухмесячном возрасте барсучата сами уже выходят из норы и вскоре начинают совершать вместе с мамашей небольшие экскурсии. Постепенно прогулки становятся все продолжительнее, и в конце лета молодые барсуки уходят так же далеко от норы, как и взрослые.\\n\\nБарсуки – очень полезные животные. Они уничтожают в большом количестве слизней, гусениц, личинок, вредных насекомых, мышевидных грызунов.\\n\\nОхота на барсуков запрещена. Но, к сожалению, их много гибнет от рук браконьеров. И барсуков становится все меньше и меньше.\\n\\n3\\n\\nУтро застало нас близ моря. О том, что ночью бушевал девятибалльный шторм, напоминали лишь плавучие водоросли, брошенные на прибрежные кристаллические скалы. Их так много, что кажется, как будто океан нарочно постлал здесь этот зеленый ковер. У самой земли еще влажно мерцает мелкая холодная изморозь, но вверху небо уже кристально чистое. Вдруг брызнули первые лучи солнца, и миллионы бриллиантов заблистали везде: на кустах можжевельника, в зарослях камыша, растущего у ближайшей речонки, и на вспыхнувшей огнем брошенной перламутровой раковине. Кажется, здесь не ступала нога человека, но вот виден свежий след трехтонки, проехавшей по песчаному берегу, да вон чей-то полуразрушенный дощаник. Однако посмотрите: уж не след ли это медвежонка?\\n\\nНам надо поторапливаться, и поэтому мы, наскоро подкрепившись свиной тушенкой и шоколадом, отправляемся в путь. Обувь наша не высохла-таки и, вопреки заверениям, очень промокает. Все сияет после недавнего ливня: и голубые цветы цикория, и какие-то кусты с красными ягодами. Мой приятель забирается за ними в самую чащобу, несмотря на то, что кусты колются и жалятся. Посмотрите: вот птенцы широко разевают клювы. Как низко расположены гнезда! Здесь, наверное, их некому разорять.\\n\\nТак мы продолжаем продвигаться вперед, взимая эту неожиданную для нас дань с природы. Но так как наш арьергард слишком растягивается, начальник экспедиции дает приказ подравняться. И мы продолжаем идти, забыв о всех горестях и изъянах нашей экспедиции.\\n\\nНе нужно чересчур преуменьшать трудность таких походов, но я не хочу и приуменьшить то удовольствие, которое они доставляют. Мы идем через лес, окропленный мириадами капель, которые висят даже на безыглых ветвях старых елок. Как ни тяжелы наши рюкзаки, мы все впоследствии с удовольствием вспоминали наше путешествие.\\n4\\nСеверные гости\\n\\nС наступлением холодов жди северных гостей – снегирей, чечеток, свиристелей. В прошлом году свиристели заявились поздно, в январе, ягоды рябины за это время успели несколько раз замерзнуть, стать ледяными и снова оттаять. Многие уже чернели. А они все не прилетали: рябины было на их пути к нам полным-полно. И в наших краях они гостили долго, пока не кончилась вся рябина.\\n\\nА в прошлом году пожаловали в ноябре. Полетали, полетали красавцы по нашим заснеженным улицам, посмотрели на голые рябинки – пусто: рябина не уродилась. И не только в наших краях. А то бы и не заявились они так рано.\\n\\nЯ увидел свиристелей на улице утром, а под вечер, в метель, нечаянно спугнул их уже в поле. Они приютились с подветренной стороны у копешки овсяной соломы, упавшей у кого-то с санок. А на другой день их уже и след простыл, улетели дальше.\\n\\nА вот чечетки остались. Между сосновыми рощами березки вразбежку. А ниже, до самого ручья, по всему косогору только снег да сухие кустики полыни, пижмы, цикория. Ветер обжигающе колюч. Я хотел побыстрее переехать это место. А тут вдруг невдалеке опускается большая стая чечеток, сотни две, не меньше. Видно, только что с дороги, даже не успели еще разбиться на стайки. Я остановился, наблюдаю, что будет дальше. А они то сядут с одной стороны, то легко вспорхнут, чтобы опуститься с другой. И до чего же они малы: меньше даже пеночек и зарянок. А еще чутки. Стоит мне прошуршать листком блокнота, переворачивая его, как они поднимаются. А вскоре опять опускаются на кустики цикория то грудно, то кучками по всему косогору, хоть иди и собирай. А то сядут на березки, что рядом, махонькие северные воробушки, разукрасят их и заголосят суетливо и громко: че-чет, че-чет. Но не засидишься на заиндевелых ветках, и они вспархивают и снова садятся на былинки, оставляя на снегу сухую шелуху. Только мелькают темно-красные пятнышки на темечке да малиновые грудки у самцов. Смотрю на них и гадаю, откуда они заявились: из холодной тундры, с Новой Земли или от Белого моря? Кто их знает, не говорят. Но ясно одно: путь их далек, ведь постоянное жительство у них – северное редколесье, тундра, побережье Ледовитого океана.\\n\\nА они и забыли свою дальнюю дорогу, знай, перепархивают по кусточкам цикория да громко сплетничают. Когда они улетели, поинтересовался, чем они кормятся. Сорвал три кустика цикория, растер на ладони колоски-мочки. Почти все пустые, только и нашел два тощеньких желтых семечка.\\n\\nТяжелая им покажется зима. Как далеко до мартовских дней, когда они перед отлетом в родные края будут весело раскачиваться на длинных березовых косах, подкрепляясь молодыми почками.\\n\\nА сейчас очень трудно чечеткам. Потому их, голодных, легко обмануть, заманить в клетку, чтобы поймать, а потом продать. А они-то летели к нам в такую даль не за тем, чтобы стать невольницами. Не будем же забывать об этом, пожалеем этих махоньких северных красавиц.\\n5\\n\\nНад землей стоял туман. На проводах высокого напряжения, тянувшихся вдоль шоссе, отсвечивали отблески автомобильных фар.\\n\\nДождя не было, но земля на рассвете стала влажной и, когда вспыхнул запретительный светофор, на мокром асфальте появилось красноватое расплывчатое пятно. Дыхание лагеря чувствовалось за много километров, к нему тянулись, все сгущаясь, провода, шоссейные и железные дороги. Это было пространство, заполненное прямыми линиями, пространство прямоугольников и параллелограммов, рассекавших землю, осеннее небо, туман.\\n\\nПротяжно и негромко завыли далекие сирены.\\n\\nШоссе прижалось к железной дороге, и колонна автомашин, груженных бумажными пакетами с цементом, шла некоторое время почти на одной скорости с бесконечно длинным товарным эшелоном. Шоферы в военных шинелях не оглядывались на идущие рядом вагоны, на бледные пятна человеческих лиц.\\n\\nИз тумана вышла лагерная ограда – ряды проволоки, натянутые между железобетонными столбами. Бараки тянулись, образуя широкие, прямые улицы. В их однообразии выражалась бесчеловечность огромного лагеря.\\n\\nВ большом миллионе русских деревенских изб нет и не может быть двух неразличимо схожих. Все живое неповторимо. Немыслимо тождество двух людей, двух кустов шиповника… Жизнь грохочет там, где насилие стремится стереть ее своеобразие и особенности.\\n\\nВнимательный и небрежный глаз седого машиниста следил за мельканием бетонных столбиков, высоких мачт с вращающимися прожекторами, бетонированных башен, где в стеклянном фонаре виднелся охранник у пулемета. Машинист мигнул помощнику, паровоз дал предупредительный сигнал. Мелькнула освещенная электричеством будка, очередь машин у опущенного полосатого шлагбаума, бычий красный глаз светофора.\\n\\n(По В. Гроссману)\\n6\\nРябиновый дол\\n\\nЗатерялся в перелесках рябиновый дол. Рассказывают, что давным-давно здесь, в этом долу, молнией убило убогого странника. А богдановский пастух возьми и посади на том месте две рябинки на память. А теперь вон их сколько, не сосчитаешь: весь дол в них, по обоим склонам. Рябинки одна на другую не похожие, и ягоды тоже: то они розовые, то алые, то темно-красные.\\n\\nЯ люблю заходить сюда в августе, когда наливается рябина, исподволь краснеют ее ягоды и свешиваются тяжелыми кистями. В сентябре залюбуешься резными листьями, багряными и красными от алых зорь и рябинового огня. А в октябре, когда кругом стоят голые деревья, этот дол еще долго радует глаз. Издали кажется, что алые кисти висят не на тонких ветвях, а прямо в воздухе.\\n\\nЭтот дол хорош и зимой, даже еще лучше на белом поле. Потому и склоны его такие нарядные и праздничные, что рябит в глазах от красного и белого, рябинового и снежного. И не поймешь, чего тут больше. Дол в конце делает полукруг, делают полукруг и рябинки. Вот и кажется, что эту снежную долину украсил щедрый волшебник рубиновым ожерельем. А это ожерелье то покроется снегом, то опять останется голым, озябшим, постукивая на ветру замороженными ягодами.\\n\\nКогда же падает сырой снег, он покрывает сверху рябиновые кисти. Снег затвердеет, зачерствеет, так что и в ветер не опадает, а качается вместе с кистями: ни дать ни взять маленькие перевернутые парашютики зацепились за ветки. Если же оттепель, гроздья плачут, умываясь слезами. В мороз – обледенеют, покроются тонкой ледяной кожицей. Срываю, кладу в рот маленькие красные ледяшки. Они тают, становятся вкусными, прохладными ягодами. Никакой горьковатости: ее отняли первые морозы.\\n\\nХороши они и в бахроме инея: каждая ягодка в крохотном серебряном венце. А однажды я видел чудо: с утра падал сухой снежок, его кристаллики обсыпали все кисти рябины, и они заиграли на солнце волшебными огоньками.\\n\\nЗатерялся в перелесках рябиновый дол. А все равно его отыскали свиристели. Они прилетели в субботу и все воскресенье тешились здесь шумно, суетливо, радостно. Даже сороки наведались сюда из садов, уселись в сторонке, завидуя чужому пиршеству. А свиристелей так много, что, когда поднялись, все небо было в этих северных красивых птицах, что звали на Руси красавами.\\n\\nДождался-таки своего часа рябиновый дол. Не зря хранил свою красоту и богатство.\\n7\\n\\nВ конце апреля, в еще голом, сквозном лесу, на возвышенных прогретых местах сквозь жесткую кожистую подстилку пробивается сон-трава. На нежных, опушенных стеблях, как бы еще не окрепших от перворождения, поникше дремлют крупные сине-фиолетовые цветы. Об эту пору растеньице еще без единого листочка: просто стебель и на нем – цветок. Сон-трава так и зимовала под снегом, под опавшими древесными листьями с уже готовым бутоном, с тем чтобы, пока вокруг еще нет ни одной травинки, первой пробиться к солнцу, поскорее развернуть бутон и понежиться, подремать в ласковых вешних лучах. Ничего подобного этой яркой, праздничной сини нет во всем пока еще не прибранном, буро-жухлом лесу, и потому так радостно изумишься, когда еще издали, за много шагов, увидишь это диво весны.\\n\\nРвать цветок нельзя. Он и сам по себе трепетно-нежный, неприкасаемый и даже под бодрящим апрельским солнцем не в силах приподнять дремотно опущенной головы. Если же его сорвать, то он тут же безвольно поникнет и уснет навсегда… Оттого и назван так: сон-трава.\\n\\nНо вот все-таки рвут многочисленные посетители вешнего леса! Рвут и вскоре бросают. Бросают из-за этой нежной неприкасаемости растения, а стало быть, из-за его бесполезности и ненужности. Бывает, в воскресный день все лесные тропки, ведущие к электричке, усыпаны завядшими и растоптанными цветами.\\n\\n(По Е. Носову)\\n8\\nОрешниковые сони\\n\\nМы с другом очищали скворечники у нас в саду от старой подстилки, которую натаскали в гнезда скворцы. И вдруг из одного из них выскочила рыжая мышка.\\n\\nОна хотела спрятаться в густой траве, но мы ее поймали. Хорошо рассмотрели и обнаружили, что это не мышь, а соня. Мы поняли, это – кормящая мать и, значит, там, в скворечнике, ее малыши. Так и оказалось. Их было шестеро маленьких, голых, слепых.\\n\\nРешили перенести домой все семейство. А чтобы зверьки чувствовали запах родного дома, взяли из скворечника и старую подстилку. Всех поместили в террариум. Мама-соня сначала зарылась в сухую траву, но вскоре вылезла, обнаружила своих малышей и начала облизывать их, устраивать поудобнее. Мы положили соне кусочки яблока, сухарики. Утром обнаружили, что яблоко съедено, а сухарики не тронуты.\\n\\nЧерез две недели маленькие сони стали выходить из гнезда. Они обнюхивали все вокруг, обживались. А вскоре стали брать корм прямо из рук.\\n\\n10\\nМой питомец\\n\\nКак-то весной принес я домой икру, которую нашел в луже, и поместил ее в банку с водой. Уже через несколько дней икринки заметно изменились – в каждой стремительно развивался зародыш. Условия для выклева личинок были благоприятные, и я стал свидетелем этого таинства. Темные существа были похожи на мальков рыб. Первое время они почти не шевелились, сидя на водорослях.\\n\\nСпокойствие, однако, было обманчиво – чуть позже в сосудах закипела бурная жизнь.\\n\\nПримерно на пятой-шестой неделе после выклева у головастиков начали расти задние лапки. Передние же развивались незаметно, под жабрами. На последней личиночной стадии развития головастики как бы вытянули свои маленькие передние лапки. Хвосты у них постепенно укорачивались, и отталкивались они все чаще задними лапками. В это время они стали похожи на лягушат, а вернее, на жабят, как позже оказалось.\\n\\nСо времени выклева прошло около шестидесяти дней. Я поместил их в бассейн акватеррариума, где обитали тритоны, и ждал момента выхода на сушу своих «малышей». И дождался – существа выбрались на влажный песчаный бережок. Передвигались они маленькими прыжками, не забывая навещать родную стихию – воду.\\n\\nМои питомцы очень долгое время отказывались от предлагаемой пищи. Двое из них погибли от голода, хотя вокруг было много шевелящихся червячков. Я уже отчаялся, когда последний оставшийся в живых вдруг стал обращать внимание на трубочника, а затем и есть его. Вскоре мой любимец начал хватать с пинцета кусочки мяса. Он стал заметно расти, что очень радовало меня. Я переживал, опасаясь, что его проглотят тритоны: мой питомец был так мал. Однако вскоре он стал очень шустрым и даже отбирал у соседей корм.\\n\\nЧерез несколько месяцев жабенок хватал уже все без разбору, будь то червяк или тритон. Он стал опасен для жителей акватеррариума. Пришлось оборудовать ему отдельное помещение. К этому времени он уже стал довольно большим и красивым – на серо-салатовом фоне спинки темно-зеленые пятна различных размеров, окаймленные черными полосами. Брюшко более светлое – на серо-белом фоне салатовые пятна. А какие великолепные изумрудные глаза! Конечно же, это – зеленая жаба.\\n11\\n\\nВ тайге темнеет быстро. И несмотря на то что мы это знали, все-таки темнота застала нас врасплох. Раздвигая тяжелые колючие ветви и нащупывая ногой следующую кочку, мы мало-помалу продвигались вперед. Было совершенно темно, но, как ни странно, от прожорливых комаров и мошек, летавших вперемешку вокруг нас, спасения не было так же, как и днем.\\n\\nЦелый день мы шли вниз по течению реки, но река исчезла в темноте где-то слева, и нам приходилось идти наугад. К счастью, до ближайшей охотничьей избушки, в которой мы рассчитывали устроить ночевку, оставалось, по-видимому, совсем недалеко. И действительно, когда мы поодиночке перешли по узкой жердочке, брошенной через топкий лесной ручей, и поднялись в гору, мы оказались перед избушкой.\\n\\nНе теряя ни минуты и в душе радуясь, что расчет наш оправдался и мы в пору добрались до места, мы без устали рубили хвою, пилили ножовкой небольшие ветки и клали их крест-накрест. Вот и готова наша пахучая, но не очень мягкая постель! Товарищ мой уже не смотрит исподлобья и даже начинает читать стихи, которые учил когда-то на память, сначала шепотом, а потом и в голос, вовсе не подозревая, как он смешон в эту минуту.\\n\\nС тихим шорохом ветер раскачивает вершины старых кедров, как будто предвещая на завтра дождь, и где-то вдали кричит какая-то ночная птица.\\n12\\n\\nНа дворе май, а уже порыжела сирень. Нет дождей второй месяц. Еще не беда для огородов, но предчувствие ее томится в сухом, духмяном от сомлевших трав воздухе.\\n\\nТоропится добрать стройматериалы для своего жилища оса, грызет дощатую обшивку веранды – только шорох стоит. Торопится накормить своих птенцов воробей: то и дело снует за стреху и обратно. Торопится отцвести декоративная жимолость: над ее бело-розовой, одуряюще запашистой кипенью неутомимо снуют пчелы.\\n\\nЛишь новорожденной бледно-зеленой гусенице, как видно, некуда спешить средь суеты майского утра. Она зависла над веткой березы. Огляделась, выпустила из себя паутинку, скользнула вниз и снова зависла в жарком токе воздуха, покачиваясь, как на качелях.\\n\\nКаким ей видится этот мир? Неоглядным торжеством зелени под выгоревшим и потускневшим от обилия солнца небом? Черно-белым росчерком берез? Или той вон, похожей на сытую гусеницу сережкой, что вздрагивает рядом, застив весь свет?\\n\\nМне тоже застят весь свет эти березы, что вымахали у крыльца намного выше крыши. И солнечные лучи просеиваются сквозь них лишь зыбким кружевом бликов. И река угадывается едва сквозь трепет клейкой листвы. Но шелест ее для меня – как задушевные речи старого друга.\\n13\\nДожди\\n\\nНеблагоприятная для отдыха погода установилась надолго. Неприветливое небо непрестанно хмурилось. Не прекращаясь ни на час ни днем ни ночью, шли дожди. К сырой погоде я был не подготовлен, так как не захватил с собой на дачу ни плаща, ни непромокаемой обуви, ни даже какой-нибудь незатейливой одежонки, которую не жалко было бы трепать в непогоду. А почва у нас повсюду глинистая, вязкая. Даже после небольшого дождя грязь вокруг непролазная. Сколько ни оглядывал я низко нависшие пепельно-серые облака, но не мог рассмотреть даже ни малейшего проблеска. Незаметно было никакого намека на просветление. Как ни досадно терять драгоценное время летнего отпуска, но, как говорится, ничего не попишешь. И хотя я внешне примирился с тем, что придется отсиживаться дома, однако в душе не мог не надеяться на лучшее. Ведь человек всегда живет светлой надеждой, и это неплохо. Что ни говори, а люди неунывающие – это лучшая часть рода человеческого. Итак, не смея рассчитывать на прекращение дождей, я расположился у окна с недурными намерениями просмотреть не прочитанные за последние дни газеты, ответить на два-три письма.\\n14\\nБелочка-партизан\\n\\nЛес старый, деревья высокие, верхушки раскачиваются и шумят. Партизаны разожгли костер. Дым столбом поднялся вверх. И вдруг чуть ли не в огонь упал с высокой сосны какой-то комок. Ребята, сидевшие у костра, схватили его. Это был маленький бельчонок. Он весь дрожал от страха и даже не пытался вырваться. Решили оставить его в отряде, а воспитывать поручили мне, поскольку я год проработала учительницей в третьем классе.\\n\\nИтак, эта белочка – «подарок с неба», как мы ее окрестили, стала служить с нами, ездила на повозке, где находились продовольствие и рации.\\n\\nОна очень любила тепло, подолгу спала в рукавице, сшитой специально для нее. Спала она крепко, свернувшись в клубок, и очень смешно прикрывала мордочку пушистым хвостиком, словно одеялом. А проснувшись, зверек любил забираться к кому-нибудь в карман или под шинель. Ел бельчонок варенье, сырые яйца, сало, сухари, консервы и, конечно, ягоды, особенно любил землянику. Не знаю, как он относился к сахару, этого лакомства у нас не было.\\n\\nТак и ездил с нами бельчонок, участвуя в боевых рейдах и переходах по тылам врага. Когда была спокойная обстановка, я и моя подруга Нина, тоже радистка, отпускали зверька погулять и поиграть. Белочка очень ловко бегала по стволам деревьев, брала с рук угощенье, но давалась не всем, знала только нас и ездового Андрея.\\n\\nИнтересно было смотреть, как она бегает по туловищу коня, быстрыми прыжками несется по спине, по ногам. Лошади вначале вели себя беспокойно, кожа на их теле вздрагивала. А потом они привыкли и спокойно относились к «белочкиным путешествиям».\\n\\nА однажды зверек забрался на высокое дерево. Неожиданно появилась какая-то крупная птица, стала нападать на бельчонка. Налетели сойки, раскричались на весь лес. Пришлось отгонять птицу выстрелом из пистолета. Она улетела, а белочка мгновенно спустилась к нам в руки. Сердечко ее билось часто-часто. Она юркнула в рукавицу и долго не вылезала оттуда.\\n\\nПрожила белочка с нами до лета. И один раз случилось непредвиденное… Выпустили мы ее, как всегда, погулять, а тут приказ: срочно покинуть это место. Начался обстрел. У нас не было времени долго искать белочку, еле успели свернуть радиостанцию. Звали ее, звали, но она не появлялась. Так и осталась в том лесу у речки…\\n\\nДолго вспоминали ее партизаны и думали-гадали: найдет ли она себе корм, сумеет ли прожить, постоять за себя? Кто знает… Да, и на войне не переставали люди, посуровевшие в тяжелых испытаниях, оставаться людьми, готовыми уберечь от гибели все живое. Неистребима тяга человека к доброте и заботе…\\n15\\nМать рек русских\\n\\nМатерью рек русских издавна называли люди Волгу. Из-под сруба старинной часовенки, близ деревеньки Волгино-Верховье, вытекает неприметный ручеек, через который перекинут бревенчатый мостик.\\n\\nПроделав путь в три тысячи шестьсот восемьдесят восемь километров, Волга приходит к Каспийскому морю.\\n\\nКакие только суда не встречаются на Волге!\\n\\nТяжело проплывает огромная нефтеналивная баржа, заменяющая собой много железнодорожных цистерн. Вслед за ней тянутся не спеша широкие баркасы с невысокими бортами, доверху нагруженные камышинскими арбузами. Взгляните издали с берега – точь-в-точь огромное блюдо с плодами плывет по реке. А навстречу движется длинная улица, мощеная бревнами. Как полагается, на улице выровнялись, будто по линейке, игрушечные домики. Перед домиком догорает костер, кипит чай в закопченном котелке, колышется на бечевках вывешенное белье – и все это хозяйство медленно движется вниз по реке.\\n\\nНе поодиночке, а караваном тянутся огромные плоты, насчитывающие по пятидесяти тысяч бревен. Провести такую громадину по своенравным поворотам в течении реки – большое искусство.\\n\\nНа залитой июньским солнцем палубе с комфортом расположились в камышовых креслах пассажиры трехэтажного теплохода, точно серебряного от солнца. Неслышно рассекает он зеленовато-серые волны реки. По сравнению с этим плавучим дворцом неказистым кажется труженик-буксир, толкающий впереди себя или ведущий за собою тяжело груженные баржи.\\n\\nБегут скоростные поезда, несутся автомобили по трассам нашей необъятной страны, но Волга по-прежнему величайшая магистраль нашей Родины.\\n16\\nКукушечья хитрость\\n\\nНеподалеку от нашего промыслового стана лопотала листвою тополиная лесополоса, вдоль которой торчали невысокие бетонные столбики проволочной ограды. И вот мы стали замечать, как на эти столбики изредка присаживалась поющая кукушка. Посидит, попоет на одном, перелетит на другой, третий, и так далее, пока не кончится коротенькая лесополоса. Что она, столбики считает, что ли?\\n\\n17\\n\\nЗаря разгоралась. Лучи солнца коснулись верхушек деревьев, позолотили блестящую поверхность озера и проникли в спальню к ребятишкам. Высоко над домом развевается и горит ярким пламенем красный флаг. Скоро подъем. По звуку горна юные спортсмены быстро поднимаются и, застелив аккуратно постели, выбегают на зарядку. В комнате остаются ребятишки младшего возраста. Они не умеют еще самостоятельно застилать свои постельки и делают это под наблюдением вожатой Люси.\\n\\nНа спортивной площадке, построившись по росту в ряд по трое и подравнявшись, ребята застывают по команде «смирно!». Через минуту в воздухе мелькают загорелые руки, и стриженные наголо ребятишки наклоняются, касаясь земли кончиками пальцев. После зарядки они врассыпную бегут к озеру, оглашая его берега звонким смехом.\\n\\nМалыши, не умеющие плавать, плещутся у берега. Несколько ребят во главе с Юрой, знаменитым лагерным пловцом, направились к плавучему мостику, но, услышав сердитый голос вожатой Люси, поспешили обратно.\\n\\nПосле купанья хорошо растереться мохнатым полотенцем. Ежедневная зарядка и обтирание холодной водой укрепляют и закаляют здоровье. А какой аппетит развивается после купанья! Все кажется необычайно вкусным. Ребята с удовлетворением уплетают оладьи, макая их в сметану.\\n18\\n\\nМока жил в горах Северного Кавказа. Осенью, когда созревали желуди, груши, другие дикие плоды и ягоды, он спускался в леса, даже выходил в предгорья, а лето и весну проводил, забираясь высоко в горы. Его мать, бурая медведица, погибла, когда он был еще совсем маленьким. Голодного и испуганного, забившегося в густые заросли облепихи, его нашли люди, отогнали своих свирепых собак и принесли медвежонка в деревню. Там, на окраине горного селения, он прожил почти год: лето, осень и зиму. На ночь его запирали в сарае, а день он проводил на дворе, огороженном высоким и сплошным каменным забором.\\n\\nКогда он подрос и окреп, его стали недокармливать. Неумышленно. Просто ему надо было много пищи, а одинокий старик, его хозяин, не всегда мог его накормить. Мока ел все: хлеб, сухари, мясо, кости, картошку, любые овощи – сырые и вареные, даже траву. И все равно всегда был полуголодным.\\n\\nИногда к Моке приходили двое ребятишек. Поиграть с ним. Медвежонок радовался таким посещениям. Но этой весной, когда в апреле и мае все вокруг цвело и зеленело, мальчики приходили всего один раз. Принесли Моке две сладкие булочки, потрепали его по мохнатой коричневой гриве, погладили лоб и щеки – Мока в это время довольно урчал, – потом ушли. Он снова остался один до вечера, пока не пришел старик-хозяин. Человек немного покормил его, сказал ласковые слова.\\n\\nОднажды ребятишки пришли снова. С ними был третий. Медвежонок съел гостинцы, предложенные ему двумя знакомыми мальчиками, потянулся к третьему. А тот вместо сладкой булочки сунул ему в нос колючую щетку. Мока укололся, взвизгнул и отпрянул, а мальчик громко и весело захохотал. И тут вдруг выяснилось, что у Моки довольно крутой нрав. Он взревел, подскочил к обидчику и ударил его лапой. Дети убежали, а медвежонок долго ходил по двору, потом нашел удобные уступы в каменной кладке забора, перебрался через него и ушел в лес.\\n\\nС тех пор прошло немало лет. Мока стал могучим крупным медведем. Правда, первую зимовку на воле он едва пережил: чуть не замерз. Но его спасла удачно, хотя и случайно выбранная пещерка, в которую он залег на свою первую зимнюю спячку.\\n\\nТеперь он был уже опытен, умен и хитер. И, хотя питался в основном растительной пищей, был не прочь и умел при удобном случае задрать оленя или тура. Людей он не встречал, сторонился их следов, запаха. В нем проснулся дикий инстинкт самосохранения. Благодаря этой своей осторожности Мока спокойно жил в горных лесах и ущельях.\\n19\\n\\nСколько-нибудь связные воспоминания начинаются у меня лишь с того времени, когда мне было лет пять и когда мы жили в Калуге. Нас было тогда трое детей: сестра моя Анюта была лет на шесть старше меня, а брат Федя года на три моложе.\\n\\nДетская наша так и рисуется перед моими глазами. Большая, но низкая комната. Стоит няне стать на стул, и она свободно достает рукою до потолка. Мы все трое спим в детской; были толки о том, чтобы перевести Анюту спать в комнату ее гувернантки, француженки, но она не захотела и предпочла остаться с нами.\\n\\nНаши детские кроватки, огороженные решетками, стоят рядом, так что по утрам мы можем перелезать друг к другу, не спуская ног на пол. Несколько поодаль стоит большая нянина кровать, над которой высится целая гора перин и пуховиков. Это нянина гордость. Иногда днем, когда няня в добром расположении духа, она позволяет нам поваляться на своей постели. Мы взбираемся на нее при помощи стула, но лишь только взберемся мы на самый верх, гора эта тотчас под нами проваливается, и мы погружаемся в мягкое море пуха. Это нас очень забавляет.\\n\\nСтоит мне подумать о нашей детской, как тотчас же, по неизбежной ассоциации идей, мне начинает чудиться особенный запах – смесь ладана, деревянного масла, майского бальзама и чада от сальной свечи. Давно уже не приходилось мне слышать нигде этого своеобразного запаха. Да я думаю, не только за границей, но и в Петербурге, и в Москве его теперь редко где услышишь; но года два тому назад, посетив одних моих деревенских знакомых, я зашла в их детскую, и на меня пахнул этот знакомый мне запах и вызвал целую вереницу давно забытых воспоминаний и ощущений.\\n\\nГувернантка-француженка не может войти в нашу детскую без того, чтобы не поднести брезгливо платка к носу.\\n\\n(По С. Ковалевской)\\n20\\n\\nСтертые каменные ступени, скользкие от мелкого осеннего дождя, вели вниз, в стиснутые высокими скалами ущелья. Одна из ближних к лестнице скал, округлая и тяжелая, напоминала силуэт доисторического животного. Складчатая спина чудовища покрыта, как шерстью, пучками увядшей травы. Только что пребывали мы в цивилизованном мире высотных зданий, автобусов и троллейбусов, переполненных спешащими людьми, мощеных и асфальтированных улиц и площадей, в мире гигантских сооружений и нескончаемых реклам. Но стоило перебраться через большой неподвижный водоем, как мы нежданно-негаданно очутились в царстве неживой природы. Как ни странно, эта жизнь казалась реальной, а та, отделенная тонкой сеткой дождя, сквозь которую просвечивали контуры современных катакомб, представлялась наваждением. И вот мы прикасаемся к древности, искусно созданной и сохраняемой учеными-экологами.\\n\\nМы приостановились у безлюдного берега озера, любуясь открывшимся пейзажем: серебряной ниткой прорезал песчаную гряду ручей, чуть-чуть пожухлая зелень трав обвивала кусты ольшаников, создавая живописный рисунок. Облетающие березы, кустарники – все это образовывало неповторимый ландшафт. Мы стали продвигаться в глубь территории, как вдруг услышали детские голоса. Посторонившись, мы пропустили небольшой отряд ребятишек в непромокаемых курточках и вязанных из разноцветных ниток шапочках. Впереди шагал улыбчивый веснушчатый мальчуган, державший флаг. На бледно-голубом полотнище был нарисован диковинный рогатый жук-олень. Флажки поменьше, тоже с изображением насекомых, несли другие дети.\\n\\nНо вот мимо нас прошли последние следопыты, и мы расспросили руководителя, наблюдавшего издали за ребятами, о цели их путешествия. Он объяснил нам, что эти дети – юннаты и что все члены общества охраны природы приводят сюда своих подшефных школьников, чтобы с детства привить им любовь к природе, к прошлому своей страны. По прибытии в город мы не захотели идти ни в театр, ни в кино, потому что ничто другое, кроме встречи с живым чудом, не влекло нас.\\n21\\n\\nВ доме готовились к празднику, Женька всем мешал. Он бродил по дому и путался под ногами. Особенно досаждал бабушке. Куда она ни посмотрит – везде перед ней то белый чубчик, то белая макушка. «Ох, Женька, шел бы ты купаться!» – сказала бабушка. И рассмеялась. Знала ведь, что он боялся воды.\\n\\nЖенька обиделся, но все же побрел на речку. Он спустился к воде и хотел по привычке намочить трусы и макушку – вроде купался, и уже зачерпнул было ладошкой воду, как вспомнил бабушкин смех. Бабушка на днях подсмотрела его хитрость. Поэтому он просто плюхнулся на траву. Вот это он очень любил. Еще бы – трава прохладная, ласковая.\\n\\nЖенька лежал и блаженствовал. Солнце сверху так жарило!\\n\\nВдруг что-то легонько щелкнуло Женьку по лбу. Он замер. Р-раз, еще р-раз! Щелк! Щелк! Щелк! Кто-то стрелял. Не больно, но все-таки обидно.\\n\\nЖенька огляделся. Никого. Кусты, трава у речки – ничто не качнулось, не шелохнулось. И тут опять – щелк! Щелк! Ну уж это слишком! Мальчик хотел вскочить, как от последнего щелчка по лбу на широкий лист подорожника что-то упало. Женька присмотрелся. Семечко. Круглое, блестящее, точно лаковое. Хотел взять – скользнуло семечко между пальцами и юркнуло вниз, на землю.\\n\\nЖенька растерялся – откуда оно? Привстал и увидел, как шагах в трех от него на стебельке какой-то травины покачивались маленькие плоды. Одни были похожи на журавлиные головки с длинными клювами, другие – на косматые шарики. К одной из космушек прилепилось семечко: точь-в-точь такое же, как то, что отскочило от Женькиного лба.\\n\\n«Так вот кто стрелял!» – осенило его. Он чуть дотронулся пальцем до плодика – журавлиного носа. Плодик мгновенно взъерошился, и в разные стороны полетели блестящими точками семена. Вот это открытие! Женька забыл про все на свете, даже про бабушкин смех. Он ползал на коленках по лугу и искал стреляльщиков. Находил, примеривался пальцем, кричал: «Р-раз!» – и касался плодика. Если стреляло, вскакивал на ноги и орал: «Есть!»\\n\\nГуси, которые до сих пор неподвижно лежали на лугу, повскакивали и переполошно загоготали, стали вперевалку шлепать по траве, пока, наконец, не бросились в воду. Они хлопали крыльями по воде, взбивая белую пену, во все стороны летели брызги, как те блестящие семечки. И Женька шагнул к ним. Вода оказалась прохладная и ласковая, как трава. Он замер. По-над дном юркнула стайка крошечных мальков. Из крапивной стены – берега речки – выглянули голубенькие незабудки.\\n\\nЖенька замахал руками, как гуси крыльями, тоже взбил белую пену и победно взглянул на стреляльщиков.\\n\\nСреди цветов стояла бабушка. «Не двигайся!» – приказал ей внук, вылез на берег и пополз искать стреляльщиков. Бабушка про такое не знала. Честное слово! «Обыкновенные герани – и надо же!» – удивилась она.\\n\\nОни сидели на лугу. Женька был совершенно счастлив. И бабушка тоже.\\n\\n23\\n\\nПочему люди все время недовольны телевидением, этим величайшим даром цивилизации? Потому что это дар данайцев. В нас бунтует подавленная, не находящая реализации часть нашего живого существа. Даже в новогоднюю ночь, как невольники на галерах, мы прикованы к телеэкранам и видеомагнитофонам, неспособные сами ни петь, ни плясать, ни кричать, ни смеяться, ни играть, ни разыгрывать друг друга, – фактически не общаемся, а только смотрим, смотрим, в промежутках немного пьем и жуем, жуем, жуем…\\n\\nТелевидение – символ всей современной аудиовизуальной культуры. Гибельная суть этой новой «культуры» в том, что она лишает человека его собственного предметного мира, унося туда, где он существует только как фантом. И есть уже телевидеоманы, «электронные почтальоны», которые забыли о естественных потребностях живого активного существа, чувствуя себя вполне хорошо без них. Умерли – и довольны. Впереди – компьютерная наркомания, которую называют пока «пребыванием в виртуальной реальности».\\n\\nВ подсознание – основную творческую лабораторию человека – попадает только то, что прошло через чувства. Через чувства проходит прежде всего живое, непосредственное воздействие другого человека, природы, мира, а информационное воздействие затрагивает только мышление, «кору». От хоккея по телевизору остается легкий поверхностный след, который, как след самолета, быстро рассеивается с новыми впечатлениями, смешивается с ними. Хоккей на стадионе, даже наблюдение, а тем более собственную игру, помнит все тело, весь человек. И так любые события. По телевидению мы были везде, на всей планете, и слышали обо всем. Но что это дает? Общее впечатление без переживания. «Мы многое из книжек узнаем, но истины передают изустно», – пел В. Высоцкий. Многие удовлетворяются жизнью без истины – живут как наблюдатели, «рядом с бытием». Некоторые уже и не нуждаются в переживании – роботообразные, другие, напротив, прибегают к искусственной имитации переживания – наркообразные.\\n\\n(По В. Кутыреву)\\n24\\n\\nДни были невыносимо жаркие, но в небольшом дубовом лесочке стояла живительная свежесть. Упругие глянцевитые листья молодых дубков свежи, как будто их только что обмакнули в зеленый воск. Из-под пестрой трафаретной листвы папоротников глядит ярко-красная волчья ягода и опавшие желуди. Вверху блещет сухая орешина, вся золоченная светом, на темно-коричневой торфянистой почве в изобилии произрастают целые семьи грибов. Кругом сонное царство, только стрекочут в траве неугомонные кузнечики да тащат соломинки смышленые работящие муравьи. Из чащобы на опушку выскочил полинялый заяц, но, сделав прыжок, тотчас же решил пойти на попятную и бросился наутек.\\n\\nВысоко в небе плавает ворон. Вот долетает издали, как брошенная горстка гороха, грустный вороний крик. Что он высматривает оттуда? Может быть, он устал парить в поднебесье и хочет этой студеной воды из ручья? А вот издалека послышалось словно пение жаворонка.\\n\\nИ вдруг слышится тяжелый грохот. Опять удар, нива заколебалась, и по ней полоснуло холодом. К черной туче, которой заслонены восток и юг, книзу мало-помалу присоединяются тучки поменьше. По верхнему краю тучи, которая кажется непроглядной, блеснула огненная нить серебряной молнии. Вихрь свистнул, защелкал, и по бурому полю зреющей ржи заблистали причудливые светлые пятна.\\n\\nИ вдруг тихо. Ни молний, ни ветра. Вот и недавно реявший ворон, бросившись вниз, закопошился в посеребренной листве дуба. На траву упали первые тяжелые капли, и барабанщик-дождь пустился вовсю.\\n25\\n\\nВерстах в трех от Дранкина – Большой омут. Там когда-то была мельница. Мельница сгорела, а плотина и омут остались. По рассказам дяди Саши, жила в этом омуте огромная, как бревно, щука с зеленым мохом на спине от старости.\\n\\nКукушкину уж очень захотелось увидеть эту щуку, ну хоть бы одним глазком.\\n\\nВ одно из июльских воскресений отправился Кукушкин к Большому омуту.\\n\\nОн шел лесной тропинкой по прохладной сыроватой земле, перескакивая через корни и валежины. Вот и плотина, заросшая ольшаником и хмелем, крапивой, кустами малины и смородины. Кукушкин пробрался ближе к насыпи и увидел темную воду, покрытую зеленой ряской. Над самой водой нависала старая корявая ветла. Кукушкин забрался на нее, лег животом вниз в развилку между сучьев и стал смотреть. Было очень тихо, лишь где-то рядом ворковал вяхирь да чуть шелестела осока.\\n\\nИ вот из осоки выплыла утка, а за ней семь маленьких желтых комочков. Они неслышно передвигались по воде, оставляя в зеленой ряске темные полосы. И вдруг утка с криком метнулась в сторону. Вода под ней взбугрилась, выставилась над водой огромная зубастая пасть и, как показалось Кукушкину, громко щелкнув зубами, проглотила утенка. Проглотила и скрылась.\\n\\nВсе это произошло мгновенно. Кукушкин вскрикнул, перепугавшись не меньше утки, и с корявой ветлы шлепнулся в бездонную воду. Он не помнил, как заколотил по воде руками и ногами.\\n\\nЗахлебываясь, он все-таки добрался до берега и вылез в крапиву, дрожа от страха и холода.\\n\\nТак он научился плавать.\\n\\n(По М. Дудину)\\n26\\n\\nПрошлым летом мне пришлось побывать в одном заволжском селе, затерянном в дремучем смешанном лесу, простирающемся на много километров. Село было небольшое, но какое-то веселое и оживленное, как будто праздничное.\\n\\nПри самом въезде в село нас встречает не стихающий ни днем ни ночью шум лесопильного завода. Здесь сложены стопками брусья, навалены бревна, желтеют кучи еще не улежавшихся опилок. А вокруг села ни на минуту не умолкает разноголосый птичий шум.\\n\\nЧего только ни дает человеку этот зеленый богатырь! За что ни возьмешься, все так или иначе связано с лесом. Гнутую мебель, кованые сундуки, бочонки – все это делали местные жители – исконные деревообделочники. А вокруг высятся почти не освоенные пока леса. Да это и немудрено: ведь рабочих рук не хватает, хотя недавно вернулись в село демобилизованные ребята.\\n\\nСтоит вам углубиться в пустынный, казалось бы, бор, и вы сразу увидите стриженые мальчишечьи головки, услышите певучую девичью перекличку. Это грибники, ягодники. Хотя только вчера закончился давно уже не нужный дождь, а ветки обвешаны не высыхающими целый день каплями, весь лес наполнен народом.'"
      ]
     },
     "execution_count": 112,
     "metadata": {},
     "output_type": "execute_result"
    }
   ],
   "source": [
    "text"
   ]
  },
  {
   "cell_type": "code",
   "execution_count": 132,
   "metadata": {},
   "outputs": [
    {
     "name": "stdout",
     "output_type": "stream",
     "text": [
      "UnchangedLine(content='Hello')\n",
      "ModifiedLine(content_before='World', mask_before=\"     \", content_after='World!', mask_after=\"     +\")\n",
      "ModifiedLine(content_before='How are you ?', mask_before=\"        --\", content_after='How are u ?', mask_after=\"          \")\n"
     ]
    }
   ],
   "source": [
    "from text_diff import text_differences\n",
    "\n",
    "text_1 = [\n",
    "    'Hello',\n",
    "    'World',\n",
    "    'How are you ?',\n",
    "]\n",
    "\n",
    "text_2 = [\n",
    "    'Hello',\n",
    "    'World!',\n",
    "    'How are u ?',\n",
    "]\n",
    "\n",
    "diff = text_differences(text_1, text_2)\n",
    "for line in diff.diff_lines:\n",
    "    print(line)"
   ]
  },
  {
   "cell_type": "code",
   "execution_count": 134,
   "metadata": {},
   "outputs": [
    {
     "name": "stdout",
     "output_type": "stream",
     "text": [
      "- ,index is different\n",
      "- .index is different\n",
      "- .index is different\n",
      "- ,index is different\n",
      "- ,index is different\n",
      "- ,index is different\n",
      "- ,index is different\n",
      "- ,index is different\n",
      "- ,index is different\n",
      "- ,index is different\n",
      "- ,index is different\n",
      "-  index is different\n",
      "- сindex is different\n",
      "- кindex is different\n",
      "- оindex is different\n",
      "- лindex is different\n",
      "- ьindex is different\n",
      "- кindex is different\n",
      "- оindex is different\n",
      "- ,index is different\n",
      "- ,index is different\n",
      "- ,index is different\n",
      "- ,index is different\n",
      "- ,index is different\n",
      "- ,index is different\n",
      "- ,index is different\n",
      "- ,index is different\n",
      "-  index is different\n",
      "- оindex is different\n",
      "- сindex is different\n",
      "- аindex is different\n",
      "- ,index is different\n",
      "- ,index is different\n",
      "- ,index is different\n",
      "- ,index is different\n",
      "- ,index is different\n",
      "- .index is different\n",
      "- .index is different\n",
      "- ,index is different\n",
      "- ,index is different\n",
      "- ,index is different\n",
      "- ,index is different\n",
      "- ,index is different\n",
      "- ,index is different\n",
      "- ,index is different\n",
      "- ,index is different\n",
      "- ,index is different\n",
      "- .index is different\n",
      "- ,index is different\n",
      "- ,index is different\n",
      "-  index is different\n",
      "- пindex is different\n",
      "- рindex is different\n",
      "- еindex is different\n",
      "- дindex is different\n",
      "- мindex is different\n",
      "- еindex is different\n",
      "- тindex is different\n",
      "- нindex is different\n",
      "- оindex is different\n",
      "- гindex is different\n",
      "- оindex is different\n",
      "-  index is different\n",
      "- мindex is different\n",
      "- иindex is different\n",
      "- рindex is different\n",
      "- аindex is different\n",
      "- уindex is different\n",
      "- нindex is different\n",
      "- оindex is different\n",
      "- сindex is different\n",
      "- яindex is different\n",
      "-  index is different\n",
      "- тindex is different\n",
      "- уindex is different\n",
      "- дindex is different\n",
      "- аindex is different\n",
      "- ,index is different\n",
      "-  index is different\n",
      "- гindex is different\n",
      "- дindex is different\n",
      "-  index is different\n",
      "- оindex is different\n",
      "- ,index is different\n",
      "- ,index is different\n",
      "- ,index is different\n",
      "- .index is different\n",
      "- ,index is different\n",
      "- ,index is different\n",
      "- ,index is different\n",
      "- .index is different\n",
      "-  index is different\n",
      "- бindex is different\n",
      "- рindex is different\n",
      "- уindex is different\n",
      "- сindex is different\n",
      "- ьindex is different\n",
      "- яindex is different\n",
      "- нindex is different\n",
      "- аindex is different\n",
      "- вindex is different\n",
      "- аindex is different\n",
      "- лindex is different\n",
      "- еindex is different\n",
      "- нindex is different\n",
      "- ыindex is different\n",
      "-  index is different\n",
      "- еindex is different\n",
      "- вindex is different\n"
     ]
    }
   ],
   "source": [
    "d = difflib.Differ()\n",
    "e = d.compare(text, text_res)        #set the compare output to a variable\n",
    "\n",
    "for i in e:\n",
    "    if i.startswith(\"-\"):         #if that char start with \"-\" is not a match\n",
    "        print(i + \"index is different\")\n"
   ]
  },
  {
   "cell_type": "code",
   "execution_count": 113,
   "metadata": {},
   "outputs": [
    {
     "data": {
      "text/plain": [
       "'1\\nЗайчата\\n\\nЗайцы-беляки живут в теплом климате; приносят они от двух до пяти зайчат, четыре-пять раз в год. В марте у зайчихи рождаются «настовички» (в это время еще лежит снег, покрытый твердой коркой – настом).\\n\\nЕсть разные мнения о родительской заботливости, зайчихи. Одни ученые считают, что зайчиха – хорошая мамаша, она остается рядом с детишками, далеко от себя не отпускает их, обучает, а в случае опасности притворяется больной или раненой и отводит от зайчат, хищника.\\n\\nБытует и другое мнение: зайчиха оставляет новорожденных где-нибудь под кустиком, или в траве, и убегает. Зайчата пока обеспечены едой: мать накормила их, и в желудке у каждого зайчонка есть запас очень жирного молока. Через какое-то время мамаша вернется и снова покормит зайчат, или покормит их другая зайчиха, пробегая мимо.\\n\\nЗайчата рождаются вполне развитыми, оформившимися зрячими, они хорошо растут и через несколько дней начинают питаться самостоятельно.\\n2\\nБарсуки.\\n\\nВесной, перед выходом из норы, барсук долго прислушивается и принюхивается – нет ли опасности.? Но, выйдя из норы, скоро забывает об осторожности, – шумит, сопит и топает.\\n\\nВскоре размеренная жизнь барсучихи нарушается, появлением барсучат. Их бывает от двух до шести. Весят они граммов пятнадцать, а длина каждого чуть больше десяти сантиметров. Малыши требовательны и капризны: мать три-четыре дня вообще не может выйти из норы. Затем покидает ее, но очень ненадолго.\\n\\nВ ясные дни барсучиха выносит ежедневно слепых барсучат (глаза у них раскрываются лишь через пять недель после рождения) на солнышко. Примерно в двухмесячном возрасте барсучата сами уже выходят из норы и вскоре начинают совершать вместе с мамашей небольшие экскурсии. Постепенно прогулки становятся все продолжительнее, и в конце лета молодые барсуки уходят так же далеко от норы, как и взрослые\\n\\nБарсуки, – очень полезные животные. Они уничтожают в большом количестве слизней, гусениц, личинок, вредных насекомых, мышевидных грызунов.\\n\\nОхота на барсуков запрещена. Но, к сожалению, их много гибнет от рук браконьеров. И барсуков становится все меньше и меньше\\n\\n3.\\n\\nУтро застало нас близ моря. О том, что ночью бушевал девятибалльный шторм, напоминали лишь плавучие водоросли, брошенные на прибрежные кристаллические скалы. Их так много, что, кажется, как будто океан нарочно постлал здесь этот зеленый ковер. У самой земли еще влажно мерцает мелкая, холодная изморозь, но вверху небо, уже кристально чистое. Вдруг брызнули первые лучи солнца, и миллионы бриллиантов заблистали везде: на кустах можжевельника, в зарослях камыша, растущего у ближайшей речонки, и на вспыхнувшей огнем брошенной перламутровой раковине. Кажется, здесь не ступала нога человека, но вот виден свежий след трехтонки, проехавшей по песчаному берегу, да вон чей-то полуразрушенный дощаник. Однако, посмотрите: уж не след ли это медвежонка.?.\\n\\nНам надо поторапливаться, и поэтому мы, наскоро подкрепившись, свиной тушенкой и шоколадом, отправляемся в путь. Обувь наша не высохла-таки и, вопреки заверениям, очень промокает. Все сияет после недавнего ливня: и голубые цветы цикория, и какие-то кусты с красными ягодами. Мой приятель забирается за ними, в самую чащобу, несмотря на то, что кусты колются и жалятся. Посмотрите: вот птенцы широко разевают клювы. Как низко расположены гнезда.! Здесь, наверное, их некому разорять.\\n\\nТак мы продолжаем продвигаться вперед, взимая эту неожиданную для нас дань с природы. Но так как наш арьергард слишком растягивается, начальник экспедиции дает приказ подравняться. И мы продолжаем идти, забыв о всех горестях и изъянах нашей экспедиции.\\n\\nНе нужно чересчур преуменьшать трудность таких походов, но я не хочу и приуменьшить то удовольствие, которое они доставляют. Мы идем через лес, окропленный мириадами капель, которые висят даже на безыглых ветвях старых елок. Как ни тяжелы наши рюкзаки, мы все впоследствии с удовольствием вспоминали наше путешествие.\\n4\\nСеверные гости.\\n\\nС наступлением холодов жди северных гостей – снегирей, чечеток, свиристелей. В прошлом году свиристели заявились поздно, в январе, ягоды, рябины за это время, успели несколько раз замерзнуть, стать ледяными и снова оттаять. Многие уже чернели. А они все не прилетали: рябины было на их пути к нам полным-полно. И в наших краях они гостили долго, пока не кончилась вся рябина.\\n\\nА в прошлом году пожаловали в ноябре. Полетали, полетали красавцы по нашим заснеженным улицам, посмотрели на голые рябинки – пусто: рябина не уродилась. И не только в наших краях. А то бы и не заявились они так рано.\\n\\nЯ увидел свиристелей на улице утром, а под вечер, в метель, нечаянно спугнул их уже в поле. Они приютились с подветренной стороны у копешки овсяной соломы, упавшей у кого-то с санок. А на другой день их уже и след простыл, улетели дальше.\\n\\nА вот чечетки остались. Между сосновыми рощами березки, вразбежку. А ниже, до самого ручья, по всему косогору, только снег, да сухие кустики, полыни, пижмы, цикория. Ветер обжигающе колюч. Я хотел побыстрее переехать это место. А тут вдруг невдалеке опускается большая стая чечеток, сотни две, не меньше. Видно только, что с дороги, даже не успели еще разбиться на стайки. Я остановился, наблюдаю, что будет дальше. А они, то сядут с одной стороны, то легко вспорхнут, чтобы опуститься с другой. И до чего же они малы: меньше даже пеночек и зарянок. А еще чутки. Стоит мне прошуршать листком блокнота, переворачивая его, как они поднимаются. А вскоре опять опускаются на кустики цикория, то грудно, то кучками по всему косогору, хоть иди и собирай. А то сядут на березки, что рядом махонькие, северные воробушки, разукрасят их и заголосят, суетливо и громко: че-чет, че-чет. Но не засидишься на заиндевелых ветках, и они вспархивают и снова садятся на былинки, оставляя на снегу сухую шелуху. Только мелькают темно-красные пятнышки на темечке, да малиновые грудки у самцов. Смотрю на них и гадаю, откуда они заявились: из холодной тундры, с Новой Земли, или от Белого моря.?. Кто их знает, не говорят. Но ясно одно: путь их далек, ведь постоянное жительство у них – северное редколесье, тундра, побережье Ледовитого океана.\\n\\nА они и забыли свою дальнюю дорогу, знай, перепархивают по кусточкам цикория, да громко сплетничают. Когда они улетели, поинтересовался, чем они кормятся. Сорвал три кустика цикория, растер на ладони колоски-мочки. Почти все пустые, только и нашел два тощеньких желтых семечка.\\n\\nТяжелая им покажется зима. Как далеко до мартовских дней, когда они перед отлетом в родные края будут весело раскачиваться на длинных березовых косах, подкрепляясь молодыми почками.\\n\\nА сейчас очень трудно чечеткам. Потому их голодных легко обмануть, заманить в клетку, чтобы поймать, а потом продать. А они-то летели к нам в такую даль, не за тем, чтобы стать невольницами. Не будем же забывать об этом, пожалеем этих махоньких северных красавиц.\\n5\\n\\nНад землей стоял туман. На проводах, высокого напряжения, тянувшихся вдоль шоссе, отсвечивали отблески автомобильных фар.\\n\\nДождя не было, но земля на рассвете стала влажной, и, когда вспыхнул запретительный светофор, на мокром асфальте появилось красноватое, расплывчатое пятно. Дыхание лагеря чувствовалось за много километров, к нему тянулись, все сгущаясь провода, шоссейные и железные дороги. Это было пространство, заполненное прямыми линиями, пространство прямоугольников и параллелограммов, рассекавших землю, осеннее небо, туман.\\n\\nПротяжно и негромко завыли далекие сирены.\\n\\nШоссе прижалось к железной дороге, и колонна автомашин, груженных бумажными пакетами с цементом, шла некоторое время почти на одной скорости, с бесконечно длинным товарным эшелоном. Шоферы в военных шинелях не оглядывались на идущие рядом вагоны, на бледные пятна человеческих лиц.\\n\\nИз тумана вышла лагерная ограда – ряды проволоки, натянутые между железобетонными столбами. Бараки тянулись, образуя широкие, прямые улицы. В их однообразии выражалась бесчеловечность огромного лагеря.\\n\\nВ большом миллионе русских деревенских изб нет, и не может быть двух неразличимо схожих. Все живое неповторимо. Немыслимо тождество двух людей, двух кустов, шиповника… Жизнь грохочет там, где насилие стремится стереть ее своеобразие и особенности.\\n\\nВнимательный и небрежный глаз седого машиниста следил за мельканием бетонных столбиков, высоких мачт, с вращающимися прожекторами бетонированных башен, где в стеклянном фонаре виднелся охранник у пулемета. Машинист мигнул помощнику, паровоз дал предупредительный сигнал. Мелькнула, освещенная электричеством, будка, очередь машин у опущенного полосатого шлагбаума бычий красный глаз светофора.\\n\\n(По. В. Гроссману.)\\n6\\nРябиновый дол.\\n\\nЗатерялся в перелесках рябиновый дол. Рассказывают, что давным-давно здесь, в этом долу молнией, убило убогого странника. А богдановский пастух, возьми и посади на том месте две рябинки на память. А теперь вон их, сколько не сосчитаешь: весь дол в них, по обоим склонам. Рябинки одна на другую, не похожие и ягоды тоже: то они розовые, то алые, то темно-красные.\\n\\nЯ люблю заходить сюда в августе, когда наливается рябина, исподволь краснеют ее ягоды и свешиваются тяжелыми кистями. В сентябре залюбуешься резными листьями, багряными и красными от алых зорь, и рябинового огня. А в октябре, когда кругом стоят голые деревья, этот дол, еще долго радует глаз. Издали кажется, что алые кисти висят не на тонких ветвях, а прямо в воздухе.\\n\\nЭтот дол хорош, и зимой, даже еще лучше на белом поле. Потому и склоны его, такие нарядные и праздничные, что рябит в глазах от красного и белого, рябинового и снежного. И не поймешь, чего тут больше. Дол в конце делает полукруг, делают полукруг и рябинки. Вот и кажется, что эту снежную долину украсил щедрый волшебник рубиновым ожерельем. А это ожерелье, то покроется снегом, то опять останется голым, озябшим, постукивая на ветру, замороженными ягодами.\\n\\nКогда же падает сырой снег, он покрывает сверху рябиновые кисти. Снег затвердеет, зачерствеет так, что и в ветер не опадает, а качается вместе с кистями: ни дать, ни взять, маленькие, перевернутые парашютики зацепились за ветки. Если же оттепель, гроздья плачут, умываясь слезами. В мороз – обледенеют, покроются тонкой, ледяной кожицей. Срываю, кладу в рот маленькие красные ледяшки. Они тают, становятся вкусными, прохладными ягодами. Никакой горьковатости: ее отняли первые морозы.\\n\\nХороши они и в бахроме инея: каждая ягодка в крохотном серебряном венце. А однажды я видел чудо: с утра падал сухой снежок, его кристаллики, обсыпали все кисти рябины, и они заиграли на солнце волшебными огоньками.\\n\\nЗатерялся в перелесках рябиновый дол. А все равно его отыскали свиристели. Они прилетели в субботу, и все воскресенье тешились здесь шумно, суетливо, радостно. Даже сороки наведались сюда из садов, уселись в сторонке, завидуя чужому пиршеству. А свиристелей так много, что, когда поднялись, все небо было в этих северных, красивых птицах, что звали на Руси красавами.\\n\\nДождался-таки своего часа рябиновый дол. Не зря хранил свою красоту и богатство.\\n7.\\n\\nВ конце апреля, в еще голом, сквозном лесу, на возвышенных, прогретых местах, сквозь жесткую, кожистую подстилку, пробивается сон-трава. На нежных, опушенных стеблях, как бы еще не окрепших от перворождения поникше, дремлют крупные сине-фиолетовые цветы. Об эту пору растеньице еще без единого листочка: просто стебель, и на нем – цветок. Сон-трава так и зимовала под снегом, под опавшими древесными листьями, с уже готовым бутоном, с тем чтобы пока вокруг еще нет ни одной травинки, первой пробиться к солнцу, поскорее развернуть бутон и понежиться, подремать в ласковых, вешних лучах. Ничего подобного, этой яркой праздничной сини нет, во всем пока еще не прибранном, буро-жухлом лесу, и потому так радостно изумишься, когда еще издали, за много шагов, увидишь это диво, весны.\\n\\nРвать цветок нельзя. Он и сам по себе трепетно-нежный, неприкасаемый и даже под бодрящим апрельским солнцем, не в силах приподнять дремотно опущенной головы. Если же его сорвать, то он тут же, безвольно, поникнет и уснет навсегда… Оттого и назван так: сон-трава.\\n\\nНо вот все-таки рвут многочисленные посетители вешнего леса.! Рвут и вскоре бросают. Бросают из-за этой нежной неприкасаемости растения, а стало быть, из-за его бесполезности и ненужности. Бывает в воскресный день, все лесные тропки, ведущие к электричке, усыпаны завядшими и растоптанными цветами.\\n\\n(По Е. Носову.)\\n8.\\nОрешниковые сони.\\n\\nМы с другом очищали скворечники, у нас, в саду, от старой подстилки, которую натаскали в гнезда скворцы. И вдруг из одного из них выскочила рыжая мышка.\\n\\nОна хотела спрятаться в густой траве, но мы ее поймали. Хорошо рассмотрели и обнаружили, что это не мышь, а соня. Мы поняли это – кормящая мать, и, значит, там, в скворечнике, ее малыши. Так и оказалось. Их было шестеро маленьких, голых, слепых.\\n\\nРешили перенести домой все семейство. А чтобы зверьки чувствовали запах родного дома, взяли из скворечника и старую подстилку. Всех поместили в террариум. Мама-соня сначала зарылась в сухую траву, но вскоре вылезла, обнаружила своих малышей и начала облизывать их, устраивать поудобнее. Мы положили соне кусочки, яблока, сухарики. Утром обнаружили, что яблоко съедено, а сухарики не тронуты.\\n\\nЧерез две недели маленькие сони стали выходить из гнезда. Они обнюхивали все вокруг, обживались. А вскоре стали брать корм прямо из рук.\\n\\n10\\nМой питомец.\\n\\nКак-то весной принес я домой икру, которую нашел в луже, и поместил ее в банку с водой. Уже через несколько дней икринки заметно изменились – в каждой стремительно развивался зародыш. Условия для выклева, личинок, были благоприятные, и я стал свидетелем этого таинства. Темные существа были похожи на мальков рыб. Первое время они почти не шевелились, сидя на водорослях.\\n\\nСпокойствие, однако, было обманчиво, – чуть позже в сосудах закипела бурная жизнь.\\n\\nПримерно на пятой-шестой неделе после выклева у головастиков, начали расти задние лапки. Передние же развивались незаметно под жабрами. На последней личиночной стадии развития головастики как бы вытянули свои маленькие передние лапки. Хвосты у них постепенно укорачивались, и отталкивались они все чаще задними лапками. В это время они стали похожи на лягушат, а вернее, на жабят, как позже оказалось.\\n\\nСо времени выклева прошло около шестидесяти дней. Я поместил их в бассейн акватеррариума, где обитали тритоны, и ждал момента выхода на сушу своих «малышей». И дождался – существа выбрались на влажный песчаный бережок. Передвигались они маленькими прыжками, не забывая навещать родную стихию – воду.\\n\\nМои питомцы очень долгое время отказывались от предлагаемой пищи. Двое из них погибли от голода, хотя вокруг было много шевелящихся червячков. Я уже отчаялся, когда последний, оставшийся в живых, вдруг стал обращать внимание на трубочника, а затем и есть его. Вскоре мой любимец начал хватать с пинцета кусочки мяса. Он стал заметно расти, что очень радовало меня. Я переживал, опасаясь, что его проглотят тритоны: мой питомец был так мал. Однако вскоре он стал очень шустрым и даже отбирал у соседей корм.\\n\\nЧерез несколько месяцев жабенок хватал уже все без разбору, будь то червяк или тритон. Он стал опасен для жителей акватеррариума. Пришлось оборудовать ему отдельное помещение. К этому времени он уже стал довольно большим и красивым – на серо-салатовом фоне спинки темно-зеленые пятна различных размеров, окаймленные черными полосами. Брюшко более светлое – на серо-белом фоне салатовые пятна. А какие великолепные изумрудные глаза.!. Конечно же, это – зеленая жаба.\\n11.\\n\\nВ тайге темнеет быстро. И, несмотря на то, что мы это знали, все-таки темнота застала нас врасплох. Раздвигая тяжелые, колючие ветви и нащупывая ногой следующую кочку, мы мало-помалу продвигались вперед. Было совершенно темно, но, как ни странно, от прожорливых комаров и мошек, летавших вперемешку вокруг нас, спасения не было так же, как и днем.\\n\\nЦелый день мы шли вниз по течению реки, но река исчезла в темноте, где-то слева, и нам приходилось идти наугад. К счастью, до ближайшей охотничьей избушки, в которой мы рассчитывали устроить ночевку, оставалось, по-видимому, совсем недалеко. И действительно, когда мы поодиночке перешли по узкой жердочке, брошенной через топкий лесной ручей, и поднялись в гору, мы оказались перед избушкой.\\n\\nНе теряя ни минуты и в душе радуясь, что расчет наш оправдался, и мы в пору добрались до места, мы без устали рубили хвою, пилили ножовкой небольшие ветки и клали их крест-накрест. Вот и готова наша пахучая, но не очень мягкая постель.! Товарищ мой уже не смотрит исподлобья и даже начинает читать стихи, которые учил когда-то, на память, сначала шепотом, а потом и в голос, вовсе не подозревая, как он смешон в эту минуту.\\n\\nС тихим шорохом ветер раскачивает вершины старых кедров, как будто предвещая на завтра дождь, и где-то вдали кричит какая-то ночная птица.\\n12.\\n\\nНа дворе май, а уже порыжела сирень. Нет дождей второй месяц. Еще не беда для огородов, но предчувствие ее томится в сухом, духмяном от сомлевших трав, воздухе.\\n\\nТоропится добрать стройматериалы для своего жилища, оса грызет дощатую обшивку веранды – только шорох стоит. Торопится накормить своих птенцов воробей: то и дело снует за стреху и обратно. Торопится отцвести декоративная жимолость: над ее бело-розовой, одуряюще, запашистой кипенью, неутомимо снуют пчелы.\\n\\nЛишь новорожденной бледно-зеленой гусенице, как видно, некуда спешить средь суеты майского утра. Она зависла над веткой березы. Огляделась, выпустила из себя паутинку, скользнула вниз и снова зависла в жарком токе воздуха, покачиваясь, как на качелях.\\n\\nКаким ей видится этот мир.? Неоглядным торжеством зелени, под выгоревшим и потускневшим от обилия солнца небом.? Черно-белым росчерком берез.?. Или той вон, похожей на сытую гусеницу сережкой, что вздрагивает рядом, застив весь свет.?.\\n\\nМне тоже застят весь свет эти березы, что вымахали у крыльца намного выше крыши. И солнечные лучи просеиваются сквозь них лишь зыбким кружевом бликов. И река угадывается едва сквозь трепет клейкой листвы. Но шелест ее для меня – как задушевные речи старого друга.\\n13.\\nДожди.\\n\\nНеблагоприятная для отдыха погода установилась надолго. Неприветливое небо непрестанно хмурилось. Не прекращаясь ни на час, ни днем, ни ночью, шли дожди. К сырой погоде я был не подготовлен, так как не захватил с собой на дачу ни плаща, ни непромокаемой обуви, ни даже какой-нибудь незатейливой одежонки, которую не жалко было бы трепать в непогоду. А почва у нас повсюду глинистая, вязкая. Даже после небольшого дождя грязь, вокруг непролазная. Сколько ни оглядывал я низко нависшие пепельно-серые облака, но не мог рассмотреть даже ни малейшего проблеска. Незаметно было никакого намека на просветление. Как ни досадно терять драгоценное время летнего отпуска, но, как говорится, ничего не попишешь. И хотя я внешне примирился с тем, что придется отсиживаться дома, однако в душе не мог не надеяться на лучшее. Ведь человек всегда живет светлой надеждой, и это неплохо. Что ни говори, а люди неунывающие – это лучшая часть рода человеческого. Итак, не смея рассчитывать на прекращение дождей, я расположился у окна, с недурными намерениями, просмотреть не прочитанные за последние дни газеты, ответить на два-три письма.\\n14\\nБелочка-партизан.\\n\\nЛес, старый, деревья высокие, верхушки, раскачиваются и шумят. Партизаны разожгли костер. Дым столбом поднялся вверх. И вдруг, чуть ли не в огонь, упал с высокой сосны какой-то комок. Ребята, сидевшие у костра, схватили его. Это был маленький бельчонок. Он весь дрожал от страха и даже не пытался вырваться. Решили оставить его в отряде, а воспитывать поручили мне, поскольку я год проработала учительницей в третьем классе.\\n\\nИтак, эта белочка – «подарок с неба», как мы ее окрестили, стала служить с нами, ездила на повозке, где находились продовольствие и рации.\\n\\nОна очень любила тепло, подолгу спала в рукавице, сшитой специально для нее. Спала она крепко, свернувшись в клубок, и очень смешно прикрывала мордочку пушистым хвостиком, словно одеялом. А проснувшись, зверек любил забираться к кому-нибудь в карман или под шинель. Ел бельчонок, варенье, сырые яйца, сало, сухари, консервы и, конечно, ягоды, особенно любил землянику. Не знаю, как он относился к сахару, этого лакомства у нас не было.\\n\\nТак и ездил с нами бельчонок, участвуя в боевых рейдах и переходах по тылам врага. Когда была спокойная обстановка, я и моя подруга, Нина, тоже радистка, отпускали зверька погулять и поиграть. Белочка очень ловко бегала по стволам деревьев, брала с рук угощенье, но давалась не всем, знала только нас и ездового Андрея.\\n\\nИнтересно было смотреть, как она бегает по туловищу коня, быстрыми прыжками несется по спине, по ногам. Лошади вначале вели себя, беспокойно кожа на их теле вздрагивала. А потом они привыкли и спокойно относились к «белочкиным путешествиям».\\n\\nА однажды зверек забрался на высокое дерево. Неожиданно появилась какая-то крупная птица, стала нападать на бельчонка. Налетели сойки, раскричались на весь лес. Пришлось отгонять птицу выстрелом из пистолета. Она улетела, а белочка мгновенно спустилась к нам в руки. Сердечко ее билось часто-часто. Она юркнула в рукавицу и долго не вылезала оттуда.\\n\\nПрожила белочка с нами до лета. И один раз случилось непредвиденное… Выпустили мы ее, как всегда, погулять, а тут приказ: срочно покинуть это место. Начался обстрел. У нас не было времени долго искать белочку, еле успели свернуть радиостанцию. Звали ее, звали, но она не появлялась. Так и осталась в том лесу, у речки…\\n\\nДолго вспоминали ее партизаны и думали-гадали: найдет ли она себе корм, сумеет ли прожить постоять за себя.?. Кто знает… Да и на войне не переставали люди, посуровевшие в тяжелых испытаниях, оставаться людьми, готовыми уберечь от гибели все живое. Неистребима тяга человека к доброте и заботе…\\n15\\nМать рек русских.\\n\\nМатерью рек русских издавна называли люди Волгу. Из-под сруба старинной часовенки близ деревеньки Волгино-Верховье, вытекает неприметный ручеек, через который перекинут бревенчатый мостик.\\n\\nПроделав путь в три тысячи шестьсот восемьдесят восемь километров, Волга приходит к Каспийскому морю.\\n\\nКакие только суда не встречаются на Волге.!.\\n\\nТяжело проплывает огромная нефтеналивная баржа, заменяющая собой много железнодорожных цистерн. Вслед за ней тянутся не спеша широкие баркасы с невысокими бортами, доверху, нагруженные камышинскими арбузами. Взгляните издали с берега – точь-в-точь огромное блюдо с плодами плывет по реке. А навстречу движется длинная улица, мощеная бревнами. Как полагается, на улице выровнялись, будто по линейке игрушечные домики. Перед домиком догорает костер, кипит чай в закопченном котелке, колышется на бечевках вывешенное белье – и все это хозяйство медленно движется вниз по реке.\\n\\nНе поодиночке, а караваном тянутся огромные плоты, насчитывающие по пятидесяти тысяч бревен. Провести такую громадину по своенравным поворотам в течении реки – большое искусство.\\n\\nНа залитой июньским солнцем палубе с комфортом расположились в камышовых креслах пассажиры трехэтажного теплохода, точно серебряного от солнца. Неслышно рассекает он зеленовато-серые волны реки. По сравнению с этим плавучим дворцом, неказистым, кажется, труженик-буксир, толкающий впереди себя или ведущий за собою тяжело груженные баржи.\\n\\nБегут скоростные поезда, несутся автомобили по трассам нашей необъятной страны, но Волга, по-прежнему величайшая магистраль нашей Родины.\\n16\\nКукушечья хитрость.\\n\\nНеподалеку от нашего промыслового стана лопотала листвою тополиная лесополоса, вдоль которой торчали невысокие бетонные столбики проволочной ограды. И вот мы стали замечать, как на эти столбики изредка присаживалась поющая кукушка. Посидит, попоет на одном, перелетит на другой, третий, и так далее, пока не кончится коротенькая лесополоса. Что она, столбики считает, что ли.?\\n\\n17.\\n\\nЗаря разгоралась. Лучи солнца коснулись верхушек деревьев, позолотили блестящую поверхность озера и проникли в спальню к ребятишкам. Высоко над домом развевается и горит ярким пламенем красный флаг. Скоро подъем. По звуку горна юные спортсмены быстро поднимаются и, застелив аккуратно постели, выбегают на зарядку. В комнате остаются ребятишки младшего возраста. Они не умеют еще самостоятельно застилать свои постельки и делают это под наблюдением вожатой Люси.\\n\\nНа спортивной площадке, построившись по росту в ряд, по трое и, подравнявшись, ребята застывают по команде «смирно!» Через минуту в воздухе мелькают загорелые руки, и стриженные наголо ребятишки наклоняются, касаясь земли кончиками, пальцев. После зарядки они врассыпную бегут к озеру, оглашая его берега звонким смехом.\\n\\nМалыши, не умеющие плавать, плещутся у берега. Несколько ребят во главе с Юрой, знаменитым лагерным пловцом, направились к плавучему мостику, но, услышав сердитый голос вожатой Люси, поспешили обратно.\\n\\nПосле купанья хорошо растереться мохнатым полотенцем. Ежедневная зарядка и обтирание холодной водой укрепляют и закаляют здоровье. А какой аппетит развивается после купанья.!. Все кажется необычайно вкусным. Ребята с удовлетворением уплетают оладьи, макая их в сметану.\\n18\\n\\nМока жил в горах Северного Кавказа. Осенью, когда созревали желуди, груши, другие дикие плоды и ягоды, он спускался в леса, даже выходил в предгорья, а лето и весну проводил, забираясь высоко в горы. Его мать, бурая медведица, погибла, когда он был еще совсем маленьким Голодного и испуганного, забившегося в густые заросли облепихи его, нашли люди, отогнали своих свирепых собак и принесли медвежонка в деревню. Там, на окраине горного селения, он прожил почти год: лето, осень и зиму. На ночь его запирали в сарае, а день он проводил на дворе, огороженном высоким и сплошным каменным забором.\\n\\nКогда он подрос и окреп, его стали недокармливать. Неумышленно. Просто ему надо было много пищи, а одинокий старик, его хозяин, не всегда мог его накормить. Мока ел все: хлеб, сухари, мясо, кости, картошку, любые овощи – сырые и вареные даже траву. И все равно всегда был полуголодным.\\n\\nИногда к Моке приходили двое ребятишек. Поиграть с ним. Медвежонок радовался таким посещениям. Но этой весной, когда в апреле и мае, все вокруг цвело и зеленело, мальчики приходили всего один раз. Принесли Моке две сладкие булочки, потрепали его по мохнатой коричневой гриве, погладили лоб и щеки. – Мока в это время довольно урчал, – потом ушли. Он снова остался один до вечера, пока не пришел старик-хозяин. Человек немного покормил его, сказал ласковые слова.\\n\\nОднажды ребятишки пришли снова. С ними был третий. Медвежонок съел гостинцы, предложенные ему двумя знакомыми мальчиками, потянулся к третьему. А тот вместо сладкой булочки сунул ему в нос колючую щетку. Мока укололся, взвизгнул и отпрянул, а мальчик громко и весело захохотал. И тут вдруг выяснилось, что у Моки довольно крутой нрав. Он взревел, подскочил к обидчику и ударил его лапой. Дети убежали, а медвежонок долго ходил по двору, потом нашел удобные уступы в каменной кладке забора, перебрался через него и ушел в лес.\\n\\nС тех пор прошло немало лет. Мока стал могучим крупным медведем. Правда, первую зимовку на воле, он едва пережил: чуть не замерз. Но его спасла удачно, хотя и случайно, выбранная пещерка, в которую он залег на свою первую зимнюю спячку.\\n\\nТеперь он был уже опытен, умен и хитер. И хотя питался в основном растительной пищей, был не прочь и умел при удобном случае задрать оленя или тура. Людей он не встречал, сторонился их следов, запаха. В нем проснулся дикий инстинкт самосохранения. Благодаря этой своей осторожности Мока спокойно жил в горных лесах и ущельях.\\n19.\\n\\nСколько-нибудь связные воспоминания начинаются у меня лишь с того времени, когда мне было лет пять и когда мы жили в Калуге. Нас было тогда трое детей: сестра моя. Анюта была лет на шесть старше меня, а брат Федя, года на три моложе.\\n\\nДетская наша так и рисуется перед моими глазами. Большая, но низкая комната. Стоит няне стать на стул, и она свободно достает рукою до потолка. Мы все трое спим в детской; были толки о том, чтобы перевести Анюту спать в комнату, ее гувернантки, француженки, но она не захотела и предпочла остаться с нами.\\n\\nНаши детские кроватки, огороженные решетками, стоят рядом, так что по утрам мы можем перелезать друг к другу, не спуская ног на пол. Несколько поодаль стоит большая нянина кровать, над которой высится целая гора перин и пуховиков. Это нянина гордость. Иногда днем, когда няня, в добром расположении духа, она позволяет нам поваляться на своей постели. Мы взбираемся на нее при помощи стула, но лишь только взберемся мы на самый верх гора, эта тотчас под нами проваливается, и мы погружаемся в мягкое море пуха. Это нас очень забавляет.\\n\\nСтоит мне подумать о нашей детской, как тотчас же, по неизбежной ассоциации идей, мне начинает чудиться особенный запах, – смесь ладана, деревянного масла, майского бальзама и чада от сальной свечи. Давно уже не приходилось мне слышать нигде этого своеобразного запаха. Да, я думаю, не только за границей, но и в Петербурге, и в Москве его теперь редко, где услышишь; но года два тому назад, посетив одних моих деревенских знакомых, я зашла в их детскую, и на меня пахнул этот знакомый мне запах и вызвал целую вереницу давно забытых воспоминаний и ощущений.\\n\\nГувернантка-француженка не может войти в нашу детскую, без того, чтобы не поднести брезгливо платка к носу.\\n\\n(По. С. Ковалевской.)\\n20.\\n\\nСтертые каменные ступени, скользкие от мелкого осеннего дождя, вели вниз в стиснутые высокими скалами ущелья. Одна из ближних к лестнице, скал, округлая и тяжелая, напоминала силуэт доисторического животного. Складчатая спина чудовища покрыта, как шерстью, пучками увядшей травы. Только что пребывали мы в цивилизованном мире высотных зданий, автобусов и троллейбусов, переполненных спешащими людьми, мощеных и асфальтированных улиц, и площадей в мире гигантских сооружений и нескончаемых реклам. Но стоило перебраться через большой неподвижный водоем, как мы нежданно-негаданно очутились в царстве неживой природы. Как ни странно, эта жизнь казалась реальной, а та, отделенная, тонкой сеткой дождя, сквозь которую просвечивали контуры современных катакомб, представлялась наваждением. И вот мы прикасаемся к древности, искусно созданной и сохраняемой учеными-экологами.\\n\\nМы приостановились у безлюдного берега озера, любуясь открывшимся пейзажем: серебряной ниткой прорезал песчаную гряду ручей, чуть-чуть пожухлая зелень трав обвивала кусты ольшаников, создавая живописный рисунок. Облетающие березы, кустарники – все это образовывало неповторимый ландшафт. Мы стали продвигаться в глубь территории, как вдруг услышали детские голоса. Посторонившись, мы пропустили небольшой отряд ребятишек в непромокаемых курточках и вязанных из разноцветных ниток шапочках. Впереди шагал улыбчивый веснушчатый мальчуган, державший флаг. На бледно-голубом полотнище был нарисован диковинный рогатый жук-олень. Флажки поменьше, тоже с изображением насекомых, несли другие дети.\\n\\nНо вот мимо нас прошли последние следопыты, и мы расспросили руководителя, наблюдавшего издали за ребятами, о цели их путешествия. Он объяснил нам, что эти дети – юннаты, и что все члены общества, охраны, природы, приводят сюда своих подшефных школьников, чтобы с детства привить им любовь к природе, к прошлому своей страны. По прибытии в город мы не захотели идти ни в театр, ни в кино, потому что ничто другое, кроме встречи с живым чудом, не влекло нас.\\n21.\\n\\nВ доме готовились к празднику. Женька всем мешал. Он бродил по дому и путался под ногами. Особенно досаждал бабушке. Куда она ни посмотрит – везде перед ней, то белый чубчик, то белая макушка. «Ох, Женька, шел бы ты купаться.!» – сказала бабушка. И рассмеялась. Знала ведь, что он боялся воды.\\n\\nЖенька обиделся, но все же побрел на речку. Он спустился к воде и хотел по привычке намочить трусы и макушку – вроде купался и уже зачерпнул было ладошкой воду, как вспомнил бабушкин смех. Бабушка на днях подсмотрела его хитрость. Поэтому он просто плюхнулся на траву. Вот это он очень любил. Еще бы – трава прохладная, ласковая.\\n\\nЖенька лежал и блаженствовал. Солнце сверху так жарило.!.\\n\\nВдруг что-то легонько щелкнуло Женьку по лбу. Он замер. Р-раз еще р-раз.! Щелк.! Щелк.! Щелк.! Кто-то стрелял. Не больно, но все-таки обидно.\\n\\nЖенька огляделся. Никого. Кусты, трава, у речки – ничто не качнулось, не шелохнулось. И тут опять – щелк.! Щелк.!. Ну, уж это слишком.!. Мальчик хотел вскочить, как от последнего щелчка по лбу на широкий лист подорожника что-то упало. Женька присмотрелся Семечко. Круглое, блестящее, точно лаковое. Хотел взять – скользнуло семечко между пальцами и юркнуло вниз, на землю.\\n\\nЖенька растерялся – откуда оно.?. Привстал и увидел, как шагах в трех от него, на стебельке какой-то травины, покачивались маленькие плоды. Одни были похожи на журавлиные головки с длинными клювами, другие – на косматые шарики. К одной из космушек прилепилось семечко: точь-в-точь такое же, как то, что отскочило от Женькиного лба.\\n\\n«Так вот кто стрелял.!» – осенило его. Он чуть дотронулся пальцем до плодика – журавлиного носа. Плодик мгновенно взъерошился, и в разные стороны полетели блестящими точками семена. Вот это открытие.!. Женька забыл про все на свете, даже про бабушкин смех. Он ползал на коленках по лугу и искал стреляльщиков. Находил, примеривался пальцем, кричал: «Р-раз.!.» – и касался плодика. Если стреляло, вскакивал на ноги и орал: «Есть!»\\n\\nГуси, которые до сих пор неподвижно лежали на лугу, повскакивали и переполошно, загоготали, стали вперевалку шлепать по траве, пока наконец не бросились в воду. Они хлопали крыльями по воде, взбивая белую пену, во все стороны летели брызги, как те блестящие семечки. И Женька шагнул к ним. Вода оказалась прохладная и ласковая, как трава. Он замер. По-над дном юркнула стайка крошечных мальков. Из крапивной стены – берега, речки. – выглянули голубенькие незабудки.\\n\\nЖенька замахал руками, как гуси, крыльями, тоже взбил белую пену и победно взглянул на стреляльщиков.\\n\\nСреди цветов стояла бабушка. «Не двигайся!.» – приказал ей внук, вылез на берег и пополз искать стреляльщиков. Бабушка про такое не знала. Честное слово.! «Обыкновенные герани – и надо же.!» – удивилась она.\\n\\nОни сидели на лугу. Женька был совершенно счастлив. И бабушка тоже.\\n\\n23.\\n\\nПочему люди все время недовольны телевидением, этим величайшим даром цивилизации.?. Потому что это дар данайцев. В нас бунтует подавленная, не находящая реализации часть нашего живого существа. Даже в новогоднюю ночь, как невольники на галерах, мы прикованы к телеэкранам и видеомагнитофонам, неспособные сами ни петь, ни плясать, ни кричать, ни смеяться, ни играть, ни разыгрывать друг друга, – фактически не общаемся, а только смотрим, смотрим, в промежутках немного пьем и жуем, жуем, жуем…\\n\\nТелевидение – символ всей современной аудиовизуальной культуры. Гибельная суть этой новой «культуры» в том, что она лишает человека его собственного, предметного мира, унося туда, где он, существует только как фантом. И есть уже телевидеоманы, «электронные почтальоны», которые забыли о естественных потребностях живого, активного существа, чувствуя себя вполне хорошо, без них. Умерли – и довольны. Впереди – компьютерная наркомания, которую называют пока «пребыванием в виртуальной реальности».\\n\\nВ подсознание – основную творческую лабораторию человека – попадает только то, что прошло через чувства. Через чувства проходит прежде всего живое, непосредственное воздействие другого человека, природы мира, а информационное воздействие затрагивает только мышление «кору». От хоккея по телевизору остается легкий, поверхностный след, который, как след самолета, быстро рассеивается с новыми впечатлениями, смешивается с ними. Хоккей на стадионе, даже наблюдение, а тем более собственную игру помнит, все тело, весь человек. И так, любые события. По телевидению мы были везде, на всей планете, и слышали обо всем. Но что это дает.? Общее впечатление без переживания. «Мы многое из книжек узнаем, но истины передают изустно», – пел. В Высоцкий. Многие удовлетворяются жизнью, без истины – живут, как наблюдатели, «рядом с бытием». Некоторые уже и не нуждаются в переживании – роботообразные, другие, напротив, прибегают к искусственной имитации переживания – наркообразные.\\n\\n(По. В. Кутыреву.)\\n24.\\n\\nДни были невыносимо жаркие, но в небольшом дубовом лесочке стояла живительная свежесть. Упругие глянцевитые листья молодых дубков свежи, как будто их только что обмакнули в зеленый воск. Из-под пестрой трафаретной листвы папоротников глядит ярко-красная волчья ягода и опавшие желуди. Вверху блещет сухая орешина, вся золоченная светом, на темно-коричневой, торфянистой почве, в изобилии произрастают целые семьи грибов. Кругом сонное царство только стрекочут в траве, неугомонные кузнечики да тащат соломинки, смышленые, работящие муравьи. Из чащобы на опушку выскочил полинялый заяц, но, сделав прыжок, тотчас же решил пойти на попятную и бросился наутек.\\n\\nВысоко в небе плавает ворон. Вот долетает издали, как брошенная горстка гороха, грустный вороний крик. Что он высматривает оттуда.? Может быть, он устал парить в поднебесье и хочет этой студеной воды из ручья.? А вот издалека послышалось, словно пение жаворонка.\\n\\nИ вдруг слышится тяжелый грохот. Опять удар, нива заколебалась, и по ней полоснуло холодом. К черной туче, которой заслонены восток и юг книзу, мало-помалу присоединяются тучки поменьше. По верхнему краю тучи, которая, кажется, непроглядной блеснула огненная нить серебряной молнии. Вихрь свистнул, защелкал, и по бурому полю зреющей ржи заблистали причудливые светлые пятна.\\n\\nИ вдруг, тихо. Ни молний, ни ветра. Вот и недавно реявший ворон, бросившись вниз, закопошился в посеребренной листве дуба. На траву упали первые тяжелые капли, и барабанщик-дождь пустился вовсю.\\n25\\n\\nВерстах в трех от Дранкина. – Большой омут. Там когда-то была мельница. Мельница сгорела, а плотина и омут остались. По рассказам дяди Саши, жила в этом омуте, огромная, как бревно, щука с зеленым мохом на спине, от старости\\n\\nКукушкину уж очень захотелось увидеть эту щуку, ну хоть бы одним глазком.\\n\\nВ одно из июльских воскресений отправился Кукушкин к Большому омуту.\\n\\nОн шел лесной тропинкой по прохладной сыроватой земле, перескакивая через корни и валежины. Вот и плотина, заросшая ольшаником и хмелем, крапивой, кустами, малины и смородины. Кукушкин пробрался ближе к насыпи и увидел темную воду, покрытую зеленой ряской. Над самой водой нависала старая корявая ветла. Кукушкин забрался на нее, лег животом вниз, в развилку между сучьев, и стал смотреть. Было очень тихо, лишь где-то рядом ворковал вяхирь, да чуть шелестела осока.\\n\\nИ вот из осоки выплыла утка, а за ней семь маленьких желтых комочков. Они неслышно передвигались по воде, оставляя в зеленой ряске темные полосы. И вдруг утка с криком метнулась в сторону. Вода под ней взбугрилась, выставилась над водой, огромная зубастая пасть, и, как показалось Кукушкину, громко щелкнув зубами, проглотила утенка. Проглотила и скрылась.\\n\\nВсе это произошло мгновенно. Кукушкин вскрикнул, перепугавшись, не меньше утки, и с корявой ветлы шлепнулся в бездонную воду. Он не помнил, как заколотил по воде руками и ногами.\\n\\nЗахлебываясь, он все-таки добрался до берега и вылез в крапиву, дрожа от страха и холода.\\n\\nТак он научился плавать.\\n\\n(По М. Дудину.)\\n26.\\n\\nПрошлым летом мне пришлось побывать в одном заволжском селе, затерянном в дремучем, смешанном лесу, простирающемся на много километров. Село было небольшое, но какое-то веселое и оживленное, как будто праздничное.\\n\\nПри самом въезде в село нас встречает не стихающий ни днем, ни ночью, шум лесопильного завода. Здесь сложены стопками, брусья навалены, бревна желтеют, кучи, еще не улежавшихся опилок. А вокруг села ни на минуту, не умолкает разноголосый птичий шум.\\n\\nЧего только ни дает человеку этот зеленый богатырь.! За что ни возьмешься, все так или иначе, связано с лесом. Гнутую мебель, кованые сундуки, бочонки – все это делали местные жители – исконные деревообделочники. А вокруг высятся почти не освоенные пока леса. Да это и немудрено: ведь рабочих рук не хватает, хотя недавно вернулись в село демобилизованные ребята.\\n\\nСтоит вам углубиться в пустынный, казалось бы, бор, и вы сразу увидите стриженые мальчишечьи головки, услышите певучую девичью перекличку. Это грибники, ягодники. Хотя только вчера закончился, давно уже не нужный дождь, а ветки обвешаны не высыхающими, целый день каплями, весь лес наполнен народом.'"
      ]
     },
     "execution_count": 113,
     "metadata": {},
     "output_type": "execute_result"
    }
   ],
   "source": [
    "text_res"
   ]
  },
  {
   "cell_type": "code",
   "execution_count": null,
   "metadata": {},
   "outputs": [],
   "source": [
    "Тест,  тест    Тест. - Тест, тест, тест...."
   ]
  },
  {
   "cell_type": "markdown",
   "metadata": {},
   "source": []
  },
  {
   "cell_type": "code",
   "execution_count": null,
   "metadata": {},
   "outputs": [],
   "source": []
  },
  {
   "cell_type": "code",
   "execution_count": null,
   "metadata": {},
   "outputs": [],
   "source": [
    "async def infer_optimal(params, text): \n",
    "  # print(\"INFERCENC IS WIERD\\n\" * 10)\n",
    "  res = []\n",
    "  last_inserted_pos = 0\n",
    "  def sink(token, log=False):\n",
    "    nonlocal last_inserted_pos\n",
    "    if token.text == \"PAD\": return\n",
    "    if log: print('sink', token)\n",
    "    if isinstance(token, Substr):\n",
    "      res.append(token.text)\n",
    "      if log: print(\"added1 \", f\"`{token.text}`\", token)\n",
    "    else:\n",
    "      if last_inserted_pos != token.start:\n",
    "        res.append(text[last_inserted_pos: token.start])\n",
    "        if log: print(\"added2 \", f\"`{text[last_inserted_pos: token.start]}`\", last_inserted_pos, token.start)\n",
    "      last_inserted_pos = token.stop\n",
    "      res.append(token.text)\n",
    "      if log: print(\"added3 \", f\"`{token.text}`\", token)\n",
    "\n",
    "  def skip(token, log=False):\n",
    "    nonlocal last_inserted_pos\n",
    "    last_inserted_pos = token.stop\n",
    "    if log: print('skip', token)\n",
    "\n",
    "  def sink_remaining():\n",
    "     res.append(text[last_inserted_pos:])\n",
    "\n",
    "\n",
    "  async def predict_on_tokens(window_left, window_right, return_probas):\n",
    "    features = [get_word_features_cached(i.text) for i in Stream(window_left).chain(window_right)]\n",
    "    features_for_batch = np.stack((features, ))\n",
    "    arr = np.ascontiguousarray(features_for_batch, dtype=np.float32)\n",
    "    output_probas = np.array((await jsinfer.infer(arr)).to_py())\n",
    "    # output_probas[0][0] += 2.\n",
    "    if return_probas:\n",
    "      return params[\"ID_TO_PUNCTUATION\"], output_probas \n",
    "    punct_idx = np.argmax(output_probas).item()\n",
    "    punct = params[\"ID_TO_PUNCTUATION\"][punct_idx]\n",
    "    return punct\n",
    "\n",
    "\n",
    "  window_left = deque()\n",
    "  window_right = deque()\n",
    "  log = False\n",
    "  skip_next = False\n",
    "  for i in Stream.repeat(Substr(PAD_TOKEN), params['INPUT_WORDS_CNT_LEFT']) \\\n",
    "      .chain(Stream(tokenize(text))) \\\n",
    "      .chain(Stream.repeat(Substr(PAD_TOKEN), params[\"INPUT_WORDS_CNT_RIGHT\"])):\n",
    "    window_right.append(i)\n",
    "    if len(window_right) <= params[\"INPUT_WORDS_CNT_RIGHT\"]:\n",
    "        continue\n",
    "    assert len(window_right) == params[\"INPUT_WORDS_CNT_RIGHT\"] + 1\n",
    "\n",
    "    next_ = window_right.popleft()\n",
    "    sink(next_)\n",
    "    window_left.append(next_)\n",
    "    if len(window_left) < params['INPUT_WORDS_CNT_LEFT']: \n",
    "      continue\n",
    "\n",
    "    assert len(window_left) == params[\"INPUT_WORDS_CNT_LEFT\"]\n",
    "    assert len(window_right) == params[\"INPUT_WORDS_CNT_RIGHT\"]\n",
    "\n",
    "    if skip_next:\n",
    "      prediction = \"$skip\" \n",
    "    else:\n",
    "      # params[\"ID_TO_PUNCTUATION\"], output_probas\n",
    "      prediction = await predict_on_tokens(window_left, window_right, return_probas=False) \n",
    "\n",
    "\n",
    "    #random.choice([\" \", \".\"])\n",
    "    if log: print(d_as_str(window_left).rjust(100), prediction.center(6), d_as_str(window_right))\n",
    "\n",
    "    def is_replaceable_punct(punct):\n",
    "      return punct in ',.'\n",
    "\n",
    "    if prediction == \"$skip\":\n",
    "      pass\n",
    "    elif prediction != \"$empty\":\n",
    "      if is_replaceable_punct(window_right[0].text):\n",
    "        if window_right[0].text != prediction:\n",
    "          window_right[0].text = prediction\n",
    "      else:\n",
    "        window_left.append(Substr(prediction))\n",
    "        sink(window_left[-1])\n",
    "    else:\n",
    "      if is_replaceable_punct(window_right[0].text):\n",
    "          skip(window_right.popleft())\n",
    "\n",
    "    skip_next = is_replaceable_punct(window_right[0].text)\n",
    "\n",
    "    while len(window_left) != params['INPUT_WORDS_CNT_LEFT'] - 1: \n",
    "      token = window_left.popleft()\n",
    "\n",
    "    if log: print(d_as_str(window_left).rjust(100), \"      \", d_as_str(window_right))\n",
    "\n",
    "  for i in window_right:\n",
    "    sink(i)\n",
    "  sink_remaining()\n",
    "  ress = \"\".join(res)\n",
    "  return ress\n"
   ]
  },
  {
   "cell_type": "code",
   "execution_count": null,
   "metadata": {},
   "outputs": [],
   "source": []
  },
  {
   "cell_type": "code",
   "execution_count": null,
   "metadata": {},
   "outputs": [],
   "source": []
  },
  {
   "cell_type": "code",
   "execution_count": null,
   "metadata": {},
   "outputs": [],
   "source": []
  },
  {
   "cell_type": "code",
   "execution_count": null,
   "metadata": {},
   "outputs": [],
   "source": []
  },
  {
   "cell_type": "code",
   "execution_count": 30,
   "metadata": {},
   "outputs": [
    {
     "name": "stdout",
     "output_type": "stream",
     "text": [
      "False\n"
     ]
    }
   ],
   "source": [
    "print(xformers.components.attention._USE_SPUTNIK)"
   ]
  },
  {
   "cell_type": "code",
   "execution_count": 22,
   "metadata": {},
   "outputs": [
    {
     "name": "stdout",
     "output_type": "stream",
     "text": [
      "ADD RESULTS \n",
      "torch.Size([1675, 32, 489])\n",
      "torch.Size([10, 32, 489])\n",
      "tensor([[-1.7760,  1.6977, -1.7477],\n",
      "        [-1.8823,  1.5165, -1.8250],\n",
      "        [ 0.6482, -1.0438, -3.3550],\n",
      "        ...,\n",
      "        [ 0.7262, -0.2323, -4.8659],\n",
      "        [ 2.0915, -0.6271, -6.7218],\n",
      "        [ 2.0524, -0.7290, -6.8905]])\n"
     ]
    }
   ],
   "source": [
    "import xformers\n",
    "from xformers.components import attention\n",
    "# xformers.components.attention._DENSITY_THRESHOLD = 100.\n",
    "attention._USE_SPUTNIK = False\n",
    "\n",
    "\n",
    "import dill\n",
    "import torch\n",
    "from storage import Storage\n",
    "prefix = \"results_big_model_GOOD_2022-05-15\"\n",
    "print(\"ADD RESULTS \")\n",
    "with open(f\"{prefix}/some_model_CLASS.dill\", \"rb\") as file:\n",
    "    Model = dill.load(file)\n",
    "model = torch.load(f\"{prefix}/some_model.pt\", map_location=torch.device('cpu')) #).v1\", map_location=torch.device('cuda:0'))\n",
    "\n",
    "with open(f\"{prefix}/storage_path.dill\", \"rb\") as file:\n",
    "    storage_path = dill.load(file)\n",
    "\n",
    "\n",
    "storage = Storage(str(storage_path))\n",
    "params = storage.get_meta(\"params\")\n",
    "x_test = storage.get(\"x\", 0).float()\n",
    "print(x_test.shape)\n",
    "\n",
    "dummy_input = x_test[0:10]\n",
    "print(dummy_input.shape)\n",
    "\n",
    "\n",
    "from xformers.components.attention.attention_patterns import (\n",
    "    local_1d_pattern)\n",
    "from xformers.components.attention.core import scaled_dot_product_attention\n",
    "\n",
    "for i in [3, 4, 5, 6, 7]:\n",
    "    att = list(model.children())[0][i].wrap_att.layer.sublayer.children().__next__()\n",
    "    # att._get_local_mask = lambda shape: local_1d_pattern(shape[1], att.window_size * 3).to_sparse()\n",
    "    att.forward = lambda q, k, v, att_mask: scaled_dot_product_attention(\n",
    "            q=q, k=k, v=v, \n",
    "            att_mask= local_1d_pattern(q.shape[1], att.window_size * 3).to_sparse() & att_mask, \n",
    "            dropout=att.attn_drop\n",
    "        )\n",
    "    att.attention_mask = None\n",
    "\n",
    "\n",
    "# dataset_mem_reader =\n",
    "with torch.no_grad():\n",
    "    print(model(x_test))"
   ]
  },
  {
   "cell_type": "code",
   "execution_count": 23,
   "metadata": {},
   "outputs": [
    {
     "name": "stdout",
     "output_type": "stream",
     "text": [
      "tensor([[-1.7760,  1.6977, -1.7477],\n",
      "        [-1.8823,  1.5165, -1.8250],\n",
      "        [ 0.6482, -1.0438, -3.3550],\n",
      "        ...,\n",
      "        [ 0.7262, -0.2323, -4.8659],\n",
      "        [ 2.0915, -0.6271, -6.7218],\n",
      "        [ 2.0524, -0.7290, -6.8905]])\n"
     ]
    }
   ],
   "source": [
    "with torch.no_grad():\n",
    "    print(model(x_test))"
   ]
  },
  {
   "cell_type": "code",
   "execution_count": 2,
   "metadata": {},
   "outputs": [],
   "source": []
  },
  {
   "cell_type": "code",
   "execution_count": 18,
   "metadata": {},
   "outputs": [
    {
     "data": {
      "text/plain": [
       "Sequential(\n",
       "  (0): Linear(in_features=489, out_features=512, bias=True)\n",
       "  (1): BatchNorm1d(32, eps=1e-05, momentum=0.1, affine=True, track_running_stats=True)\n",
       "  (2): ReLU()\n",
       "  (3): xFormerEncoderBlock(\n",
       "    (pose_encoding): SinePositionalEmbedding()\n",
       "    (wrap_att): Residual(\n",
       "      (layer): PreNorm(\n",
       "        (norm): FusedLayerNorm()\n",
       "        (sublayer): MultiHeadDispatch(\n",
       "          (attention): LocalAttention(\n",
       "            (attn_drop): Dropout(p=0.1, inplace=False)\n",
       "          )\n",
       "          (in_proj_container): InputProjection(\n",
       "            (q_proj): Linear(in_features=512, out_features=512, bias=True)\n",
       "            (k_proj): Linear(in_features=512, out_features=512, bias=True)\n",
       "            (v_proj): Linear(in_features=512, out_features=512, bias=True)\n",
       "          )\n",
       "          (resid_drop): Dropout(p=0.0, inplace=False)\n",
       "          (proj): Linear(in_features=512, out_features=512, bias=True)\n",
       "        )\n",
       "      )\n",
       "    )\n",
       "    (wrap_ff): PostNorm(\n",
       "      (norm): FusedLayerNorm()\n",
       "      (sublayer): Residual(\n",
       "        (layer): PreNorm(\n",
       "          (norm): FusedLayerNorm()\n",
       "          (sublayer): MLP(\n",
       "            (mlp): Sequential(\n",
       "              (0): Linear(in_features=512, out_features=512, bias=True)\n",
       "              (1): GELU(approximate='none')\n",
       "              (2): Dropout(p=0.0, inplace=False)\n",
       "              (3): Linear(in_features=512, out_features=512, bias=True)\n",
       "              (4): Dropout(p=0.0, inplace=False)\n",
       "            )\n",
       "          )\n",
       "        )\n",
       "      )\n",
       "    )\n",
       "  )\n",
       "  (4): xFormerEncoderBlock(\n",
       "    (pose_encoding): SinePositionalEmbedding()\n",
       "    (wrap_att): Residual(\n",
       "      (layer): PreNorm(\n",
       "        (norm): FusedLayerNorm()\n",
       "        (sublayer): MultiHeadDispatch(\n",
       "          (attention): LocalAttention(\n",
       "            (attn_drop): Dropout(p=0.1, inplace=False)\n",
       "          )\n",
       "          (in_proj_container): InputProjection(\n",
       "            (q_proj): Linear(in_features=512, out_features=512, bias=True)\n",
       "            (k_proj): Linear(in_features=512, out_features=512, bias=True)\n",
       "            (v_proj): Linear(in_features=512, out_features=512, bias=True)\n",
       "          )\n",
       "          (resid_drop): Dropout(p=0.0, inplace=False)\n",
       "          (proj): Linear(in_features=512, out_features=512, bias=True)\n",
       "        )\n",
       "      )\n",
       "    )\n",
       "    (wrap_ff): PostNorm(\n",
       "      (norm): FusedLayerNorm()\n",
       "      (sublayer): Residual(\n",
       "        (layer): PreNorm(\n",
       "          (norm): FusedLayerNorm()\n",
       "          (sublayer): MLP(\n",
       "            (mlp): Sequential(\n",
       "              (0): Linear(in_features=512, out_features=512, bias=True)\n",
       "              (1): GELU(approximate='none')\n",
       "              (2): Dropout(p=0.0, inplace=False)\n",
       "              (3): Linear(in_features=512, out_features=512, bias=True)\n",
       "              (4): Dropout(p=0.0, inplace=False)\n",
       "            )\n",
       "          )\n",
       "        )\n",
       "      )\n",
       "    )\n",
       "  )\n",
       "  (5): xFormerEncoderBlock(\n",
       "    (pose_encoding): SinePositionalEmbedding()\n",
       "    (wrap_att): Residual(\n",
       "      (layer): PreNorm(\n",
       "        (norm): FusedLayerNorm()\n",
       "        (sublayer): MultiHeadDispatch(\n",
       "          (attention): LocalAttention(\n",
       "            (attn_drop): Dropout(p=0.1, inplace=False)\n",
       "          )\n",
       "          (in_proj_container): InputProjection(\n",
       "            (q_proj): Linear(in_features=512, out_features=512, bias=True)\n",
       "            (k_proj): Linear(in_features=512, out_features=512, bias=True)\n",
       "            (v_proj): Linear(in_features=512, out_features=512, bias=True)\n",
       "          )\n",
       "          (resid_drop): Dropout(p=0.0, inplace=False)\n",
       "          (proj): Linear(in_features=512, out_features=512, bias=True)\n",
       "        )\n",
       "      )\n",
       "    )\n",
       "    (wrap_ff): PostNorm(\n",
       "      (norm): FusedLayerNorm()\n",
       "      (sublayer): Residual(\n",
       "        (layer): PreNorm(\n",
       "          (norm): FusedLayerNorm()\n",
       "          (sublayer): MLP(\n",
       "            (mlp): Sequential(\n",
       "              (0): Linear(in_features=512, out_features=512, bias=True)\n",
       "              (1): GELU(approximate='none')\n",
       "              (2): Dropout(p=0.0, inplace=False)\n",
       "              (3): Linear(in_features=512, out_features=512, bias=True)\n",
       "              (4): Dropout(p=0.0, inplace=False)\n",
       "            )\n",
       "          )\n",
       "        )\n",
       "      )\n",
       "    )\n",
       "  )\n",
       "  (6): xFormerEncoderBlock(\n",
       "    (pose_encoding): SinePositionalEmbedding()\n",
       "    (wrap_att): Residual(\n",
       "      (layer): PreNorm(\n",
       "        (norm): FusedLayerNorm()\n",
       "        (sublayer): MultiHeadDispatch(\n",
       "          (attention): LocalAttention(\n",
       "            (attn_drop): Dropout(p=0.1, inplace=False)\n",
       "          )\n",
       "          (in_proj_container): InputProjection(\n",
       "            (q_proj): Linear(in_features=512, out_features=512, bias=True)\n",
       "            (k_proj): Linear(in_features=512, out_features=512, bias=True)\n",
       "            (v_proj): Linear(in_features=512, out_features=512, bias=True)\n",
       "          )\n",
       "          (resid_drop): Dropout(p=0.0, inplace=False)\n",
       "          (proj): Linear(in_features=512, out_features=512, bias=True)\n",
       "        )\n",
       "      )\n",
       "    )\n",
       "    (wrap_ff): PostNorm(\n",
       "      (norm): FusedLayerNorm()\n",
       "      (sublayer): Residual(\n",
       "        (layer): PreNorm(\n",
       "          (norm): FusedLayerNorm()\n",
       "          (sublayer): MLP(\n",
       "            (mlp): Sequential(\n",
       "              (0): Linear(in_features=512, out_features=512, bias=True)\n",
       "              (1): GELU(approximate='none')\n",
       "              (2): Dropout(p=0.0, inplace=False)\n",
       "              (3): Linear(in_features=512, out_features=512, bias=True)\n",
       "              (4): Dropout(p=0.0, inplace=False)\n",
       "            )\n",
       "          )\n",
       "        )\n",
       "      )\n",
       "    )\n",
       "  )\n",
       "  (7): xFormerEncoderBlock(\n",
       "    (pose_encoding): SinePositionalEmbedding()\n",
       "    (wrap_att): Residual(\n",
       "      (layer): PreNorm(\n",
       "        (norm): FusedLayerNorm()\n",
       "        (sublayer): MultiHeadDispatch(\n",
       "          (attention): LocalAttention(\n",
       "            (attn_drop): Dropout(p=0.1, inplace=False)\n",
       "          )\n",
       "          (in_proj_container): InputProjection(\n",
       "            (q_proj): Linear(in_features=512, out_features=512, bias=True)\n",
       "            (k_proj): Linear(in_features=512, out_features=512, bias=True)\n",
       "            (v_proj): Linear(in_features=512, out_features=512, bias=True)\n",
       "          )\n",
       "          (resid_drop): Dropout(p=0.0, inplace=False)\n",
       "          (proj): Linear(in_features=512, out_features=512, bias=True)\n",
       "        )\n",
       "      )\n",
       "    )\n",
       "    (wrap_ff): PostNorm(\n",
       "      (norm): FusedLayerNorm()\n",
       "      (sublayer): Residual(\n",
       "        (layer): PreNorm(\n",
       "          (norm): FusedLayerNorm()\n",
       "          (sublayer): MLP(\n",
       "            (mlp): Sequential(\n",
       "              (0): Linear(in_features=512, out_features=512, bias=True)\n",
       "              (1): GELU(approximate='none')\n",
       "              (2): Dropout(p=0.0, inplace=False)\n",
       "              (3): Linear(in_features=512, out_features=512, bias=True)\n",
       "              (4): Dropout(p=0.0, inplace=False)\n",
       "            )\n",
       "          )\n",
       "        )\n",
       "      )\n",
       "    )\n",
       "  )\n",
       "  (8): xFormerEncoderBlock(\n",
       "    (pose_encoding): SinePositionalEmbedding()\n",
       "    (wrap_att): Residual(\n",
       "      (layer): PreNorm(\n",
       "        (norm): FusedLayerNorm()\n",
       "        (sublayer): MultiHeadDispatch(\n",
       "          (attention): ScaledDotProduct(\n",
       "            (attn_drop): Dropout(p=0.1, inplace=False)\n",
       "          )\n",
       "          (in_proj_container): InputProjection(\n",
       "            (q_proj): Linear(in_features=512, out_features=512, bias=True)\n",
       "            (k_proj): Linear(in_features=512, out_features=512, bias=True)\n",
       "            (v_proj): Linear(in_features=512, out_features=512, bias=True)\n",
       "          )\n",
       "          (resid_drop): Dropout(p=0.0, inplace=False)\n",
       "          (proj): Linear(in_features=512, out_features=512, bias=True)\n",
       "        )\n",
       "      )\n",
       "    )\n",
       "    (wrap_ff): PostNorm(\n",
       "      (norm): FusedLayerNorm()\n",
       "      (sublayer): Residual(\n",
       "        (layer): PreNorm(\n",
       "          (norm): FusedLayerNorm()\n",
       "          (sublayer): MLP(\n",
       "            (mlp): Sequential(\n",
       "              (0): Linear(in_features=512, out_features=512, bias=True)\n",
       "              (1): GELU(approximate='none')\n",
       "              (2): Dropout(p=0.0, inplace=False)\n",
       "              (3): Linear(in_features=512, out_features=512, bias=True)\n",
       "              (4): Dropout(p=0.0, inplace=False)\n",
       "            )\n",
       "          )\n",
       "        )\n",
       "      )\n",
       "    )\n",
       "  )\n",
       "  (9): BatchNorm1d(32, eps=1e-05, momentum=0.1, affine=True, track_running_stats=True)\n",
       "  (10): Linear(in_features=512, out_features=16, bias=True)\n",
       "  (11): BatchNorm1d(32, eps=1e-05, momentum=0.1, affine=True, track_running_stats=True)\n",
       "  (12): ReLU()\n",
       "  (13): Flatten(start_dim=1, end_dim=-1)\n",
       "  (14): Linear(in_features=512, out_features=3, bias=True)\n",
       ")"
      ]
     },
     "execution_count": 18,
     "metadata": {},
     "output_type": "execute_result"
    }
   ],
   "source": [
    "list(model.children())[0]"
   ]
  },
  {
   "cell_type": "code",
   "execution_count": 19,
   "metadata": {},
   "outputs": [
    {
     "ename": "TypeError",
     "evalue": "'xFormerEncoderBlock' object is not subscriptable",
     "output_type": "error",
     "traceback": [
      "\u001b[0;31m---------------------------------------------------------------------------\u001b[0m",
      "\u001b[0;31mTypeError\u001b[0m                                 Traceback (most recent call last)",
      "Cell \u001b[0;32mIn[19], line 1\u001b[0m\n\u001b[0;32m----> 1\u001b[0m \u001b[39mlist\u001b[39;49m(model\u001b[39m.\u001b[39;49mchildren())[\u001b[39m0\u001b[39;49m][\u001b[39m3\u001b[39;49m][\u001b[39m1\u001b[39;49m][\u001b[39m0\u001b[39m][\u001b[39m0\u001b[39m]\n",
      "\u001b[0;31mTypeError\u001b[0m: 'xFormerEncoderBlock' object is not subscriptable"
     ]
    }
   ],
   "source": [
    "list(model.children())[0][3][1][0][0]"
   ]
  },
  {
   "cell_type": "code",
   "execution_count": 21,
   "metadata": {},
   "outputs": [
    {
     "data": {
      "text/plain": [
       "LocalAttention(\n",
       "  (attn_drop): Dropout(p=0.1, inplace=False)\n",
       ")"
      ]
     },
     "execution_count": 21,
     "metadata": {},
     "output_type": "execute_result"
    }
   ],
   "source": []
  }
 ],
 "metadata": {
  "kernelspec": {
   "display_name": "Python 3.10.4 64-bit",
   "language": "python",
   "name": "python3"
  },
  "language_info": {
   "codemirror_mode": {
    "name": "ipython",
    "version": 3
   },
   "file_extension": ".py",
   "mimetype": "text/x-python",
   "name": "python",
   "nbconvert_exporter": "python",
   "pygments_lexer": "ipython3",
   "version": "3.8.10"
  },
  "orig_nbformat": 4,
  "vscode": {
   "interpreter": {
    "hash": "767d51c1340bd893661ea55ea3124f6de3c7a262a8b4abca0554b478b1e2ff90"
   }
  }
 },
 "nbformat": 4,
 "nbformat_minor": 2
}
